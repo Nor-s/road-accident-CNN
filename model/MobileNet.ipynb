{
 "cells": [
  {
   "cell_type": "code",
   "execution_count": 1,
   "metadata": {},
   "outputs": [],
   "source": [
    "import tensorflow as tf\n",
    "from tensorflow.keras.layers import Flatten, Reshape, Conv2D, Conv1D\n",
    "from tensorflow.keras import models\n",
    "import matplotlib.pyplot as plt\n",
    "from tensorflow.python.client import device_lib\n",
    "device_lib.list_local_devices()\n",
    "import os\n",
    "import numpy as np\n",
    "from tensorflow.keras.preprocessing.image import ImageDataGenerator\n",
    "from tensorflow.keras.preprocessing import image\n",
    "from tensorflow.keras.models import Model\n",
    "from tensorflow.keras.layers import Input, Flatten, Dense, GlobalAveragePooling2D\n",
    "from tensorflow.keras.applications.vgg16 import VGG16, preprocess_input\n",
    "import math\n",
    "import numpy as np\n",
    " \n",
    "os.environ[\"CUDA_VISIBLE_DEVICES\"] = \"0\""
   ]
  },
  {
   "cell_type": "code",
   "execution_count": 2,
   "metadata": {},
   "outputs": [],
   "source": [
    "NAME = 'for_generator_korean(3_label)'\n",
    "TRAIN_DATA_DIR = f'../../data/{NAME}/train'\n",
    "VALIDATION_DATA_DIR = f'../../data/{NAME}/val'\n",
    "TEST_DATA_DIR = f'../../data/{NAME}/test'\n",
    " \n",
    "TRAIN_SAMPLES = 16284 \n",
    "VALIDATION_SAMPLES = 2036\n",
    "NUM_CLASSES = 2\n",
    "IMG_WIDTH, IMG_HEIGHT = 224, 224\n",
    "BATCH_SIZE = 64\n",
    "EPOCH = 30"
   ]
  },
  {
   "cell_type": "code",
   "execution_count": 3,
   "metadata": {},
   "outputs": [
    {
     "name": "stdout",
     "output_type": "stream",
     "text": [
      "Found 16284 images belonging to 3 classes.\n",
      "Found 2034 images belonging to 3 classes.\n"
     ]
    }
   ],
   "source": [
    "train_datagen = ImageDataGenerator(preprocessing_function=preprocess_input,\n",
    "                                   rotation_range=20,\n",
    "                                   width_shift_range=0.2,\n",
    "                                   height_shift_range=0.2,\n",
    "                                   zoom_range=0.2)\n",
    " \n",
    "val_datagen = ImageDataGenerator(preprocessing_function=preprocess_input)\n",
    "train_generator = train_datagen.flow_from_directory(TRAIN_DATA_DIR,\n",
    "                                                    target_size=(IMG_WIDTH,\n",
    "                                                                 IMG_HEIGHT),\n",
    "                                                    batch_size=BATCH_SIZE,\n",
    "                                                    shuffle=True,\n",
    "                                                    seed=12345,\n",
    "                                                    class_mode='categorical')\n",
    " \n",
    "validation_generator = val_datagen.flow_from_directory(\n",
    "    VALIDATION_DATA_DIR,\n",
    "    target_size=(IMG_WIDTH, IMG_HEIGHT),\n",
    "    batch_size=BATCH_SIZE,\n",
    "    shuffle=False,\n",
    "    class_mode='categorical')"
   ]
  },
  {
   "cell_type": "markdown",
   "metadata": {},
   "source": [
    "학습"
   ]
  },
  {
   "cell_type": "code",
   "execution_count": 4,
   "metadata": {},
   "outputs": [
    {
     "name": "stdout",
     "output_type": "stream",
     "text": [
      "154\n",
      "freeze:  input_1 True\n",
      "freeze:  Conv1 True\n",
      "freeze:  bn_Conv1 True\n",
      "freeze:  Conv1_relu True\n",
      "freeze:  expanded_conv_depthwise True\n",
      "freeze:  expanded_conv_depthwise_BN True\n",
      "freeze:  expanded_conv_depthwise_relu True\n",
      "freeze:  expanded_conv_project True\n",
      "freeze:  expanded_conv_project_BN True\n",
      "freeze:  block_1_expand True\n",
      "freeze:  block_1_expand_BN True\n",
      "freeze:  block_1_expand_relu True\n",
      "freeze:  block_1_pad True\n",
      "freeze:  block_1_depthwise True\n",
      "freeze:  block_1_depthwise_BN True\n",
      "freeze:  block_1_depthwise_relu True\n",
      "freeze:  block_1_project True\n",
      "freeze:  block_1_project_BN True\n",
      "freeze:  block_2_expand True\n",
      "freeze:  block_2_expand_BN True\n",
      "freeze:  block_2_expand_relu True\n",
      "freeze:  block_2_depthwise True\n",
      "freeze:  block_2_depthwise_BN True\n",
      "freeze:  block_2_depthwise_relu True\n",
      "freeze:  block_2_project True\n",
      "freeze:  block_2_project_BN True\n",
      "freeze:  block_2_add True\n",
      "freeze:  block_3_expand True\n",
      "freeze:  block_3_expand_BN True\n",
      "freeze:  block_3_expand_relu True\n",
      "freeze:  block_3_pad True\n",
      "freeze:  block_3_depthwise True\n",
      "freeze:  block_3_depthwise_BN True\n",
      "freeze:  block_3_depthwise_relu True\n",
      "freeze:  block_3_project True\n",
      "freeze:  block_3_project_BN True\n",
      "freeze:  block_4_expand True\n",
      "freeze:  block_4_expand_BN True\n",
      "freeze:  block_4_expand_relu True\n",
      "freeze:  block_4_depthwise True\n",
      "freeze:  block_4_depthwise_BN True\n",
      "freeze:  block_4_depthwise_relu True\n",
      "freeze:  block_4_project True\n",
      "freeze:  block_4_project_BN True\n",
      "freeze:  block_4_add True\n",
      "freeze:  block_5_expand True\n",
      "freeze:  block_5_expand_BN True\n",
      "freeze:  block_5_expand_relu True\n",
      "freeze:  block_5_depthwise True\n",
      "freeze:  block_5_depthwise_BN True\n",
      "freeze:  block_5_depthwise_relu True\n",
      "freeze:  block_5_project True\n",
      "freeze:  block_5_project_BN True\n",
      "freeze:  block_5_add True\n",
      "freeze:  block_6_expand True\n",
      "freeze:  block_6_expand_BN True\n",
      "freeze:  block_6_expand_relu True\n",
      "freeze:  block_6_pad True\n",
      "freeze:  block_6_depthwise True\n",
      "freeze:  block_6_depthwise_BN True\n",
      "freeze:  block_6_depthwise_relu True\n",
      "freeze:  block_6_project True\n",
      "freeze:  block_6_project_BN True\n",
      "freeze:  block_7_expand True\n",
      "freeze:  block_7_expand_BN True\n",
      "freeze:  block_7_expand_relu True\n",
      "freeze:  block_7_depthwise True\n",
      "freeze:  block_7_depthwise_BN True\n",
      "freeze:  block_7_depthwise_relu True\n",
      "freeze:  block_7_project True\n",
      "freeze:  block_7_project_BN True\n",
      "freeze:  block_7_add True\n",
      "freeze:  block_8_expand True\n",
      "freeze:  block_8_expand_BN True\n",
      "freeze:  block_8_expand_relu True\n",
      "freeze:  block_8_depthwise True\n",
      "freeze:  block_8_depthwise_BN True\n",
      "freeze:  block_8_depthwise_relu True\n",
      "freeze:  block_8_project True\n",
      "freeze:  block_8_project_BN True\n",
      "freeze:  block_8_add True\n",
      "freeze:  block_9_expand True\n",
      "freeze:  block_9_expand_BN True\n",
      "freeze:  block_9_expand_relu True\n",
      "freeze:  block_9_depthwise True\n",
      "freeze:  block_9_depthwise_BN True\n",
      "freeze:  block_9_depthwise_relu True\n",
      "freeze:  block_9_project True\n",
      "freeze:  block_9_project_BN True\n",
      "freeze:  block_9_add True\n",
      "freeze:  block_10_expand True\n",
      "freeze:  block_10_expand_BN True\n",
      "freeze:  block_10_expand_relu True\n",
      "freeze:  block_10_depthwise True\n",
      "freeze:  block_10_depthwise_BN True\n",
      "freeze:  block_10_depthwise_relu True\n",
      "freeze:  block_10_project True\n",
      "freeze:  block_10_project_BN True\n",
      "freeze:  block_11_expand True\n",
      "freeze:  block_11_expand_BN True\n",
      "Model: \"model\"\n",
      "_________________________________________________________________\n",
      " Layer (type)                Output Shape              Param #   \n",
      "=================================================================\n",
      " input_2 (InputLayer)        [(None, 224, 224, 3)]     0         \n",
      "                                                                 \n",
      " mobilenetv2_1.00_224 (Funct  (None, 7, 7, 1280)       2257984   \n",
      " ional)                                                          \n",
      "                                                                 \n",
      " global_average_pooling2d (G  (None, 1280)             0         \n",
      " lobalAveragePooling2D)                                          \n",
      "                                                                 \n",
      " dropout (Dropout)           (None, 1280)              0         \n",
      "                                                                 \n",
      " dense (Dense)               (None, 32)                40992     \n",
      "                                                                 \n",
      " dense_1 (Dense)             (None, 3)                 99        \n",
      "                                                                 \n",
      "=================================================================\n",
      "Total params: 2,299,075\n",
      "Trainable params: 1,902,531\n",
      "Non-trainable params: 396,544\n",
      "_________________________________________________________________\n"
     ]
    }
   ],
   "source": [
    "def model_maker(num_class, input_shape=(224, 224, 3)):\n",
    "    # model = VGG16(weights='imagenet', include_top=True)\n",
    "    base_model = tf.keras.applications.MobileNetV2(include_top=False, input_shape=input_shape, weights='imagenet')\n",
    "    print(len(base_model.layers))\n",
    " \n",
    "    # for layer in base_model.layers[:]:\n",
    "        # layer.trainable = False\n",
    "    for layer in base_model.layers[:100]:\n",
    "        print('freeze: ', layer.name , str(layer.trainable))\n",
    "        layer.trainable = False \n",
    " \n",
    "    input = tf.keras.Input(shape=input_shape)\n",
    "    custom_model = base_model(input)\n",
    "    custom_model = tf.keras.layers.GlobalAveragePooling2D()(custom_model)\n",
    "    custom_model = tf.keras.layers.Dropout(0.2)(custom_model)\n",
    "    custom_model = tf.keras.layers.Dense(32, activation='relu')(custom_model)\n",
    "    predictions = tf.keras.layers.Dense(num_class, activation='softmax')(custom_model)\n",
    "    \n",
    "    return tf.keras.Model(inputs=input, outputs=predictions)\n",
    "\n",
    "model_final = model_maker(3, input_shape=(224, 224, 3))\n",
    "model_final.summary()\n",
    "model_final.compile(loss='categorical_crossentropy',\n",
    "              optimizer=tf.keras.optimizers.Adam(0.0001),\n",
    "              metrics=['acc'])"
   ]
  },
  {
   "cell_type": "code",
   "execution_count": 5,
   "metadata": {},
   "outputs": [
    {
     "name": "stdout",
     "output_type": "stream",
     "text": [
      "Epoch 1/30\n",
      "254/254 [==============================] - ETA: 0s - loss: 0.9426 - acc: 0.5659\n",
      "Epoch 1: val_acc improved from -inf to 0.41835, saving model to ./for_generator_korean(3_label)_MobileNet\\cp-0030.ckpt\n",
      "254/254 [==============================] - 211s 808ms/step - loss: 0.9426 - acc: 0.5659 - val_loss: 1.6052 - val_acc: 0.4183\n",
      "Epoch 2/30\n",
      "254/254 [==============================] - ETA: 0s - loss: 0.9006 - acc: 0.6013\n",
      "Epoch 2: val_acc improved from 0.41835 to 0.43347, saving model to ./for_generator_korean(3_label)_MobileNet\\cp-0030.ckpt\n",
      "254/254 [==============================] - 157s 620ms/step - loss: 0.9006 - acc: 0.6013 - val_loss: 1.3535 - val_acc: 0.4335\n",
      "Epoch 3/30\n",
      "254/254 [==============================] - ETA: 0s - loss: 0.8884 - acc: 0.6058\n",
      "Epoch 3: val_acc did not improve from 0.43347\n",
      "254/254 [==============================] - 151s 592ms/step - loss: 0.8884 - acc: 0.6058 - val_loss: 1.6550 - val_acc: 0.4133\n",
      "Epoch 4/30\n",
      "254/254 [==============================] - ETA: 0s - loss: 0.8854 - acc: 0.6119\n",
      "Epoch 4: val_acc improved from 0.43347 to 0.44506, saving model to ./for_generator_korean(3_label)_MobileNet\\cp-0030.ckpt\n",
      "254/254 [==============================] - 151s 593ms/step - loss: 0.8854 - acc: 0.6119 - val_loss: 1.3552 - val_acc: 0.4451\n",
      "Epoch 5/30\n",
      "254/254 [==============================] - ETA: 0s - loss: 0.8767 - acc: 0.6165\n",
      "Epoch 5: val_acc improved from 0.44506 to 0.47480, saving model to ./for_generator_korean(3_label)_MobileNet\\cp-0030.ckpt\n",
      "254/254 [==============================] - 149s 587ms/step - loss: 0.8767 - acc: 0.6165 - val_loss: 1.1938 - val_acc: 0.4748\n",
      "Epoch 6/30\n",
      "254/254 [==============================] - ETA: 0s - loss: 0.8734 - acc: 0.6197\n",
      "Epoch 6: val_acc improved from 0.47480 to 0.53377, saving model to ./for_generator_korean(3_label)_MobileNet\\cp-0030.ckpt\n",
      "254/254 [==============================] - 148s 584ms/step - loss: 0.8734 - acc: 0.6197 - val_loss: 1.0773 - val_acc: 0.5338\n",
      "Epoch 7/30\n",
      "254/254 [==============================] - ETA: 0s - loss: 0.8650 - acc: 0.6200\n",
      "Epoch 7: val_acc improved from 0.53377 to 0.56956, saving model to ./for_generator_korean(3_label)_MobileNet\\cp-0030.ckpt\n",
      "254/254 [==============================] - 147s 579ms/step - loss: 0.8650 - acc: 0.6200 - val_loss: 0.9902 - val_acc: 0.5696\n",
      "Epoch 8/30\n",
      "254/254 [==============================] - ETA: 0s - loss: 0.8601 - acc: 0.6204\n",
      "Epoch 8: val_acc improved from 0.56956 to 0.61290, saving model to ./for_generator_korean(3_label)_MobileNet\\cp-0030.ckpt\n",
      "254/254 [==============================] - 147s 577ms/step - loss: 0.8601 - acc: 0.6204 - val_loss: 0.8873 - val_acc: 0.6129\n",
      "Epoch 9/30\n",
      "254/254 [==============================] - ETA: 0s - loss: 0.8521 - acc: 0.6256\n",
      "Epoch 9: val_acc did not improve from 0.61290\n",
      "254/254 [==============================] - 155s 610ms/step - loss: 0.8521 - acc: 0.6256 - val_loss: 0.9523 - val_acc: 0.5927\n",
      "Epoch 10/30\n",
      "254/254 [==============================] - ETA: 0s - loss: 0.8489 - acc: 0.6275\n",
      "Epoch 10: val_acc improved from 0.61290 to 0.63508, saving model to ./for_generator_korean(3_label)_MobileNet\\cp-0030.ckpt\n",
      "254/254 [==============================] - 145s 571ms/step - loss: 0.8489 - acc: 0.6275 - val_loss: 0.8493 - val_acc: 0.6351\n",
      "Epoch 11/30\n",
      "254/254 [==============================] - ETA: 0s - loss: 0.8465 - acc: 0.6305\n",
      "Epoch 11: val_acc did not improve from 0.63508\n",
      "254/254 [==============================] - 146s 574ms/step - loss: 0.8465 - acc: 0.6305 - val_loss: 0.8870 - val_acc: 0.6149\n",
      "Epoch 12/30\n",
      "254/254 [==============================] - ETA: 0s - loss: 0.8407 - acc: 0.6338\n",
      "Epoch 12: val_acc did not improve from 0.63508\n",
      "254/254 [==============================] - 146s 574ms/step - loss: 0.8407 - acc: 0.6338 - val_loss: 0.8585 - val_acc: 0.6341\n",
      "Epoch 13/30\n",
      "254/254 [==============================] - ETA: 0s - loss: 0.8336 - acc: 0.6350\n",
      "Epoch 13: val_acc did not improve from 0.63508\n",
      "254/254 [==============================] - 146s 574ms/step - loss: 0.8336 - acc: 0.6350 - val_loss: 0.8643 - val_acc: 0.6275\n",
      "Epoch 14/30\n",
      "254/254 [==============================] - ETA: 0s - loss: 0.8307 - acc: 0.6406\n",
      "Epoch 14: val_acc improved from 0.63508 to 0.63861, saving model to ./for_generator_korean(3_label)_MobileNet\\cp-0030.ckpt\n",
      "254/254 [==============================] - 146s 573ms/step - loss: 0.8307 - acc: 0.6406 - val_loss: 0.8530 - val_acc: 0.6386\n",
      "Epoch 15/30\n",
      "254/254 [==============================] - ETA: 0s - loss: 0.8247 - acc: 0.6408\n",
      "Epoch 15: val_acc did not improve from 0.63861\n",
      "254/254 [==============================] - 145s 572ms/step - loss: 0.8247 - acc: 0.6408 - val_loss: 0.8757 - val_acc: 0.6134\n",
      "Epoch 16/30\n",
      "254/254 [==============================] - ETA: 0s - loss: 0.8248 - acc: 0.6423\n",
      "Epoch 16: val_acc did not improve from 0.63861\n",
      "254/254 [==============================] - 144s 565ms/step - loss: 0.8248 - acc: 0.6423 - val_loss: 0.8810 - val_acc: 0.6200\n",
      "Epoch 17/30\n",
      "254/254 [==============================] - ETA: 0s - loss: 0.8160 - acc: 0.6456\n",
      "Epoch 17: val_acc did not improve from 0.63861\n",
      "254/254 [==============================] - 148s 582ms/step - loss: 0.8160 - acc: 0.6456 - val_loss: 0.8737 - val_acc: 0.6366\n",
      "Epoch 18/30\n",
      "254/254 [==============================] - ETA: 0s - loss: 0.8101 - acc: 0.6471\n",
      "Epoch 18: val_acc did not improve from 0.63861\n",
      "254/254 [==============================] - 142s 560ms/step - loss: 0.8101 - acc: 0.6471 - val_loss: 0.8694 - val_acc: 0.6210\n",
      "Epoch 19/30\n",
      "254/254 [==============================] - ETA: 0s - loss: 0.8048 - acc: 0.6457\n",
      "Epoch 19: val_acc did not improve from 0.63861\n",
      "254/254 [==============================] - 144s 566ms/step - loss: 0.8048 - acc: 0.6457 - val_loss: 0.8951 - val_acc: 0.6245\n",
      "Epoch 20/30\n",
      "254/254 [==============================] - ETA: 0s - loss: 0.8014 - acc: 0.6532\n",
      "Epoch 20: val_acc did not improve from 0.63861\n",
      "254/254 [==============================] - 145s 571ms/step - loss: 0.8014 - acc: 0.6532 - val_loss: 0.8989 - val_acc: 0.6043\n",
      "Epoch 21/30\n",
      "254/254 [==============================] - ETA: 0s - loss: 0.7987 - acc: 0.6527\n",
      "Epoch 21: val_acc did not improve from 0.63861\n",
      "254/254 [==============================] - 143s 562ms/step - loss: 0.7987 - acc: 0.6527 - val_loss: 0.8773 - val_acc: 0.6305\n",
      "Epoch 22/30\n",
      "254/254 [==============================] - ETA: 0s - loss: 0.7893 - acc: 0.6594\n",
      "Epoch 22: val_acc did not improve from 0.63861\n",
      "254/254 [==============================] - 152s 600ms/step - loss: 0.7893 - acc: 0.6594 - val_loss: 0.8858 - val_acc: 0.6215\n",
      "Epoch 23/30\n",
      "254/254 [==============================] - ETA: 0s - loss: 0.7803 - acc: 0.6615\n",
      "Epoch 23: val_acc did not improve from 0.63861\n",
      "254/254 [==============================] - 148s 583ms/step - loss: 0.7803 - acc: 0.6615 - val_loss: 0.9329 - val_acc: 0.6058\n",
      "Epoch 24/30\n",
      "254/254 [==============================] - ETA: 0s - loss: 0.7784 - acc: 0.6637\n",
      "Epoch 24: val_acc did not improve from 0.63861\n",
      "254/254 [==============================] - 191s 751ms/step - loss: 0.7784 - acc: 0.6637 - val_loss: 0.9213 - val_acc: 0.6018\n",
      "Epoch 25/30\n",
      "254/254 [==============================] - ETA: 0s - loss: 0.7713 - acc: 0.6655\n",
      "Epoch 25: val_acc did not improve from 0.63861\n",
      "254/254 [==============================] - 157s 618ms/step - loss: 0.7713 - acc: 0.6655 - val_loss: 0.9335 - val_acc: 0.5988\n",
      "Epoch 26/30\n",
      "254/254 [==============================] - ETA: 0s - loss: 0.7687 - acc: 0.6694\n",
      "Epoch 26: val_acc did not improve from 0.63861\n",
      "254/254 [==============================] - 149s 586ms/step - loss: 0.7687 - acc: 0.6694 - val_loss: 0.9539 - val_acc: 0.6048\n",
      "Epoch 27/30\n",
      "254/254 [==============================] - ETA: 0s - loss: 0.7576 - acc: 0.6713\n",
      "Epoch 27: val_acc did not improve from 0.63861\n",
      "254/254 [==============================] - 150s 589ms/step - loss: 0.7576 - acc: 0.6713 - val_loss: 0.9663 - val_acc: 0.6089\n",
      "Epoch 28/30\n",
      "254/254 [==============================] - ETA: 0s - loss: 0.7578 - acc: 0.6733\n",
      "Epoch 28: val_acc did not improve from 0.63861\n",
      "254/254 [==============================] - 151s 595ms/step - loss: 0.7578 - acc: 0.6733 - val_loss: 1.0063 - val_acc: 0.5882\n",
      "Epoch 29/30\n",
      "254/254 [==============================] - ETA: 0s - loss: 0.7487 - acc: 0.6749\n",
      "Epoch 29: val_acc did not improve from 0.63861\n",
      "254/254 [==============================] - 149s 585ms/step - loss: 0.7487 - acc: 0.6749 - val_loss: 1.0002 - val_acc: 0.5917\n",
      "Epoch 30/30\n",
      "254/254 [==============================] - ETA: 0s - loss: 0.7453 - acc: 0.6752\n",
      "Epoch 30: val_acc did not improve from 0.63861\n",
      "254/254 [==============================] - 147s 580ms/step - loss: 0.7453 - acc: 0.6752 - val_loss: 0.9388 - val_acc: 0.6195\n"
     ]
    }
   ],
   "source": [
    "checkpoint_path = f\"./{NAME}_MobileNet/cp-{EPOCH:04d}.ckpt\"   # 3\n",
    "checkpoint_dir = os.path.dirname(checkpoint_path)\n",
    "cp_callback = tf.keras.callbacks.ModelCheckpoint(filepath=checkpoint_path,\n",
    "                                                 save_weights_only=True,\n",
    "                                                 verbose=1,\n",
    "                                                 monitor='val_acc',\n",
    "                                                 mode='max',\n",
    "                                                 save_best_only=True)\n",
    "\n",
    "# class_weight = {\n",
    "# 0: 0.2,\n",
    "# 1: 0.4,\n",
    "# 2: 0.4\n",
    "# }\n",
    "\n",
    "history = model_final.fit(\n",
    "    train_generator,\n",
    "    steps_per_epoch=TRAIN_SAMPLES // BATCH_SIZE, # number of updates\n",
    "    epochs=EPOCH,\n",
    "    validation_data=validation_generator,\n",
    "    validation_steps=VALIDATION_SAMPLES // BATCH_SIZE,\n",
    "    callbacks=[cp_callback ],\n",
    ")    # class_weight=class_weight)"
   ]
  },
  {
   "cell_type": "markdown",
   "metadata": {},
   "source": []
  },
  {
   "cell_type": "code",
   "execution_count": 6,
   "metadata": {},
   "outputs": [
    {
     "data": {
      "image/png": "[encoded data removed]",
      "text/plain": [
       "<Figure size 432x288 with 1 Axes>"
      ]
     },
     "metadata": {
      "needs_background": "light"
     },
     "output_type": "display_data"
    }
   ],
   "source": [
    "import matplotlib.pyplot as plt\n",
    "plt.plot(history.history['loss'])\n",
    "plt.plot(history.history['val_loss'])\n",
    "plt.xlabel('epoch')\n",
    "plt.ylabel('loss')\n",
    "plt.legend(['train','val'])\n",
    "plt.show()"
   ]
  },
  {
   "cell_type": "code",
   "execution_count": 7,
   "metadata": {},
   "outputs": [
    {
     "data": {
      "image/png": "[encoded data removed]",
      "text/plain": [
       "<Figure size 432x288 with 1 Axes>"
      ]
     },
     "metadata": {
      "needs_background": "light"
     },
     "output_type": "display_data"
    }
   ],
   "source": [
    "import matplotlib.pyplot as plt\n",
    "plt.plot(history.history['acc'])\n",
    "plt.plot(history.history['val_acc'])\n",
    "plt.xlabel('epoch')\n",
    "plt.ylabel('accuracy')\n",
    "plt.legend(['train','val'])\n",
    "plt.show()"
   ]
  },
  {
   "cell_type": "code",
   "execution_count": 8,
   "metadata": {},
   "outputs": [
    {
     "name": "stdout",
     "output_type": "stream",
     "text": [
      "Found 2036 images belonging to 3 classes.\n"
     ]
    }
   ],
   "source": [
    "test_datagen = ImageDataGenerator(preprocessing_function=preprocess_input)\n",
    " \n",
    "test_generator = val_datagen.flow_from_directory(\n",
    "    TEST_DATA_DIR,\n",
    "    target_size=(IMG_WIDTH, IMG_HEIGHT),\n",
    "    batch_size=BATCH_SIZE,\n",
    "    shuffle=False,\n",
    "    class_mode='categorical')"
   ]
  },
  {
   "cell_type": "code",
   "execution_count": 9,
   "metadata": {},
   "outputs": [
    {
     "name": "stdout",
     "output_type": "stream",
     "text": [
      "31/31 [==============================] - 9s 303ms/step - loss: 0.8404 - acc: 0.6436\n"
     ]
    },
    {
     "data": {
      "text/plain": [
       "[0.8404375910758972, 0.6436492204666138]"
      ]
     },
     "execution_count": 9,
     "metadata": {},
     "output_type": "execute_result"
    }
   ],
   "source": [
    "latest = tf.train.latest_checkpoint(checkpoint_dir)\n",
    "model_final.load_weights(latest)\n",
    "\n",
    "model_final.evaluate(test_generator, steps=VALIDATION_SAMPLES // BATCH_SIZE)\n"
   ]
  },
  {
   "cell_type": "code",
   "execution_count": 10,
   "metadata": {},
   "outputs": [
    {
     "name": "stderr",
     "output_type": "stream",
     "text": [
      "WARNING:absl:Found untraced functions such as _jit_compiled_convolution_op, _jit_compiled_convolution_op, _jit_compiled_convolution_op, _jit_compiled_convolution_op, _jit_compiled_convolution_op while saving (showing 5 of 52). These functions will not be directly callable after loading.\n"
     ]
    },
    {
     "name": "stdout",
     "output_type": "stream",
     "text": [
      "INFO:tensorflow:Assets written to: ./for_generator_korean(3_label)_MobileNet/MobileNet\\assets\n"
     ]
    },
    {
     "name": "stderr",
     "output_type": "stream",
     "text": [
      "INFO:tensorflow:Assets written to: ./for_generator_korean(3_label)_MobileNet/MobileNet\\assets\n"
     ]
    }
   ],
   "source": [
    "model_final.save(f'./{NAME}_MobileNet.h5')\n",
    "model_final.save(f'./{NAME}_MobileNet/MobileNet')"
   ]
  }
 ],
 "metadata": {
  "kernelspec": {
   "display_name": "Python 3.8.11 ('base')",
   "language": "python",
   "name": "python3"
  },
  "language_info": {
   "codemirror_mode": {
    "name": "ipython",
    "version": 3
   },
   "file_extension": ".py",
   "mimetype": "text/x-python",
   "name": "python",
   "nbconvert_exporter": "python",
   "pygments_lexer": "ipython3",
   "version": "3.8.11"
  },
  "orig_nbformat": 4,
  "vscode": {
   "interpreter": {
    "hash": "af8e2bc38c47ad2eb2801b8a1df8ba266ffc32d6dc21ae3dca26080e3882f8b5"
   }
  }
 },
 "nbformat": 4,
 "nbformat_minor": 2
}
