{
 "cells": [
  {
   "cell_type": "markdown",
   "metadata": {},
   "source": [
    "2022 Nor-s"
   ]
  },
  {
   "cell_type": "code",
   "execution_count": 9,
   "metadata": {},
   "outputs": [],
   "source": [
    "import tensorflow as tf\n",
    "from tensorflow.keras.layers import Flatten, Reshape, Conv2D, Conv1D\n",
    "from tensorflow.keras import models\n",
    "import matplotlib.pyplot as plt\n",
    "from tensorflow.python.client import device_lib\n",
    "device_lib.list_local_devices()\n",
    "import os\n",
    "import numpy as np\n",
    "from tensorflow.keras.preprocessing.image import ImageDataGenerator\n",
    "from tensorflow.keras.preprocessing import image\n",
    "from tensorflow.keras.models import Model\n",
    "from tensorflow.keras.layers import Input, Flatten, Dense, GlobalAveragePooling2D\n",
    "from tensorflow.keras.applications.vgg16 import VGG16, preprocess_input\n",
    "import math\n",
    "import numpy as np\n",
    " \n",
    "os.environ[\"CUDA_VISIBLE_DEVICES\"] = \"0\""
   ]
  },
  {
   "cell_type": "code",
   "execution_count": 10,
   "metadata": {},
   "outputs": [],
   "source": [
    "TRAIN_DATA_DIR = '../data/for_generator/train'\n",
    "VALIDATION_DATA_DIR = '../data/for_generator/val'\n",
    "TEST_DATA_DIR = '../data/for_generator/test'\n",
    " \n",
    "TRAIN_SAMPLES = 24000\n",
    "VALIDATION_SAMPLES = 3000\n",
    "NUM_CLASSES = 2\n",
    "IMG_WIDTH, IMG_HEIGHT = 112, 112\n",
    "BATCH_SIZE = 64"
   ]
  },
  {
   "cell_type": "code",
   "execution_count": 11,
   "metadata": {},
   "outputs": [],
   "source": [
    "def my_preprocess_input(image):\n",
    "    image = np.array(image)\n",
    "    converted_img = image/255\n",
    "    return converted_img"
   ]
  },
  {
   "cell_type": "code",
   "execution_count": 12,
   "metadata": {},
   "outputs": [],
   "source": [
    "train_datagen = ImageDataGenerator(\n",
    "                                    preprocessing_function= my_preprocess_input,\n",
    "                                #    rotation_range=20,\n",
    "                                #    width_shift_range=0.2,\n",
    "                                #    height_shift_range=0.2,\n",
    "                                   zoom_range=0.2)\n",
    " \n",
    "val_datagen = ImageDataGenerator(\n",
    "    preprocessing_function= my_preprocess_input)"
   ]
  },
  {
   "cell_type": "code",
   "execution_count": 13,
   "metadata": {},
   "outputs": [
    {
     "name": "stdout",
     "output_type": "stream",
     "text": [
      "Found 24000 images belonging to 2 classes.\n",
      "Found 3000 images belonging to 2 classes.\n"
     ]
    }
   ],
   "source": [
    "train_generator = train_datagen.flow_from_directory(TRAIN_DATA_DIR,\n",
    "                                                    target_size=(IMG_WIDTH,\n",
    "                                                                 IMG_HEIGHT),\n",
    "                                                    batch_size=BATCH_SIZE,\n",
    "                                                    shuffle=True,\n",
    "                                                    seed=12345,\n",
    "                                                    color_mode='grayscale',\n",
    "                                                    class_mode='categorical')\n",
    " \n",
    "validation_generator = val_datagen.flow_from_directory(\n",
    "    VALIDATION_DATA_DIR,\n",
    "    target_size=(IMG_WIDTH, IMG_HEIGHT),\n",
    "    batch_size=BATCH_SIZE,\n",
    "    color_mode='grayscale',\n",
    "    shuffle=False,\n",
    "    class_mode='categorical')"
   ]
  },
  {
   "cell_type": "code",
   "execution_count": 14,
   "metadata": {},
   "outputs": [
    {
     "name": "stdout",
     "output_type": "stream",
     "text": [
      "Model: \"sequential_1\"\n",
      "_________________________________________________________________\n",
      " Layer (type)                Output Shape              Param #   \n",
      "=================================================================\n",
      " conv2d_4 (Conv2D)           (None, 112, 112, 32)      288       \n",
      "                                                                 \n",
      " batch_normalization_2 (Batc  (None, 112, 112, 32)     128       \n",
      " hNormalization)                                                 \n",
      "                                                                 \n",
      " re_lu_4 (ReLU)              (None, 112, 112, 32)      0         \n",
      "                                                                 \n",
      " conv2d_5 (Conv2D)           (None, 112, 112, 64)      18432     \n",
      "                                                                 \n",
      " batch_normalization_3 (Batc  (None, 112, 112, 64)     256       \n",
      " hNormalization)                                                 \n",
      "                                                                 \n",
      " re_lu_5 (ReLU)              (None, 112, 112, 64)      0         \n",
      "                                                                 \n",
      " conv2d_6 (Conv2D)           (None, 112, 112, 64)      36864     \n",
      "                                                                 \n",
      " re_lu_6 (ReLU)              (None, 112, 112, 64)      0         \n",
      "                                                                 \n",
      " max_pooling2d_1 (MaxPooling  (None, 56, 56, 64)       0         \n",
      " 2D)                                                             \n",
      "                                                                 \n",
      " conv2d_7 (Conv2D)           (None, 56, 56, 128)       73728     \n",
      "                                                                 \n",
      " re_lu_7 (ReLU)              (None, 56, 56, 128)       0         \n",
      "                                                                 \n",
      " dropout_1 (Dropout)         (None, 56, 56, 128)       0         \n",
      "                                                                 \n",
      " global_average_pooling2d_1   (None, 128)              0         \n",
      " (GlobalAveragePooling2D)                                        \n",
      "                                                                 \n",
      " dense_2 (Dense)             (None, 32)                4128      \n",
      "                                                                 \n",
      " dense_3 (Dense)             (None, 2)                 66        \n",
      "                                                                 \n",
      "=================================================================\n",
      "Total params: 133,890\n",
      "Trainable params: 133,698\n",
      "Non-trainable params: 192\n",
      "_________________________________________________________________\n"
     ]
    }
   ],
   "source": [
    "initializer =  'glorot_uniform' # tf.keras.initializers.HeNormal()\n",
    "\n",
    "\n",
    "filter_num = 32\n",
    "padding = 'valid'\n",
    "bias = False\n",
    "kernel_size = (3, 3)\n",
    "model2 = models.Sequential([\n",
    "  # input Nx17x4x3\n",
    "  tf.keras.layers.Input(shape=[IMG_WIDTH, IMG_HEIGHT, 1]),\n",
    "\n",
    "  tf.keras.layers.Conv2D(filters = filter_num, kernel_size = kernel_size,  strides=1, padding='same', use_bias=bias,kernel_initializer=initializer),\n",
    "  tf.keras.layers.BatchNormalization(),\n",
    "  tf.keras.layers.ReLU(),\n",
    "\n",
    "  tf.keras.layers.Conv2D(filters = filter_num*2, kernel_size = kernel_size,  strides=1, padding='same', use_bias=bias,kernel_initializer=initializer),\n",
    "  tf.keras.layers.BatchNormalization(),\n",
    "  tf.keras.layers.ReLU(),\n",
    "  tf.keras.layers.Conv2D(filters = filter_num*2, kernel_size = kernel_size,  strides=1, padding='same', use_bias=bias,kernel_initializer=initializer),\n",
    "  # tf.keras.layers.BatchNormalization(),\n",
    "  tf.keras.layers.ReLU(),\n",
    "  tf.keras.layers.MaxPool2D(pool_size=(2, 2)),\n",
    "\n",
    "  tf.keras.layers.Conv2D(filters = filter_num*4, kernel_size = kernel_size,  strides=1, padding='same', use_bias=bias,kernel_initializer=initializer),\n",
    "  # tf.keras.layers.BatchNormalization(),\n",
    "  tf.keras.layers.ReLU(),\n",
    "  tf.keras.layers.Dropout(0.2),\n",
    "\n",
    "  tf.keras.layers.GlobalAveragePooling2D(),\n",
    " \n",
    "  tf.keras.layers.Dense(filter_num, kernel_initializer=initializer, activation = 'relu'),\n",
    "  # tf.keras.layers.BatchNormalization(),\n",
    "  tf.keras.layers.Dense(2,kernel_initializer=initializer, activation = 'softmax'),\n",
    "])\n",
    "model2.summary()\n",
    "# model2.compile(optimizer='rmsprop', loss='mse', metrics=['mae']) adadelta\n",
    "# optim =  tf.keras.optimizers.Nadam()\n",
    "model2.compile( optimizer=tf.keras.optimizers.Adam(), loss = 'categorical_crossentropy', metrics=['accuracy'])\n",
    "\n",
    "# model2.compile(optimizer= tf.keras.optimizers.Nadam(learning_rate=learning_rate),loss='mse', metrics=['mae'])"
   ]
  },
  {
   "cell_type": "code",
   "execution_count": 15,
   "metadata": {},
   "outputs": [],
   "source": [
    "checkpoint_path = \"./training_new_mp2/cp-{epoch:04d}.ckpt\"   # 3\n",
    "checkpoint_dir = os.path.dirname(checkpoint_path)\n",
    "cp_callback = tf.keras.callbacks.ModelCheckpoint(filepath=checkpoint_path,\n",
    "                                                 save_weights_only=True,\n",
    "                                                 verbose=1,\n",
    "                                                #  period=5,\n",
    "                                                 monitor='val_accuracy',\n",
    "                                                mode='max',\n",
    "                                                 save_best_only=True)"
   ]
  },
  {
   "cell_type": "code",
   "execution_count": 16,
   "metadata": {},
   "outputs": [
    {
     "name": "stdout",
     "output_type": "stream",
     "text": [
      "Epoch 1/30\n",
      "375/375 [==============================] - ETA: 0s - loss: 0.5741 - accuracy: 0.6974\n",
      "Epoch 1: val_accuracy improved from -inf to 0.50951, saving model to ./training_new_mp2\\cp-0001.ckpt\n",
      "375/375 [==============================] - 48s 120ms/step - loss: 0.5741 - accuracy: 0.6974 - val_loss: 0.9074 - val_accuracy: 0.5095\n",
      "Epoch 2/30\n",
      "375/375 [==============================] - ETA: 0s - loss: 0.5338 - accuracy: 0.7279\n",
      "Epoch 2: val_accuracy improved from 0.50951 to 0.66270, saving model to ./training_new_mp2\\cp-0002.ckpt\n",
      "375/375 [==============================] - 45s 120ms/step - loss: 0.5338 - accuracy: 0.7279 - val_loss: 0.6848 - val_accuracy: 0.6627\n",
      "Epoch 3/30\n",
      "375/375 [==============================] - ETA: 0s - loss: 0.5065 - accuracy: 0.7510\n",
      "Epoch 3: val_accuracy did not improve from 0.66270\n",
      "375/375 [==============================] - 45s 121ms/step - loss: 0.5065 - accuracy: 0.7510 - val_loss: 1.3798 - val_accuracy: 0.5051\n",
      "Epoch 4/30\n",
      "375/375 [==============================] - ETA: 0s - loss: 0.4924 - accuracy: 0.7643\n",
      "Epoch 4: val_accuracy did not improve from 0.66270\n",
      "375/375 [==============================] - 45s 121ms/step - loss: 0.4924 - accuracy: 0.7643 - val_loss: 0.6689 - val_accuracy: 0.5781\n",
      "Epoch 5/30\n",
      "375/375 [==============================] - ETA: 0s - loss: 0.4782 - accuracy: 0.7768\n",
      "Epoch 5: val_accuracy did not improve from 0.66270\n",
      "375/375 [==============================] - 45s 121ms/step - loss: 0.4782 - accuracy: 0.7768 - val_loss: 0.7157 - val_accuracy: 0.4905\n",
      "Epoch 6/30\n",
      "375/375 [==============================] - ETA: 0s - loss: 0.4698 - accuracy: 0.7812\n",
      "Epoch 6: val_accuracy did not improve from 0.66270\n",
      "375/375 [==============================] - 45s 121ms/step - loss: 0.4698 - accuracy: 0.7812 - val_loss: 0.7158 - val_accuracy: 0.4684\n",
      "Epoch 7/30\n",
      "375/375 [==============================] - ETA: 0s - loss: 0.4607 - accuracy: 0.7887\n",
      "Epoch 7: val_accuracy did not improve from 0.66270\n",
      "375/375 [==============================] - 44s 118ms/step - loss: 0.4607 - accuracy: 0.7887 - val_loss: 7.2328 - val_accuracy: 0.5068\n",
      "Epoch 8/30\n",
      "150/375 [===========>..................] - ETA: 25s - loss: 0.4667 - accuracy: 0.7839"
     ]
    }
   ],
   "source": [
    "from distributed import Worker\n",
    "\n",
    "\n",
    "history = model2.fit(\n",
    "                train_generator,\n",
    "                steps_per_epoch=TRAIN_SAMPLES // BATCH_SIZE, # number of updates\n",
    "                epochs=30,\n",
    "                validation_data=validation_generator,\n",
    "                validation_steps=VALIDATION_SAMPLES // BATCH_SIZE,\n",
    "                callbacks=[cp_callback ],\n",
    "                workers = 4\n",
    "                )"
   ]
  },
  {
   "cell_type": "code",
   "execution_count": null,
   "metadata": {},
   "outputs": [
    {
     "data": {
      "image/png": "[encoded data removed]",
      "text/plain": [
       "<Figure size 432x288 with 1 Axes>"
      ]
     },
     "metadata": {
      "needs_background": "light"
     },
     "output_type": "display_data"
    }
   ],
   "source": [
    "import matplotlib.pyplot as plt\n",
    "plt.plot(history.history['loss'])\n",
    "plt.plot(history.history['val_loss'])\n",
    "plt.xlabel('epoch')\n",
    "plt.ylabel('loss')\n",
    "plt.legend(['train','val'])\n",
    "plt.show()"
   ]
  },
  {
   "cell_type": "code",
   "execution_count": null,
   "metadata": {},
   "outputs": [
    {
     "data": {
      "image/png": "[encoded data removed]",
      "text/plain": [
       "<Figure size 432x288 with 1 Axes>"
      ]
     },
     "metadata": {
      "needs_background": "light"
     },
     "output_type": "display_data"
    }
   ],
   "source": [
    "import matplotlib.pyplot as plt\n",
    "plt.plot(history.history['accuracy'])\n",
    "plt.plot(history.history['val_accuracy'])\n",
    "plt.xlabel('epoch')\n",
    "plt.ylabel('accuracy')\n",
    "plt.legend(['train','val'])\n",
    "plt.show()"
   ]
  }
 ],
 "metadata": {
  "kernelspec": {
   "display_name": "Python 3.8.11 ('base')",
   "language": "python",
   "name": "python3"
  },
  "language_info": {
   "codemirror_mode": {
    "name": "ipython",
    "version": 3
   },
   "file_extension": ".py",
   "mimetype": "text/x-python",
   "name": "python",
   "nbconvert_exporter": "python",
   "pygments_lexer": "ipython3",
   "version": "3.8.11"
  },
  "orig_nbformat": 4,
  "vscode": {
   "interpreter": {
    "hash": "af8e2bc38c47ad2eb2801b8a1df8ba266ffc32d6dc21ae3dca26080e3882f8b5"
   }
  }
 },
 "nbformat": 4,
 "nbformat_minor": 2
}
