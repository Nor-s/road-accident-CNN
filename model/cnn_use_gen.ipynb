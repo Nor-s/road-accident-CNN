{
 "cells": [
  {
   "cell_type": "code",
   "execution_count": 1,
   "metadata": {},
   "outputs": [],
   "source": [
    "import tensorflow as tf\n",
    "from tensorflow.keras.layers import Flatten, Reshape, Conv2D, Conv1D\n",
    "from tensorflow.keras import models\n",
    "import matplotlib.pyplot as plt\n",
    "from tensorflow.python.client import device_lib\n",
    "device_lib.list_local_devices()\n",
    "import os\n",
    "import numpy as np\n",
    "from tensorflow.keras.preprocessing.image import ImageDataGenerator\n",
    "from tensorflow.keras.preprocessing import image\n",
    "from tensorflow.keras.models import Model\n",
    "from tensorflow.keras.layers import Input, Flatten, Dense, GlobalAveragePooling2D\n",
    "from tensorflow.keras.applications.vgg16 import VGG16, preprocess_input\n",
    "import math\n",
    "import numpy as np\n",
    " \n",
    "os.environ[\"CUDA_VISIBLE_DEVICES\"] = \"0\""
   ]
  },
  {
   "cell_type": "code",
   "execution_count": 2,
   "metadata": {},
   "outputs": [],
   "source": [
    "TRAIN_DATA_DIR = '../data/for_generator/train'\n",
    "VALIDATION_DATA_DIR = '../data/for_generator/val'\n",
    "TEST_DATA_DIR = '../data/for_generator/test'\n",
    " \n",
    "TRAIN_SAMPLES = 24000\n",
    "VALIDATION_SAMPLES = 3000\n",
    "NUM_CLASSES = 2\n",
    "IMG_WIDTH, IMG_HEIGHT = 224, 224\n",
    "BATCH_SIZE = 16"
   ]
  },
  {
   "cell_type": "code",
   "execution_count": 3,
   "metadata": {},
   "outputs": [],
   "source": [
    "def my_preprocess_input(image):\n",
    "    image = np.array(image)\n",
    "    converted_img = image/255\n",
    "    return converted_img"
   ]
  },
  {
   "cell_type": "code",
   "execution_count": 4,
   "metadata": {},
   "outputs": [],
   "source": [
    "train_datagen = ImageDataGenerator(preprocessing_function=my_preprocess_input,\n",
    "                                   rotation_range=20,\n",
    "                                   width_shift_range=0.2,\n",
    "                                   height_shift_range=0.2,\n",
    "                                   zoom_range=0.2)\n",
    " \n",
    "val_datagen = ImageDataGenerator(preprocessing_function=my_preprocess_input)"
   ]
  },
  {
   "cell_type": "code",
   "execution_count": 5,
   "metadata": {},
   "outputs": [
    {
     "name": "stdout",
     "output_type": "stream",
     "text": [
      "Found 24000 images belonging to 2 classes.\n",
      "Found 3000 images belonging to 2 classes.\n"
     ]
    }
   ],
   "source": [
    "train_generator = train_datagen.flow_from_directory(TRAIN_DATA_DIR,\n",
    "                                                    target_size=(IMG_WIDTH,\n",
    "                                                                 IMG_HEIGHT),\n",
    "                                                    batch_size=BATCH_SIZE,\n",
    "                                                    shuffle=True,\n",
    "                                                    seed=12345,\n",
    "                                                    color_mode='grayscale',\n",
    "                                                    class_mode='categorical')\n",
    " \n",
    "validation_generator = val_datagen.flow_from_directory(\n",
    "    VALIDATION_DATA_DIR,\n",
    "    target_size=(IMG_WIDTH, IMG_HEIGHT),\n",
    "    batch_size=BATCH_SIZE,\n",
    "    color_mode='grayscale',\n",
    "    shuffle=False,\n",
    "    class_mode='categorical')"
   ]
  },
  {
   "cell_type": "code",
   "execution_count": 6,
   "metadata": {},
   "outputs": [
    {
     "name": "stdout",
     "output_type": "stream",
     "text": [
      "Model: \"sequential\"\n",
      "_________________________________________________________________\n",
      " Layer (type)                Output Shape              Param #   \n",
      "=================================================================\n",
      " conv2d (Conv2D)             (None, 224, 224, 32)      288       \n",
      "                                                                 \n",
      " batch_normalization (BatchN  (None, 224, 224, 32)     128       \n",
      " ormalization)                                                   \n",
      "                                                                 \n",
      " re_lu (ReLU)                (None, 224, 224, 32)      0         \n",
      "                                                                 \n",
      " max_pooling2d (MaxPooling2D  (None, 112, 112, 32)     0         \n",
      " )                                                               \n",
      "                                                                 \n",
      " conv2d_1 (Conv2D)           (None, 112, 112, 64)      18432     \n",
      "                                                                 \n",
      " batch_normalization_1 (Batc  (None, 112, 112, 64)     256       \n",
      " hNormalization)                                                 \n",
      "                                                                 \n",
      " re_lu_1 (ReLU)              (None, 112, 112, 64)      0         \n",
      "                                                                 \n",
      " max_pooling2d_1 (MaxPooling  (None, 56, 56, 64)       0         \n",
      " 2D)                                                             \n",
      "                                                                 \n",
      " conv2d_2 (Conv2D)           (None, 56, 56, 128)       73728     \n",
      "                                                                 \n",
      " batch_normalization_2 (Batc  (None, 56, 56, 128)      512       \n",
      " hNormalization)                                                 \n",
      "                                                                 \n",
      " re_lu_2 (ReLU)              (None, 56, 56, 128)       0         \n",
      "                                                                 \n",
      " max_pooling2d_2 (MaxPooling  (None, 28, 28, 128)      0         \n",
      " 2D)                                                             \n",
      "                                                                 \n",
      " dropout (Dropout)           (None, 28, 28, 128)       0         \n",
      "                                                                 \n",
      " flatten (Flatten)           (None, 100352)            0         \n",
      "                                                                 \n",
      " dense (Dense)               (None, 2)                 200706    \n",
      "                                                                 \n",
      "=================================================================\n",
      "Total params: 294,050\n",
      "Trainable params: 293,602\n",
      "Non-trainable params: 448\n",
      "_________________________________________________________________\n"
     ]
    }
   ],
   "source": [
    "initializer = tf.keras.initializers.HeNormal()\n",
    "\n",
    "\n",
    "filter_num = 32\n",
    "padding = 'valid'\n",
    "bias = False\n",
    "kernel_size = (3, 3)\n",
    "model2 = models.Sequential([\n",
    "  # input Nx17x4x3\n",
    "  tf.keras.layers.Input(shape=[IMG_WIDTH, IMG_HEIGHT, 1]),\n",
    "\n",
    "  tf.keras.layers.Conv2D(filters = filter_num, kernel_size = kernel_size,  strides=1, padding='same', use_bias=bias,kernel_initializer=initializer),\n",
    "  tf.keras.layers.BatchNormalization(),\n",
    "  tf.keras.layers.ReLU(),\n",
    "  tf.keras.layers.MaxPool2D(pool_size=(2, 2)),\n",
    "\n",
    "  tf.keras.layers.Conv2D(filters = filter_num*2, kernel_size = kernel_size,  strides=1, padding='same', use_bias=bias,kernel_initializer=initializer),\n",
    "  tf.keras.layers.BatchNormalization(),\n",
    "  tf.keras.layers.ReLU(),\n",
    "  tf.keras.layers.MaxPool2D(pool_size=(2, 2)),\n",
    "\n",
    "  tf.keras.layers.Conv2D(filters = filter_num*4, kernel_size = kernel_size,  strides=1, padding='same', use_bias=bias,kernel_initializer=initializer),\n",
    "  tf.keras.layers.BatchNormalization(),\n",
    "  tf.keras.layers.ReLU(),\n",
    "  tf.keras.layers.MaxPool2D(pool_size=(2, 2)),\n",
    "  tf.keras.layers.Dropout(0.2),\n",
    "  # tf.keras.layers.Conv2D(filters = filter_num*8, kernel_size = kernel_size,  strides=1, padding='same', use_bias=bias,kernel_initializer=initializer),\n",
    "  # tf.keras.layers.BatchNormalization(),\n",
    "  # tf.keras.layers.ReLU(),\n",
    "\n",
    "  # tf.keras.layers.Conv2D(filters = filter_num*8, kernel_size = kernel_size,  strides=1, padding='same', use_bias=bias,kernel_initializer=initializer),\n",
    "  # tf.keras.layers.BatchNormalization(),\n",
    "  # tf.keras.layers.ReLU(),\n",
    "  \n",
    "  # tf.keras.layers.Conv2D(filters = filter_num*8, kernel_size = kernel_size,  strides=1, padding='same', use_bias=bias,kernel_initializer=initializer),\n",
    "  # tf.keras.layers.BatchNormalization(),\n",
    "  # tf.keras.layers.ReLU(),\n",
    "  # tf.keras.layers.Dropout(0.3),\n",
    "  tf.keras.layers.Flatten(),\n",
    "  # tf.keras.layers.Dense(filter_num*8, kernel_initializer=initializer, activation = 'relu'),\n",
    "  # tf.keras.layers.Dense(filter_num*4, kernel_initializer=initializer, activation = 'relu'),\n",
    "  tf.keras.layers.Dense(2,kernel_initializer=initializer, activation = 'softmax'),\n",
    "])\n",
    "model2.summary()\n",
    "# model2.compile(optimizer='rmsprop', loss='mse', metrics=['mae']) adadelta\n",
    "# optim =  tf.keras.optimizers.Nadam()\n",
    "model2.compile(optimizer= 'adam', loss = 'categorical_crossentropy', metrics=['accuracy'])\n",
    "\n",
    "# model2.compile(optimizer= tf.keras.optimizers.Nadam(learning_rate=learning_rate),loss='mse', metrics=['mae'])"
   ]
  },
  {
   "cell_type": "code",
   "execution_count": 7,
   "metadata": {},
   "outputs": [],
   "source": [
    "checkpoint_path = \"./training_new_mp2/cp-{epoch:04d}.ckpt\"   # 3\n",
    "checkpoint_dir = os.path.dirname(checkpoint_path)\n",
    "cp_callback = tf.keras.callbacks.ModelCheckpoint(filepath=checkpoint_path,\n",
    "                                                 save_weights_only=True,\n",
    "                                                 verbose=1,\n",
    "                                                #  period=5,\n",
    "                                                 monitor='val_accuracy',\n",
    "                                                mode='max',\n",
    "                                                 save_best_only=True)"
   ]
  },
  {
   "cell_type": "code",
   "execution_count": 8,
   "metadata": {},
   "outputs": [
    {
     "name": "stdout",
     "output_type": "stream",
     "text": [
      "Epoch 1/30\n",
      "1500/1500 [==============================] - ETA: 0s - loss: 0.9384 - accuracy: 0.6639\n",
      "Epoch 1: val_accuracy improved from -inf to 0.53643, saving model to ./training_new_mp2\\cp-0001.ckpt\n",
      "1500/1500 [==============================] - 110s 72ms/step - loss: 0.9384 - accuracy: 0.6639 - val_loss: 1.1446 - val_accuracy: 0.5364\n",
      "Epoch 2/30\n",
      "1500/1500 [==============================] - ETA: 0s - loss: 0.5457 - accuracy: 0.7295\n",
      "Epoch 2: val_accuracy improved from 0.53643 to 0.73563, saving model to ./training_new_mp2\\cp-0002.ckpt\n",
      "1500/1500 [==============================] - 106s 71ms/step - loss: 0.5457 - accuracy: 0.7295 - val_loss: 0.6089 - val_accuracy: 0.7356\n",
      "Epoch 3/30\n",
      "1500/1500 [==============================] - ETA: 0s - loss: 0.5279 - accuracy: 0.7441\n",
      "Epoch 3: val_accuracy improved from 0.73563 to 0.73964, saving model to ./training_new_mp2\\cp-0003.ckpt\n",
      "1500/1500 [==============================] - 104s 70ms/step - loss: 0.5279 - accuracy: 0.7441 - val_loss: 0.5508 - val_accuracy: 0.7396\n",
      "Epoch 4/30\n",
      "1500/1500 [==============================] - ETA: 0s - loss: 0.5117 - accuracy: 0.7567\n",
      "Epoch 4: val_accuracy did not improve from 0.73964\n",
      "1500/1500 [==============================] - 105s 70ms/step - loss: 0.5117 - accuracy: 0.7567 - val_loss: 0.6318 - val_accuracy: 0.7333\n",
      "Epoch 5/30\n",
      "1500/1500 [==============================] - ETA: 0s - loss: 0.5086 - accuracy: 0.7583\n",
      "Epoch 5: val_accuracy did not improve from 0.73964\n",
      "1500/1500 [==============================] - 104s 69ms/step - loss: 0.5086 - accuracy: 0.7583 - val_loss: 2.1338 - val_accuracy: 0.5017\n",
      "Epoch 6/30\n",
      "1500/1500 [==============================] - ETA: 0s - loss: 0.5024 - accuracy: 0.7633\n",
      "Epoch 6: val_accuracy did not improve from 0.73964\n",
      "1500/1500 [==============================] - 105s 70ms/step - loss: 0.5024 - accuracy: 0.7633 - val_loss: 2.4054 - val_accuracy: 0.5017\n",
      "Epoch 7/30\n",
      "1500/1500 [==============================] - ETA: 0s - loss: 0.5014 - accuracy: 0.7660\n",
      "Epoch 7: val_accuracy did not improve from 0.73964\n",
      "1500/1500 [==============================] - 105s 70ms/step - loss: 0.5014 - accuracy: 0.7660 - val_loss: 0.5727 - val_accuracy: 0.7236\n",
      "Epoch 8/30\n",
      "1500/1500 [==============================] - ETA: 0s - loss: 0.5014 - accuracy: 0.7618\n",
      "Epoch 8: val_accuracy did not improve from 0.73964\n",
      "1500/1500 [==============================] - 104s 69ms/step - loss: 0.5014 - accuracy: 0.7618 - val_loss: 1.4696 - val_accuracy: 0.5104\n",
      "Epoch 9/30\n",
      "1500/1500 [==============================] - ETA: 0s - loss: 0.4964 - accuracy: 0.7689\n",
      "Epoch 9: val_accuracy did not improve from 0.73964\n",
      "1500/1500 [==============================] - 104s 69ms/step - loss: 0.4964 - accuracy: 0.7689 - val_loss: 0.8978 - val_accuracy: 0.5338\n",
      "Epoch 10/30\n",
      "1500/1500 [==============================] - ETA: 0s - loss: 0.4941 - accuracy: 0.7714\n",
      "Epoch 10: val_accuracy did not improve from 0.73964\n",
      "1500/1500 [==============================] - 104s 70ms/step - loss: 0.4941 - accuracy: 0.7714 - val_loss: 2.0836 - val_accuracy: 0.5050\n",
      "Epoch 11/30\n",
      "1500/1500 [==============================] - ETA: 0s - loss: 0.4882 - accuracy: 0.7745\n",
      "Epoch 11: val_accuracy did not improve from 0.73964\n",
      "1500/1500 [==============================] - 105s 70ms/step - loss: 0.4882 - accuracy: 0.7745 - val_loss: 0.6345 - val_accuracy: 0.7172\n",
      "Epoch 12/30\n",
      "1500/1500 [==============================] - ETA: 0s - loss: 0.4889 - accuracy: 0.7722\n",
      "Epoch 12: val_accuracy did not improve from 0.73964\n",
      "1500/1500 [==============================] - 173s 115ms/step - loss: 0.4889 - accuracy: 0.7722 - val_loss: 0.8006 - val_accuracy: 0.5481\n",
      "Epoch 13/30\n",
      "1500/1500 [==============================] - ETA: 0s - loss: 0.4886 - accuracy: 0.7732\n",
      "Epoch 13: val_accuracy did not improve from 0.73964\n",
      "1500/1500 [==============================] - 114s 76ms/step - loss: 0.4886 - accuracy: 0.7732 - val_loss: 1.2399 - val_accuracy: 0.5013\n",
      "Epoch 14/30\n",
      "1500/1500 [==============================] - ETA: 0s - loss: 0.4849 - accuracy: 0.7769\n",
      "Epoch 14: val_accuracy did not improve from 0.73964\n",
      "1500/1500 [==============================] - 104s 69ms/step - loss: 0.4849 - accuracy: 0.7769 - val_loss: 0.6563 - val_accuracy: 0.6735\n",
      "Epoch 15/30\n",
      "1500/1500 [==============================] - ETA: 0s - loss: 0.4848 - accuracy: 0.7725\n",
      "Epoch 15: val_accuracy did not improve from 0.73964\n",
      "1500/1500 [==============================] - 104s 70ms/step - loss: 0.4848 - accuracy: 0.7725 - val_loss: 0.8536 - val_accuracy: 0.6741\n",
      "Epoch 16/30\n",
      "1500/1500 [==============================] - ETA: 0s - loss: 0.4835 - accuracy: 0.7759\n",
      "Epoch 16: val_accuracy did not improve from 0.73964\n",
      "1500/1500 [==============================] - 105s 70ms/step - loss: 0.4835 - accuracy: 0.7759 - val_loss: 1.2802 - val_accuracy: 0.5013\n",
      "Epoch 17/30\n",
      "1500/1500 [==============================] - ETA: 0s - loss: 0.4821 - accuracy: 0.7761\n",
      "Epoch 17: val_accuracy improved from 0.73964 to 0.78142, saving model to ./training_new_mp2\\cp-0017.ckpt\n",
      "1500/1500 [==============================] - 104s 69ms/step - loss: 0.4821 - accuracy: 0.7761 - val_loss: 0.4779 - val_accuracy: 0.7814\n",
      "Epoch 18/30\n",
      "1500/1500 [==============================] - ETA: 0s - loss: 0.4835 - accuracy: 0.7767\n",
      "Epoch 18: val_accuracy did not improve from 0.78142\n",
      "1500/1500 [==============================] - 104s 69ms/step - loss: 0.4835 - accuracy: 0.7767 - val_loss: 0.8572 - val_accuracy: 0.5097\n",
      "Epoch 19/30\n",
      "1500/1500 [==============================] - ETA: 0s - loss: 0.4802 - accuracy: 0.7791\n",
      "Epoch 19: val_accuracy did not improve from 0.78142\n",
      "1500/1500 [==============================] - 104s 69ms/step - loss: 0.4802 - accuracy: 0.7791 - val_loss: 1.0487 - val_accuracy: 0.5050\n",
      "Epoch 20/30\n",
      "1500/1500 [==============================] - ETA: 0s - loss: 0.4847 - accuracy: 0.7768\n",
      "Epoch 20: val_accuracy did not improve from 0.78142\n",
      "1500/1500 [==============================] - 104s 69ms/step - loss: 0.4847 - accuracy: 0.7768 - val_loss: 2.6256 - val_accuracy: 0.5013\n",
      "Epoch 21/30\n",
      "1500/1500 [==============================] - ETA: 0s - loss: 0.4786 - accuracy: 0.7791\n",
      "Epoch 21: val_accuracy did not improve from 0.78142\n",
      "1500/1500 [==============================] - 104s 69ms/step - loss: 0.4786 - accuracy: 0.7791 - val_loss: 2.1620 - val_accuracy: 0.5040\n",
      "Epoch 22/30\n",
      "1500/1500 [==============================] - ETA: 0s - loss: 0.4788 - accuracy: 0.7790\n",
      "Epoch 22: val_accuracy did not improve from 0.78142\n",
      "1500/1500 [==============================] - 104s 69ms/step - loss: 0.4788 - accuracy: 0.7790 - val_loss: 1.3948 - val_accuracy: 0.5187\n",
      "Epoch 23/30\n",
      "1500/1500 [==============================] - ETA: 0s - loss: 0.4787 - accuracy: 0.7781\n",
      "Epoch 23: val_accuracy did not improve from 0.78142\n",
      "1500/1500 [==============================] - 104s 69ms/step - loss: 0.4787 - accuracy: 0.7781 - val_loss: 0.5138 - val_accuracy: 0.7727\n",
      "Epoch 24/30\n",
      "1500/1500 [==============================] - ETA: 0s - loss: 0.4792 - accuracy: 0.7780\n",
      "Epoch 24: val_accuracy improved from 0.78142 to 0.78309, saving model to ./training_new_mp2\\cp-0024.ckpt\n",
      "1500/1500 [==============================] - 104s 69ms/step - loss: 0.4792 - accuracy: 0.7780 - val_loss: 0.4656 - val_accuracy: 0.7831\n",
      "Epoch 25/30\n",
      "1500/1500 [==============================] - ETA: 0s - loss: 0.4763 - accuracy: 0.7805\n",
      "Epoch 25: val_accuracy did not improve from 0.78309\n",
      "1500/1500 [==============================] - 104s 70ms/step - loss: 0.4763 - accuracy: 0.7805 - val_loss: 0.7146 - val_accuracy: 0.5528\n",
      "Epoch 26/30\n",
      "1500/1500 [==============================] - ETA: 0s - loss: 0.4746 - accuracy: 0.7816\n",
      "Epoch 26: val_accuracy did not improve from 0.78309\n",
      "1500/1500 [==============================] - 105s 70ms/step - loss: 0.4746 - accuracy: 0.7816 - val_loss: 0.5061 - val_accuracy: 0.7543\n",
      "Epoch 27/30\n",
      "1500/1500 [==============================] - ETA: 0s - loss: 0.4779 - accuracy: 0.7815\n",
      "Epoch 27: val_accuracy did not improve from 0.78309\n",
      "1500/1500 [==============================] - 104s 69ms/step - loss: 0.4779 - accuracy: 0.7815 - val_loss: 1.1816 - val_accuracy: 0.5013\n",
      "Epoch 28/30\n",
      "1500/1500 [==============================] - ETA: 0s - loss: 0.4767 - accuracy: 0.7803\n",
      "Epoch 28: val_accuracy did not improve from 0.78309\n",
      "1500/1500 [==============================] - 104s 69ms/step - loss: 0.4767 - accuracy: 0.7803 - val_loss: 1.1618 - val_accuracy: 0.5217\n",
      "Epoch 29/30\n",
      "1500/1500 [==============================] - ETA: 0s - loss: 0.4764 - accuracy: 0.7825\n",
      "Epoch 29: val_accuracy did not improve from 0.78309\n",
      "1500/1500 [==============================] - 104s 69ms/step - loss: 0.4764 - accuracy: 0.7825 - val_loss: 2.7576 - val_accuracy: 0.5013\n",
      "Epoch 30/30\n",
      "1500/1500 [==============================] - ETA: 0s - loss: 0.4738 - accuracy: 0.7834\n",
      "Epoch 30: val_accuracy did not improve from 0.78309\n",
      "1500/1500 [==============================] - 104s 69ms/step - loss: 0.4738 - accuracy: 0.7834 - val_loss: 1.5821 - val_accuracy: 0.5013\n"
     ]
    }
   ],
   "source": [
    "history = model2.fit(\n",
    "                train_generator,\n",
    "                steps_per_epoch=TRAIN_SAMPLES // BATCH_SIZE, # number of updates\n",
    "                epochs=30,\n",
    "                validation_data=validation_generator,\n",
    "                validation_steps=VALIDATION_SAMPLES // BATCH_SIZE,\n",
    "                callbacks=[cp_callback ])"
   ]
  },
  {
   "cell_type": "code",
   "execution_count": 9,
   "metadata": {},
   "outputs": [
    {
     "data": {
      "image/png": "[encoded data removed]",
      "text/plain": [
       "<Figure size 432x288 with 1 Axes>"
      ]
     },
     "metadata": {
      "needs_background": "light"
     },
     "output_type": "display_data"
    }
   ],
   "source": [
    "import matplotlib.pyplot as plt\n",
    "plt.plot(history.history['loss'])\n",
    "plt.plot(history.history['val_loss'])\n",
    "plt.xlabel('epoch')\n",
    "plt.ylabel('loss')\n",
    "plt.legend(['train','val'])\n",
    "plt.show()"
   ]
  },
  {
   "cell_type": "code",
   "execution_count": 11,
   "metadata": {},
   "outputs": [
    {
     "data": {
      "image/png": "[encoded data removed]",
      "text/plain": [
       "<Figure size 432x288 with 1 Axes>"
      ]
     },
     "metadata": {
      "needs_background": "light"
     },
     "output_type": "display_data"
    }
   ],
   "source": [
    "import matplotlib.pyplot as plt\n",
    "plt.plot(history.history['accuracy'])\n",
    "plt.plot(history.history['val_accuracy'])\n",
    "plt.xlabel('epoch')\n",
    "plt.ylabel('accuracy')\n",
    "plt.legend(['train','val'])\n",
    "plt.show()"
   ]
  }
 ],
 "metadata": {
  "kernelspec": {
   "display_name": "Python 3.8.11 ('base')",
   "language": "python",
   "name": "python3"
  },
  "language_info": {
   "codemirror_mode": {
    "name": "ipython",
    "version": 3
   },
   "file_extension": ".py",
   "mimetype": "text/x-python",
   "name": "python",
   "nbconvert_exporter": "python",
   "pygments_lexer": "ipython3",
   "version": "3.8.11"
  },
  "orig_nbformat": 4,
  "vscode": {
   "interpreter": {
    "hash": "af8e2bc38c47ad2eb2801b8a1df8ba266ffc32d6dc21ae3dca26080e3882f8b5"
   }
  }
 },
 "nbformat": 4,
 "nbformat_minor": 2
}
