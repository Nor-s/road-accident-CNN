{
 "cells": [
  {
   "cell_type": "markdown",
   "metadata": {},
   "source": [
    "2022 Nor-s"
   ]
  },
  {
   "cell_type": "markdown",
   "metadata": {},
   "source": [
    "## [사전학습 모델 사용](https://yeong-jin-data-blog.tistory.com/entry/%EC%82%AC%EC%A0%84%ED%95%99%EC%8A%B5-%EB%AA%A8%EB%8D%B8-%EC%82%AC%EC%9A%A9)"
   ]
  },
  {
   "cell_type": "code",
   "execution_count": 1,
   "metadata": {},
   "outputs": [],
   "source": [
    "import tensorflow as tf\n",
    "from tensorflow.keras.layers import Flatten, Reshape, Conv2D, Conv1D\n",
    "from tensorflow.keras import models\n",
    "import matplotlib.pyplot as plt\n",
    "from tensorflow.python.client import device_lib\n",
    "device_lib.list_local_devices()\n",
    "import os\n",
    "import numpy as np\n",
    "from tensorflow.keras.preprocessing.image import ImageDataGenerator\n",
    "from tensorflow.keras.preprocessing import image\n",
    "from tensorflow.keras.models import Model\n",
    "from tensorflow.keras.layers import Input, Flatten, Dense, GlobalAveragePooling2D\n",
    "from tensorflow.keras.applications.vgg16 import VGG16, preprocess_input\n",
    "import math\n",
    "import numpy as np\n",
    " \n",
    "os.environ[\"CUDA_VISIBLE_DEVICES\"] = \"0\""
   ]
  },
  {
   "cell_type": "code",
   "execution_count": 9,
   "metadata": {},
   "outputs": [],
   "source": [
    "NAME = 'for_generator_korean'\n",
    "TRAIN_DATA_DIR = f'../data/{NAME}/train'\n",
    "VALIDATION_DATA_DIR = f'../data/{NAME}/val'\n",
    "TEST_DATA_DIR = f'../data/{NAME}/test'\n",
    " \n",
    "TRAIN_SAMPLES = 16000 #24000\n",
    "VALIDATION_SAMPLES = 2000 #3000\n",
    "NUM_CLASSES = 2\n",
    "IMG_WIDTH, IMG_HEIGHT = 224, 224\n",
    "BATCH_SIZE = 64\n",
    "EPOCH = 30"
   ]
  },
  {
   "cell_type": "markdown",
   "metadata": {},
   "source": [
    "## 데이터 로드\n",
    "\n",
    "https://keras.io/api/preprocessing/image/"
   ]
  },
  {
   "cell_type": "code",
   "execution_count": 3,
   "metadata": {},
   "outputs": [],
   "source": [
    "train_datagen = ImageDataGenerator(preprocessing_function=preprocess_input,\n",
    "                                   rotation_range=20,\n",
    "                                   width_shift_range=0.2,\n",
    "                                   height_shift_range=0.2,\n",
    "                                   zoom_range=0.2)\n",
    " \n",
    "val_datagen = ImageDataGenerator(preprocessing_function=preprocess_input)"
   ]
  },
  {
   "cell_type": "code",
   "execution_count": 4,
   "metadata": {},
   "outputs": [
    {
     "name": "stdout",
     "output_type": "stream",
     "text": [
      "Found 16000 images belonging to 2 classes.\n",
      "Found 2000 images belonging to 2 classes.\n"
     ]
    }
   ],
   "source": [
    "train_generator = train_datagen.flow_from_directory(TRAIN_DATA_DIR,\n",
    "                                                    target_size=(IMG_WIDTH,\n",
    "                                                                 IMG_HEIGHT),\n",
    "                                                    batch_size=BATCH_SIZE,\n",
    "                                                    shuffle=True,\n",
    "                                                    seed=12345,\n",
    "                                                    class_mode='categorical')\n",
    " \n",
    "validation_generator = val_datagen.flow_from_directory(\n",
    "    VALIDATION_DATA_DIR,\n",
    "    target_size=(IMG_WIDTH, IMG_HEIGHT),\n",
    "    batch_size=BATCH_SIZE,\n",
    "    shuffle=False,\n",
    "    class_mode='categorical')"
   ]
  },
  {
   "cell_type": "markdown",
   "metadata": {},
   "source": [
    "## VGG model 사전학습 모델"
   ]
  },
  {
   "cell_type": "code",
   "execution_count": 6,
   "metadata": {},
   "outputs": [
    {
     "name": "stdout",
     "output_type": "stream",
     "text": [
      "19\n",
      "freeze:  input_1 True\n",
      "freeze:  block1_conv1 True\n",
      "freeze:  block1_conv2 True\n",
      "freeze:  block1_pool True\n",
      "freeze:  block2_conv1 True\n",
      "freeze:  block2_conv2 True\n",
      "freeze:  block2_pool True\n",
      "freeze:  block3_conv1 True\n",
      "freeze:  block3_conv2 True\n",
      "freeze:  block3_conv3 True\n",
      "freeze:  block3_pool True\n",
      "freeze:  block4_conv1 True\n",
      "freeze:  block4_conv2 True\n",
      "freeze:  block4_conv3 True\n",
      "freeze:  block4_pool True\n",
      "freeze:  block5_conv1 True\n",
      "freeze:  block5_conv2 True\n",
      "Model: \"model\"\n",
      "_________________________________________________________________\n",
      " Layer (type)                Output Shape              Param #   \n",
      "=================================================================\n",
      " input_2 (InputLayer)        [(None, 224, 224, 3)]     0         \n",
      "                                                                 \n",
      " vgg16 (Functional)          (None, 7, 7, 512)         14714688  \n",
      "                                                                 \n",
      " global_average_pooling2d (G  (None, 512)              0         \n",
      " lobalAveragePooling2D)                                          \n",
      "                                                                 \n",
      " dense (Dense)               (None, 32)                16416     \n",
      "                                                                 \n",
      " dense_1 (Dense)             (None, 2)                 66        \n",
      "                                                                 \n",
      "=================================================================\n",
      "Total params: 14,731,170\n",
      "Trainable params: 2,376,290\n",
      "Non-trainable params: 12,354,880\n",
      "_________________________________________________________________\n"
     ]
    }
   ],
   "source": [
    "from tensorflow.keras.applications.vgg16 import VGG16\n",
    "def model_maker(num_class, input_shape=(224, 224, 3)):\n",
    "    # model = VGG16(weights='imagenet', include_top=True)\n",
    "    base_model = VGG16(include_top=False, input_shape=input_shape)\n",
    "    print(len(base_model.layers))\n",
    " \n",
    "    # for layer in base_model.layers[:]:\n",
    "        # layer.trainable = False\n",
    "    for layer in base_model.layers[:-2]:\n",
    "        print('freeze: ', layer.name , str(layer.trainable))\n",
    "        layer.trainable = False # Top 층을 제외한 나머지 층에서 2개의 층을 새롭게 학습 \n",
    " \n",
    "    input = tf.keras.Input(shape=input_shape)\n",
    "    custom_model = base_model(input)\n",
    "    custom_model = tf.keras.layers.GlobalAveragePooling2D()(custom_model)\n",
    "    custom_model = tf.keras.layers.Dense(32, activation='relu')(custom_model)\n",
    "    predictions = tf.keras.layers.Dense(num_class, activation='softmax')(custom_model)\n",
    "    \n",
    "    return tf.keras.Model(inputs=input, outputs=predictions)\n",
    "\n",
    "model_final = model_maker(2, input_shape=(224, 224, 3))\n",
    "model_final.summary()\n",
    "model_final.compile(loss='categorical_crossentropy',\n",
    "              optimizer=tf.keras.optimizers.Adam(0.001),\n",
    "              metrics=['acc'])"
   ]
  },
  {
   "cell_type": "code",
   "execution_count": 10,
   "metadata": {},
   "outputs": [
    {
     "name": "stdout",
     "output_type": "stream",
     "text": [
      "Epoch 1/30\n",
      "250/250 [==============================] - ETA: 0s - loss: 0.6517 - acc: 0.7309\n",
      "Epoch 1: val_acc improved from -inf to 0.77621, saving model to ./for_generator_korean_VGG\\cp-0030.ckpt\n",
      "250/250 [==============================] - 213s 818ms/step - loss: 0.6517 - acc: 0.7309 - val_loss: 0.4826 - val_acc: 0.7762\n",
      "Epoch 2/30\n",
      "250/250 [==============================] - ETA: 0s - loss: 0.4675 - acc: 0.7813\n",
      "Epoch 2: val_acc improved from 0.77621 to 0.78881, saving model to ./for_generator_korean_VGG\\cp-0030.ckpt\n",
      "250/250 [==============================] - 161s 643ms/step - loss: 0.4675 - acc: 0.7813 - val_loss: 0.4598 - val_acc: 0.7888\n",
      "Epoch 3/30\n",
      "250/250 [==============================] - ETA: 0s - loss: 0.4581 - acc: 0.7830\n",
      "Epoch 3: val_acc did not improve from 0.78881\n",
      "250/250 [==============================] - 160s 638ms/step - loss: 0.4581 - acc: 0.7830 - val_loss: 0.5040 - val_acc: 0.7762\n",
      "Epoch 4/30\n",
      "250/250 [==============================] - ETA: 0s - loss: 0.4486 - acc: 0.7884\n",
      "Epoch 4: val_acc did not improve from 0.78881\n",
      "250/250 [==============================] - 215s 861ms/step - loss: 0.4486 - acc: 0.7884 - val_loss: 0.4512 - val_acc: 0.7883\n",
      "Epoch 5/30\n",
      "250/250 [==============================] - ETA: 0s - loss: 0.4364 - acc: 0.7977\n",
      "Epoch 5: val_acc improved from 0.78881 to 0.80040, saving model to ./for_generator_korean_VGG\\cp-0030.ckpt\n",
      "250/250 [==============================] - 187s 748ms/step - loss: 0.4364 - acc: 0.7977 - val_loss: 0.4368 - val_acc: 0.8004\n",
      "Epoch 6/30\n",
      "250/250 [==============================] - ETA: 0s - loss: 0.4365 - acc: 0.7950\n",
      "Epoch 6: val_acc improved from 0.80040 to 0.80494, saving model to ./for_generator_korean_VGG\\cp-0030.ckpt\n",
      "250/250 [==============================] - 176s 702ms/step - loss: 0.4365 - acc: 0.7950 - val_loss: 0.4358 - val_acc: 0.8049\n",
      "Epoch 7/30\n",
      "250/250 [==============================] - ETA: 0s - loss: 0.4374 - acc: 0.7993\n",
      "Epoch 7: val_acc did not improve from 0.80494\n",
      "250/250 [==============================] - 170s 678ms/step - loss: 0.4374 - acc: 0.7993 - val_loss: 0.4658 - val_acc: 0.7908\n",
      "Epoch 8/30\n",
      "250/250 [==============================] - ETA: 0s - loss: 0.4240 - acc: 0.8029\n",
      "Epoch 8: val_acc improved from 0.80494 to 0.80746, saving model to ./for_generator_korean_VGG\\cp-0030.ckpt\n",
      "250/250 [==============================] - 170s 677ms/step - loss: 0.4240 - acc: 0.8029 - val_loss: 0.4203 - val_acc: 0.8075\n",
      "Epoch 9/30\n",
      "250/250 [==============================] - ETA: 0s - loss: 0.4179 - acc: 0.8070\n",
      "Epoch 9: val_acc did not improve from 0.80746\n",
      "250/250 [==============================] - 165s 659ms/step - loss: 0.4179 - acc: 0.8070 - val_loss: 0.4298 - val_acc: 0.8004\n",
      "Epoch 10/30\n",
      "250/250 [==============================] - ETA: 0s - loss: 0.4104 - acc: 0.8112\n",
      "Epoch 10: val_acc did not improve from 0.80746\n",
      "250/250 [==============================] - 163s 652ms/step - loss: 0.4104 - acc: 0.8112 - val_loss: 0.4192 - val_acc: 0.8019\n",
      "Epoch 11/30\n",
      "250/250 [==============================] - ETA: 0s - loss: 0.4040 - acc: 0.8142\n",
      "Epoch 11: val_acc improved from 0.80746 to 0.81401, saving model to ./for_generator_korean_VGG\\cp-0030.ckpt\n",
      "250/250 [==============================] - 161s 644ms/step - loss: 0.4040 - acc: 0.8142 - val_loss: 0.4075 - val_acc: 0.8140\n",
      "Epoch 12/30\n",
      "250/250 [==============================] - ETA: 0s - loss: 0.3981 - acc: 0.8197\n",
      "Epoch 12: val_acc did not improve from 0.81401\n",
      "250/250 [==============================] - 159s 633ms/step - loss: 0.3981 - acc: 0.8197 - val_loss: 0.4343 - val_acc: 0.7994\n",
      "Epoch 13/30\n",
      "250/250 [==============================] - ETA: 0s - loss: 0.3930 - acc: 0.8177\n",
      "Epoch 13: val_acc did not improve from 0.81401\n",
      "250/250 [==============================] - 162s 646ms/step - loss: 0.3930 - acc: 0.8177 - val_loss: 0.4190 - val_acc: 0.8044\n",
      "Epoch 14/30\n",
      "250/250 [==============================] - ETA: 0s - loss: 0.3932 - acc: 0.8202\n",
      "Epoch 14: val_acc did not improve from 0.81401\n",
      "250/250 [==============================] - 161s 642ms/step - loss: 0.3932 - acc: 0.8202 - val_loss: 0.4127 - val_acc: 0.8125\n",
      "Epoch 15/30\n",
      "250/250 [==============================] - ETA: 0s - loss: 0.3885 - acc: 0.8251\n",
      "Epoch 15: val_acc did not improve from 0.81401\n",
      "250/250 [==============================] - 160s 637ms/step - loss: 0.3885 - acc: 0.8251 - val_loss: 0.4315 - val_acc: 0.8115\n",
      "Epoch 16/30\n",
      "250/250 [==============================] - ETA: 0s - loss: 0.3766 - acc: 0.8291\n",
      "Epoch 16: val_acc improved from 0.81401 to 0.82359, saving model to ./for_generator_korean_VGG\\cp-0030.ckpt\n",
      "250/250 [==============================] - 162s 647ms/step - loss: 0.3766 - acc: 0.8291 - val_loss: 0.4094 - val_acc: 0.8236\n",
      "Epoch 17/30\n",
      "250/250 [==============================] - ETA: 0s - loss: 0.3739 - acc: 0.8289\n",
      "Epoch 17: val_acc did not improve from 0.82359\n",
      "250/250 [==============================] - 161s 641ms/step - loss: 0.3739 - acc: 0.8289 - val_loss: 0.4067 - val_acc: 0.8191\n",
      "Epoch 18/30\n",
      "250/250 [==============================] - ETA: 0s - loss: 0.3682 - acc: 0.8327\n",
      "Epoch 18: val_acc did not improve from 0.82359\n",
      "250/250 [==============================] - 157s 626ms/step - loss: 0.3682 - acc: 0.8327 - val_loss: 0.4123 - val_acc: 0.8185\n",
      "Epoch 19/30\n",
      "250/250 [==============================] - ETA: 0s - loss: 0.3608 - acc: 0.8386\n",
      "Epoch 19: val_acc did not improve from 0.82359\n",
      "250/250 [==============================] - 162s 648ms/step - loss: 0.3608 - acc: 0.8386 - val_loss: 0.4402 - val_acc: 0.8059\n",
      "Epoch 20/30\n",
      "250/250 [==============================] - ETA: 0s - loss: 0.3610 - acc: 0.8407\n",
      "Epoch 20: val_acc did not improve from 0.82359\n",
      "250/250 [==============================] - 159s 635ms/step - loss: 0.3610 - acc: 0.8407 - val_loss: 0.4196 - val_acc: 0.8090\n",
      "Epoch 21/30\n",
      "250/250 [==============================] - ETA: 0s - loss: 0.3587 - acc: 0.8387\n",
      "Epoch 21: val_acc did not improve from 0.82359\n",
      "250/250 [==============================] - 160s 640ms/step - loss: 0.3587 - acc: 0.8387 - val_loss: 0.4246 - val_acc: 0.8100\n",
      "Epoch 22/30\n",
      "250/250 [==============================] - ETA: 0s - loss: 0.3531 - acc: 0.8438\n",
      "Epoch 22: val_acc did not improve from 0.82359\n",
      "250/250 [==============================] - 160s 639ms/step - loss: 0.3531 - acc: 0.8438 - val_loss: 0.4044 - val_acc: 0.8155\n",
      "Epoch 23/30\n",
      "250/250 [==============================] - ETA: 0s - loss: 0.3461 - acc: 0.8443\n",
      "Epoch 23: val_acc did not improve from 0.82359\n",
      "250/250 [==============================] - 161s 642ms/step - loss: 0.3461 - acc: 0.8443 - val_loss: 0.4386 - val_acc: 0.8085\n",
      "Epoch 24/30\n",
      "250/250 [==============================] - ETA: 0s - loss: 0.3369 - acc: 0.8494\n",
      "Epoch 24: val_acc did not improve from 0.82359\n",
      "250/250 [==============================] - 161s 641ms/step - loss: 0.3369 - acc: 0.8494 - val_loss: 0.4442 - val_acc: 0.8160\n",
      "Epoch 25/30\n",
      "250/250 [==============================] - ETA: 0s - loss: 0.3384 - acc: 0.8501\n",
      "Epoch 25: val_acc did not improve from 0.82359\n",
      "250/250 [==============================] - 162s 647ms/step - loss: 0.3384 - acc: 0.8501 - val_loss: 0.4341 - val_acc: 0.8221\n",
      "Epoch 26/30\n",
      "250/250 [==============================] - ETA: 0s - loss: 0.3368 - acc: 0.8508\n",
      "Epoch 26: val_acc did not improve from 0.82359\n",
      "250/250 [==============================] - 160s 637ms/step - loss: 0.3368 - acc: 0.8508 - val_loss: 0.4084 - val_acc: 0.8211\n",
      "Epoch 27/30\n",
      "250/250 [==============================] - ETA: 0s - loss: 0.3268 - acc: 0.8523\n",
      "Epoch 27: val_acc did not improve from 0.82359\n",
      "250/250 [==============================] - 158s 630ms/step - loss: 0.3268 - acc: 0.8523 - val_loss: 0.4387 - val_acc: 0.8170\n",
      "Epoch 28/30\n",
      "250/250 [==============================] - ETA: 0s - loss: 0.3206 - acc: 0.8594\n",
      "Epoch 28: val_acc did not improve from 0.82359\n",
      "250/250 [==============================] - 158s 630ms/step - loss: 0.3206 - acc: 0.8594 - val_loss: 0.4331 - val_acc: 0.8216\n",
      "Epoch 29/30\n",
      "250/250 [==============================] - ETA: 0s - loss: 0.3133 - acc: 0.8624\n",
      "Epoch 29: val_acc did not improve from 0.82359\n",
      "250/250 [==============================] - 159s 636ms/step - loss: 0.3133 - acc: 0.8624 - val_loss: 0.4322 - val_acc: 0.8175\n",
      "Epoch 30/30\n",
      "250/250 [==============================] - ETA: 0s - loss: 0.3241 - acc: 0.8573\n",
      "Epoch 30: val_acc did not improve from 0.82359\n",
      "250/250 [==============================] - 158s 631ms/step - loss: 0.3241 - acc: 0.8573 - val_loss: 0.4229 - val_acc: 0.8160\n"
     ]
    }
   ],
   "source": [
    "checkpoint_path = f\"./{NAME}_VGG/cp-{EPOCH:04d}.ckpt\"   # 3\n",
    "checkpoint_dir = os.path.dirname(checkpoint_path)\n",
    "cp_callback = tf.keras.callbacks.ModelCheckpoint(filepath=checkpoint_path,\n",
    "                                                 save_weights_only=True,\n",
    "                                                 verbose=1,\n",
    "                                                #  period=5,\n",
    "                                                 monitor='val_acc',\n",
    "                                                 mode='max',\n",
    "                                                 save_best_only=True)\n",
    "\n",
    "history = model_final.fit(\n",
    "    train_generator,\n",
    "    steps_per_epoch=TRAIN_SAMPLES // BATCH_SIZE, # number of updates\n",
    "    epochs=EPOCH,\n",
    "    validation_data=validation_generator,\n",
    "    validation_steps=VALIDATION_SAMPLES // BATCH_SIZE,\n",
    "    callbacks=[cp_callback ])"
   ]
  },
  {
   "cell_type": "code",
   "execution_count": 11,
   "metadata": {},
   "outputs": [
    {
     "data": {
      "image/png": "[encoded data removed]",
      "text/plain": [
       "<Figure size 432x288 with 1 Axes>"
      ]
     },
     "metadata": {
      "needs_background": "light"
     },
     "output_type": "display_data"
    }
   ],
   "source": [
    "import matplotlib.pyplot as plt\n",
    "plt.plot(history.history['loss'])\n",
    "plt.plot(history.history['val_loss'])\n",
    "plt.xlabel('epoch')\n",
    "plt.ylabel('loss')\n",
    "plt.legend(['train','val'])\n",
    "plt.show()"
   ]
  },
  {
   "cell_type": "code",
   "execution_count": 12,
   "metadata": {},
   "outputs": [
    {
     "data": {
      "image/png": "[encoded data removed]",
      "text/plain": [
       "<Figure size 432x288 with 1 Axes>"
      ]
     },
     "metadata": {
      "needs_background": "light"
     },
     "output_type": "display_data"
    }
   ],
   "source": [
    "import matplotlib.pyplot as plt\n",
    "plt.plot(history.history['acc'])\n",
    "plt.plot(history.history['val_acc'])\n",
    "plt.xlabel('epoch')\n",
    "plt.ylabel('accuracy')\n",
    "plt.legend(['train','val'])\n",
    "plt.show()"
   ]
  },
  {
   "cell_type": "markdown",
   "metadata": {},
   "source": [
    "## 모델 성능평가"
   ]
  },
  {
   "cell_type": "code",
   "execution_count": 13,
   "metadata": {},
   "outputs": [
    {
     "name": "stdout",
     "output_type": "stream",
     "text": [
      "Found 2000 images belonging to 2 classes.\n"
     ]
    }
   ],
   "source": [
    "test_datagen = ImageDataGenerator(preprocessing_function=preprocess_input)\n",
    " \n",
    "test_generator = val_datagen.flow_from_directory(\n",
    "    TEST_DATA_DIR,\n",
    "    target_size=(IMG_WIDTH, IMG_HEIGHT),\n",
    "    batch_size=BATCH_SIZE,\n",
    "    shuffle=False,\n",
    "    class_mode='categorical')"
   ]
  },
  {
   "cell_type": "code",
   "execution_count": 15,
   "metadata": {},
   "outputs": [
    {
     "name": "stdout",
     "output_type": "stream",
     "text": [
      "31/31 [==============================] - 10s 304ms/step - loss: 0.3829 - acc: 0.8367\n"
     ]
    },
    {
     "data": {
      "text/plain": [
       "[0.38285115361213684, 0.836693525314331]"
      ]
     },
     "execution_count": 15,
     "metadata": {},
     "output_type": "execute_result"
    }
   ],
   "source": [
    "latest = tf.train.latest_checkpoint(checkpoint_dir)\n",
    "model_final.load_weights(latest)\n",
    "\n",
    "model_final.evaluate(test_generator, steps=VALIDATION_SAMPLES // BATCH_SIZE)\n"
   ]
  },
  {
   "cell_type": "code",
   "execution_count": 11,
   "metadata": {},
   "outputs": [
    {
     "name": "stderr",
     "output_type": "stream",
     "text": [
      "WARNING:absl:Found untraced functions such as _jit_compiled_convolution_op, _jit_compiled_convolution_op, _jit_compiled_convolution_op, _jit_compiled_convolution_op, _jit_compiled_convolution_op while saving (showing 5 of 13). These functions will not be directly callable after loading.\n"
     ]
    },
    {
     "name": "stdout",
     "output_type": "stream",
     "text": [
      "INFO:tensorflow:Assets written to: ./VGG_us_accident/VGG_us_accident\\assets\n"
     ]
    },
    {
     "name": "stderr",
     "output_type": "stream",
     "text": [
      "INFO:tensorflow:Assets written to: ./VGG_us_accident/VGG_us_accident\\assets\n"
     ]
    }
   ],
   "source": [
    "model_final.save(f'./{NAME}_VGG_us_accident.h5')\n",
    "model_final.save(f'./{NAME}_VGG_us_accident/VGG_us_accident')"
   ]
  }
 ],
 "metadata": {
  "kernelspec": {
   "display_name": "Python 3.8.11 ('base')",
   "language": "python",
   "name": "python3"
  },
  "language_info": {
   "codemirror_mode": {
    "name": "ipython",
    "version": 3
   },
   "file_extension": ".py",
   "mimetype": "text/x-python",
   "name": "python",
   "nbconvert_exporter": "python",
   "pygments_lexer": "ipython3",
   "version": "3.8.11"
  },
  "orig_nbformat": 4,
  "vscode": {
   "interpreter": {
    "hash": "af8e2bc38c47ad2eb2801b8a1df8ba266ffc32d6dc21ae3dca26080e3882f8b5"
   }
  }
 },
 "nbformat": 4,
 "nbformat_minor": 2
}
