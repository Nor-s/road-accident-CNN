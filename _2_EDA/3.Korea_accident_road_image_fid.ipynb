{
 "cells": [
  {
   "cell_type": "markdown",
   "metadata": {},
   "source": [
    "## 이미지 집합 끼리의 특징 거리를 계산해주는 FID를 사용하여 사고와 도로의 상관관계를 파악\n",
    "\n",
    "- 전체 도로 이미지 집합의 분포에서 추출한 사고 O 도로와 사고 X 도로\n",
    "- 이는 '사고'의 여부를 조건으로 추출된 것.\n",
    "- 만약 '사고'라는 조건으로 수집한 이미지 집합의 분포가 전체 도로 이미지 집합 분포와 거리가 크다면, 이는 사고라는 요인이 도로 이미지와 상관관계가 있음을 의미한다고 볼 수 있음\n",
    "- 또한, (사고 O 와 사고 X 도로)의 FID 는  (사고 O 와 전체 도로) FID 보다 더욱 더 클 가능성이 있음 (전체 도로는 사고O를 포함하고 있기 때문)"
   ]
  },
  {
   "cell_type": "code",
   "execution_count": 1,
   "metadata": {},
   "outputs": [
    {
     "name": "stdout",
     "output_type": "stream",
     "text": [
      "Collecting clean-fid\n",
      "  Using cached clean_fid-0.1.32-py3-none-any.whl (26 kB)\n",
      "Requirement already satisfied: numpy>=1.14.3 in c:\\users\\no\\anaconda3\\envs\\pytorch\\lib\\site-packages (from clean-fid) (1.22.3)\n",
      "Collecting requests==2.25.1\n",
      "  Using cached requests-2.25.1-py2.py3-none-any.whl (61 kB)\n",
      "Requirement already satisfied: torchvision in c:\\users\\no\\anaconda3\\envs\\pytorch\\lib\\site-packages (from clean-fid) (0.13.0)\n",
      "Requirement already satisfied: torch in c:\\users\\no\\anaconda3\\envs\\pytorch\\lib\\site-packages (from clean-fid) (1.12.0)\n",
      "Requirement already satisfied: scipy>=1.0.1 in c:\\users\\no\\anaconda3\\envs\\pytorch\\lib\\site-packages (from clean-fid) (1.8.1)\n",
      "Requirement already satisfied: pillow>=8.1 in c:\\users\\no\\anaconda3\\envs\\pytorch\\lib\\site-packages (from clean-fid) (9.0.1)\n",
      "Requirement already satisfied: tqdm>=4.28.1 in c:\\users\\no\\anaconda3\\envs\\pytorch\\lib\\site-packages (from clean-fid) (4.64.0)\n",
      "Collecting chardet<5,>=3.0.2\n",
      "  Downloading chardet-4.0.0-py2.py3-none-any.whl (178 kB)\n",
      "Requirement already satisfied: certifi>=2017.4.17 in c:\\users\\no\\anaconda3\\envs\\pytorch\\lib\\site-packages (from requests==2.25.1->clean-fid) (2022.6.15)\n",
      "Collecting idna<3,>=2.5\n",
      "  Using cached idna-2.10-py2.py3-none-any.whl (58 kB)\n",
      "Requirement already satisfied: urllib3<1.27,>=1.21.1 in c:\\users\\no\\anaconda3\\envs\\pytorch\\lib\\site-packages (from requests==2.25.1->clean-fid) (1.26.9)\n",
      "Requirement already satisfied: colorama in c:\\users\\no\\appdata\\roaming\\python\\python310\\site-packages (from tqdm>=4.28.1->clean-fid) (0.4.5)\n",
      "Requirement already satisfied: typing_extensions in c:\\users\\no\\anaconda3\\envs\\pytorch\\lib\\site-packages (from torch->clean-fid) (4.1.1)\n",
      "Installing collected packages: idna, chardet, requests, clean-fid\n",
      "  Attempting uninstall: idna\n",
      "    Found existing installation: idna 3.3\n",
      "    Uninstalling idna-3.3:\n",
      "      Successfully uninstalled idna-3.3\n",
      "  Attempting uninstall: requests\n",
      "    Found existing installation: requests 2.28.0\n",
      "    Uninstalling requests-2.28.0:\n",
      "      Successfully uninstalled requests-2.28.0\n",
      "Successfully installed chardet-4.0.0 clean-fid-0.1.32 idna-2.10 requests-2.25.1\n"
     ]
    }
   ],
   "source": [
    "!pip install clean-fid"
   ]
  },
  {
   "cell_type": "code",
   "execution_count": 3,
   "metadata": {},
   "outputs": [],
   "source": [
    "from cleanfid import fid\n",
    "\n",
    "dir1 =  '/data/accident/images/'\n",
    "dir2 = '/data/random/images/'\n",
    "dir3 = '/data/no_accident/images/'\n",
    "no_accident_80 = '/data/no_accident_80_500/images/'\n",
    "random_80 = '/data/random_80/images/'\n",
    "accident_80 =  '/data/accident_80/images/'\n",
    "\n",
    "random_50 = '/data/random_50/images/'\n",
    "accident_50 =  '/data/accident_50/images/'\n",
    "no_accident_50 = '/data/no_accident_50_500/images/'"
   ]
  },
  {
   "cell_type": "markdown",
   "metadata": {},
   "source": [
    "## FID를 계산할 10000개의 데이터를 샘플링"
   ]
  },
  {
   "cell_type": "code",
   "execution_count": 4,
   "metadata": {},
   "outputs": [],
   "source": [
    "dir_list = [random_50, no_accident_50, accident_50]\n",
    "\n",
    "def make_dirs(dirs):\n",
    "    if not os.path.exists(dirs):\n",
    "        os.makedirs(dirs)\n",
    "tmp_dirname = './tmp_data'\n",
    "# random folder\n",
    "count = 0\n",
    "for dir_path  in dir_list:\n",
    "    make_dirs(tmp_dirname+dir_path)\n",
    "\n",
    "    from pathlib import Path\n",
    "    import random\n",
    "\n",
    "    pathlist = Path('./'+dir_path).glob('**/*.png')\n",
    "    nof_samples = 9000\n",
    "    rc = []\n",
    "    rc = []\n",
    "    for k, path in enumerate(pathlist):\n",
    "        if k < nof_samples:\n",
    "            rc.append(str(path)) # because path is object not string\n",
    "        else:\n",
    "            i = random.randint(0, k)\n",
    "            if i < nof_samples:\n",
    "                rc[i] = str(path)\n",
    "\n",
    "    import shutil            \n",
    "    idx = 0\n",
    "    for src in rc:\n",
    "        dst = tmp_dirname +  dir_path + str(idx) + '.png'\n",
    "        shutil.copyfile(src, dst)\n",
    "        idx+=1"
   ]
  },
  {
   "cell_type": "code",
   "execution_count": 5,
   "metadata": {},
   "outputs": [],
   "source": [
    "tmp_random_80 = tmp_dirname +  random_50\n",
    "tmp_accident_80 = tmp_dirname +  accident_50\n",
    "tmp_no_accident_80 = tmp_dirname +  no_accident_50"
   ]
  },
  {
   "cell_type": "markdown",
   "metadata": {},
   "source": [
    "## 전체 도로와 사고 O 도로"
   ]
  },
  {
   "cell_type": "code",
   "execution_count": 6,
   "metadata": {},
   "outputs": [
    {
     "name": "stdout",
     "output_type": "stream",
     "text": [
      "compute FID between two folders\n",
      "Found 18000 images in the folder ./tmp_data/data/random_50/images/\n"
     ]
    },
    {
     "name": "stderr",
     "output_type": "stream",
     "text": [
      "FID  : 100%|██████████| 563/563 [04:00<00:00,  2.34it/s]\n"
     ]
    },
    {
     "name": "stdout",
     "output_type": "stream",
     "text": [
      "Found 18000 images in the folder ./tmp_data/data/accident_50/images/\n"
     ]
    },
    {
     "name": "stderr",
     "output_type": "stream",
     "text": [
      "FID  : 100%|██████████| 563/563 [03:40<00:00,  2.55it/s]\n"
     ]
    },
    {
     "name": "stdout",
     "output_type": "stream",
     "text": [
      "26.534746132950403\n"
     ]
    }
   ],
   "source": [
    "score = fid.compute_fid(tmp_random_80, tmp_accident_80, num_workers=0)\n",
    "print(score)"
   ]
  },
  {
   "cell_type": "markdown",
   "metadata": {},
   "source": [
    "## 사고 X 도로와 전체 도로의 FID"
   ]
  },
  {
   "cell_type": "code",
   "execution_count": 7,
   "metadata": {},
   "outputs": [
    {
     "name": "stdout",
     "output_type": "stream",
     "text": [
      "compute FID between two folders\n",
      "Found 18000 images in the folder ./tmp_data/data/random_50/images/\n"
     ]
    },
    {
     "name": "stderr",
     "output_type": "stream",
     "text": [
      "FID  : 100%|██████████| 563/563 [03:12<00:00,  2.92it/s]\n"
     ]
    },
    {
     "name": "stdout",
     "output_type": "stream",
     "text": [
      "Found 18000 images in the folder ./tmp_data/data/no_accident_50_500/images/\n"
     ]
    },
    {
     "name": "stderr",
     "output_type": "stream",
     "text": [
      "FID  : 100%|██████████| 563/563 [03:48<00:00,  2.46it/s]\n"
     ]
    },
    {
     "name": "stdout",
     "output_type": "stream",
     "text": [
      "2.3097603610657416\n"
     ]
    }
   ],
   "source": [
    "score = fid.compute_fid(tmp_random_80, tmp_no_accident_80, num_workers=0)\n",
    "print(score)"
   ]
  },
  {
   "cell_type": "markdown",
   "metadata": {},
   "source": [
    "## 사고 O 도로와 사고 X 도로"
   ]
  },
  {
   "cell_type": "code",
   "execution_count": 8,
   "metadata": {},
   "outputs": [
    {
     "name": "stdout",
     "output_type": "stream",
     "text": [
      "compute FID between two folders\n",
      "Found 18000 images in the folder ./tmp_data/data/accident_50/images/\n"
     ]
    },
    {
     "name": "stderr",
     "output_type": "stream",
     "text": [
      "FID  : 100%|██████████| 563/563 [03:11<00:00,  2.94it/s]\n"
     ]
    },
    {
     "name": "stdout",
     "output_type": "stream",
     "text": [
      "Found 18000 images in the folder ./tmp_data/data/no_accident_50_500/images/\n"
     ]
    },
    {
     "name": "stderr",
     "output_type": "stream",
     "text": [
      "FID  : 100%|██████████| 563/563 [03:10<00:00,  2.95it/s]\n"
     ]
    },
    {
     "name": "stdout",
     "output_type": "stream",
     "text": [
      "32.00177441244119\n"
     ]
    }
   ],
   "source": [
    "score = fid.compute_fid(tmp_accident_80, tmp_no_accident_80, num_workers=0)\n",
    "print(score)"
   ]
  },
  {
   "cell_type": "markdown",
   "metadata": {},
   "source": [
    "## 전체 도로 이미지와 전체 도로 이미지를 위한 샘플링"
   ]
  },
  {
   "cell_type": "code",
   "execution_count": 22,
   "metadata": {},
   "outputs": [],
   "source": [
    "random_80 = '/data/random_80/images'\n",
    "\n",
    "dir_list = [random_80 ] * 10\n",
    "\n",
    "def make_dirs(dirs):\n",
    "    if not os.path.exists(dirs):\n",
    "        os.makedirs(dirs)\n",
    "tmp_dirname = './tmp_data'\n",
    "# random folder\n",
    "count = 0\n",
    "for dir_path  in dir_list:\n",
    "    new_dir = tmp_dirname+dir_path + str(count)\n",
    "    count +=1\n",
    "    make_dirs(new_dir)\n",
    "\n",
    "    from pathlib import Path\n",
    "    import random\n",
    "\n",
    "    pathlist = Path('./'+dir_path).glob('**/*.png')\n",
    "    nof_samples = 10000\n",
    "    rc = []\n",
    "    rc = []\n",
    "    for k, path in enumerate(pathlist):\n",
    "        if k < nof_samples:\n",
    "            rc.append(str(path)) # because path is object not string\n",
    "        else:\n",
    "            i = random.randint(0, k)\n",
    "            if i < nof_samples:\n",
    "                rc[i] = str(path)\n",
    "\n",
    "    import shutil            \n",
    "    idx = 0\n",
    "    for src in rc:\n",
    "        dst = new_dir + '/' + str(idx) + '.png'\n",
    "        shutil.copyfile(src, dst)\n",
    "        idx+=1"
   ]
  },
  {
   "cell_type": "markdown",
   "metadata": {},
   "source": [
    "## 전체 도로 20000 개의 이미지에서 10000개의 이미지를 10번 샘플링하여 서로의 FID를 계산\n",
    "\n",
    "- 결과값은 0~1"
   ]
  },
  {
   "cell_type": "code",
   "execution_count": 25,
   "metadata": {},
   "outputs": [
    {
     "name": "stdout",
     "output_type": "stream",
     "text": [
      "compute FID between two folders\n",
      "Found 20000 images in the folder D:\\1_SW2\\tmp_data\\data\\random_80\\images0\n"
     ]
    },
    {
     "name": "stderr",
     "output_type": "stream",
     "text": [
      "FID images0 : 100%|██████████| 625/625 [04:16<00:00,  2.44it/s]\n"
     ]
    },
    {
     "name": "stdout",
     "output_type": "stream",
     "text": [
      "Found 20000 images in the folder D:\\1_SW2\\tmp_data\\data\\random_80\\images0\n"
     ]
    },
    {
     "name": "stderr",
     "output_type": "stream",
     "text": [
      "FID images0 : 100%|██████████| 625/625 [03:42<00:00,  2.81it/s]\n"
     ]
    },
    {
     "name": "stdout",
     "output_type": "stream",
     "text": [
      "0 0 -2.0406787371030077e-11\n",
      "compute FID between two folders\n",
      "Found 20000 images in the folder D:\\1_SW2\\tmp_data\\data\\random_80\\images0\n"
     ]
    },
    {
     "name": "stderr",
     "output_type": "stream",
     "text": [
      "FID images0 : 100%|██████████| 625/625 [03:39<00:00,  2.85it/s]\n"
     ]
    },
    {
     "name": "stdout",
     "output_type": "stream",
     "text": [
      "Found 20000 images in the folder D:\\1_SW2\\tmp_data\\data\\random_80\\images1\n"
     ]
    },
    {
     "name": "stderr",
     "output_type": "stream",
     "text": [
      "FID images1 : 100%|██████████| 625/625 [04:09<00:00,  2.51it/s]\n"
     ]
    },
    {
     "name": "stdout",
     "output_type": "stream",
     "text": [
      "0 1 1.1101354297844068\n",
      "compute FID between two folders\n",
      "Found 20000 images in the folder D:\\1_SW2\\tmp_data\\data\\random_80\\images0\n"
     ]
    },
    {
     "name": "stderr",
     "output_type": "stream",
     "text": [
      "FID images0 : 100%|██████████| 625/625 [03:48<00:00,  2.73it/s]\n"
     ]
    },
    {
     "name": "stdout",
     "output_type": "stream",
     "text": [
      "Found 20000 images in the folder D:\\1_SW2\\tmp_data\\data\\random_80\\images2\n"
     ]
    },
    {
     "name": "stderr",
     "output_type": "stream",
     "text": [
      "FID images2 : 100%|██████████| 625/625 [04:17<00:00,  2.43it/s]\n"
     ]
    },
    {
     "name": "stdout",
     "output_type": "stream",
     "text": [
      "0 2 1.1496039586899656\n",
      "compute FID between two folders\n",
      "Found 20000 images in the folder D:\\1_SW2\\tmp_data\\data\\random_80\\images0\n"
     ]
    },
    {
     "name": "stderr",
     "output_type": "stream",
     "text": [
      "FID images0 : 100%|██████████| 625/625 [03:40<00:00,  2.83it/s]\n"
     ]
    },
    {
     "name": "stdout",
     "output_type": "stream",
     "text": [
      "Found 20000 images in the folder D:\\1_SW2\\tmp_data\\data\\random_80\\images3\n"
     ]
    },
    {
     "name": "stderr",
     "output_type": "stream",
     "text": [
      "FID images3 : 100%|██████████| 625/625 [04:08<00:00,  2.52it/s]\n"
     ]
    },
    {
     "name": "stdout",
     "output_type": "stream",
     "text": [
      "0 3 1.0968262861294988\n",
      "compute FID between two folders\n",
      "Found 20000 images in the folder D:\\1_SW2\\tmp_data\\data\\random_80\\images0\n"
     ]
    },
    {
     "name": "stderr",
     "output_type": "stream",
     "text": [
      "FID images0 : 100%|██████████| 625/625 [03:41<00:00,  2.82it/s]\n"
     ]
    },
    {
     "name": "stdout",
     "output_type": "stream",
     "text": [
      "Found 20000 images in the folder D:\\1_SW2\\tmp_data\\data\\random_80\\images4\n"
     ]
    },
    {
     "name": "stderr",
     "output_type": "stream",
     "text": [
      "FID images4 : 100%|██████████| 625/625 [04:12<00:00,  2.47it/s]\n"
     ]
    },
    {
     "name": "stdout",
     "output_type": "stream",
     "text": [
      "0 4 1.1376561852362101\n",
      "compute FID between two folders\n",
      "Found 20000 images in the folder D:\\1_SW2\\tmp_data\\data\\random_80\\images0\n"
     ]
    },
    {
     "name": "stderr",
     "output_type": "stream",
     "text": [
      "FID images0 : 100%|██████████| 625/625 [03:41<00:00,  2.82it/s]\n"
     ]
    },
    {
     "name": "stdout",
     "output_type": "stream",
     "text": [
      "Found 20000 images in the folder D:\\1_SW2\\tmp_data\\data\\random_80\\images5\n"
     ]
    },
    {
     "name": "stderr",
     "output_type": "stream",
     "text": [
      "FID images5 : 100%|██████████| 625/625 [04:07<00:00,  2.52it/s]\n"
     ]
    },
    {
     "name": "stdout",
     "output_type": "stream",
     "text": [
      "0 5 1.1109838025596446\n",
      "compute FID between two folders\n",
      "Found 20000 images in the folder D:\\1_SW2\\tmp_data\\data\\random_80\\images0\n"
     ]
    },
    {
     "name": "stderr",
     "output_type": "stream",
     "text": [
      "FID images0 : 100%|██████████| 625/625 [03:43<00:00,  2.80it/s]\n"
     ]
    },
    {
     "name": "stdout",
     "output_type": "stream",
     "text": [
      "Found 20000 images in the folder D:\\1_SW2\\tmp_data\\data\\random_80\\images6\n"
     ]
    },
    {
     "name": "stderr",
     "output_type": "stream",
     "text": [
      "FID images6 : 100%|██████████| 625/625 [04:16<00:00,  2.44it/s]\n"
     ]
    },
    {
     "name": "stdout",
     "output_type": "stream",
     "text": [
      "0 6 1.0984511225090046\n",
      "compute FID between two folders\n",
      "Found 20000 images in the folder D:\\1_SW2\\tmp_data\\data\\random_80\\images0\n"
     ]
    },
    {
     "name": "stderr",
     "output_type": "stream",
     "text": [
      "FID images0 : 100%|██████████| 625/625 [03:42<00:00,  2.81it/s]\n"
     ]
    },
    {
     "name": "stdout",
     "output_type": "stream",
     "text": [
      "Found 20000 images in the folder D:\\1_SW2\\tmp_data\\data\\random_80\\images7\n"
     ]
    },
    {
     "name": "stderr",
     "output_type": "stream",
     "text": [
      "FID images7 : 100%|██████████| 625/625 [04:05<00:00,  2.55it/s]\n"
     ]
    },
    {
     "name": "stdout",
     "output_type": "stream",
     "text": [
      "0 7 1.1354423075835598\n",
      "compute FID between two folders\n",
      "Found 20000 images in the folder D:\\1_SW2\\tmp_data\\data\\random_80\\images0\n"
     ]
    },
    {
     "name": "stderr",
     "output_type": "stream",
     "text": [
      "FID images0 : 100%|██████████| 625/625 [03:42<00:00,  2.80it/s]\n"
     ]
    },
    {
     "name": "stdout",
     "output_type": "stream",
     "text": [
      "Found 20000 images in the folder D:\\1_SW2\\tmp_data\\data\\random_80\\images8\n"
     ]
    },
    {
     "name": "stderr",
     "output_type": "stream",
     "text": [
      "FID images8 : 100%|██████████| 625/625 [04:22<00:00,  2.38it/s]\n"
     ]
    },
    {
     "name": "stdout",
     "output_type": "stream",
     "text": [
      "0 8 1.131656378634034\n",
      "compute FID between two folders\n",
      "Found 20000 images in the folder D:\\1_SW2\\tmp_data\\data\\random_80\\images0\n"
     ]
    },
    {
     "name": "stderr",
     "output_type": "stream",
     "text": [
      "FID images0 : 100%|██████████| 625/625 [03:50<00:00,  2.71it/s]\n"
     ]
    },
    {
     "name": "stdout",
     "output_type": "stream",
     "text": [
      "Found 20000 images in the folder D:\\1_SW2\\tmp_data\\data\\random_80\\images9\n"
     ]
    },
    {
     "name": "stderr",
     "output_type": "stream",
     "text": [
      "FID images9 : 100%|██████████| 625/625 [04:25<00:00,  2.36it/s]\n"
     ]
    },
    {
     "name": "stdout",
     "output_type": "stream",
     "text": [
      "0 9 1.1012942466056188\n",
      "compute FID between two folders\n",
      "Found 20000 images in the folder D:\\1_SW2\\tmp_data\\data\\random_80\\images1\n"
     ]
    },
    {
     "name": "stderr",
     "output_type": "stream",
     "text": [
      "FID images1 : 100%|██████████| 625/625 [03:48<00:00,  2.74it/s]\n"
     ]
    },
    {
     "name": "stdout",
     "output_type": "stream",
     "text": [
      "Found 20000 images in the folder D:\\1_SW2\\tmp_data\\data\\random_80\\images0\n"
     ]
    },
    {
     "name": "stderr",
     "output_type": "stream",
     "text": [
      "FID images0 : 100%|██████████| 625/625 [03:56<00:00,  2.64it/s]\n"
     ]
    },
    {
     "name": "stdout",
     "output_type": "stream",
     "text": [
      "1 0 1.1101354297815078\n",
      "compute FID between two folders\n",
      "Found 20000 images in the folder D:\\1_SW2\\tmp_data\\data\\random_80\\images1\n"
     ]
    },
    {
     "name": "stderr",
     "output_type": "stream",
     "text": [
      "FID images1 : 100%|██████████| 625/625 [03:48<00:00,  2.74it/s]\n"
     ]
    },
    {
     "name": "stdout",
     "output_type": "stream",
     "text": [
      "Found 20000 images in the folder D:\\1_SW2\\tmp_data\\data\\random_80\\images1\n"
     ]
    },
    {
     "name": "stderr",
     "output_type": "stream",
     "text": [
      "FID images1 : 100%|██████████| 625/625 [03:45<00:00,  2.78it/s]\n"
     ]
    },
    {
     "name": "stdout",
     "output_type": "stream",
     "text": [
      "1 1 -5.7980287238024175e-12\n",
      "compute FID between two folders\n",
      "Found 20000 images in the folder D:\\1_SW2\\tmp_data\\data\\random_80\\images1\n"
     ]
    },
    {
     "name": "stderr",
     "output_type": "stream",
     "text": [
      "FID images1 : 100%|██████████| 625/625 [03:56<00:00,  2.65it/s]\n"
     ]
    },
    {
     "name": "stdout",
     "output_type": "stream",
     "text": [
      "Found 20000 images in the folder D:\\1_SW2\\tmp_data\\data\\random_80\\images2\n"
     ]
    },
    {
     "name": "stderr",
     "output_type": "stream",
     "text": [
      "FID images2 : 100%|██████████| 625/625 [03:56<00:00,  2.65it/s]\n"
     ]
    },
    {
     "name": "stdout",
     "output_type": "stream",
     "text": [
      "1 2 1.137763711647949\n",
      "compute FID between two folders\n",
      "Found 20000 images in the folder D:\\1_SW2\\tmp_data\\data\\random_80\\images1\n"
     ]
    },
    {
     "name": "stderr",
     "output_type": "stream",
     "text": [
      "FID images1 : 100%|██████████| 625/625 [03:49<00:00,  2.72it/s]\n"
     ]
    },
    {
     "name": "stdout",
     "output_type": "stream",
     "text": [
      "Found 20000 images in the folder D:\\1_SW2\\tmp_data\\data\\random_80\\images3\n"
     ]
    },
    {
     "name": "stderr",
     "output_type": "stream",
     "text": [
      "FID images3 : 100%|██████████| 625/625 [03:35<00:00,  2.90it/s]\n"
     ]
    },
    {
     "name": "stdout",
     "output_type": "stream",
     "text": [
      "1 3 1.1122138982263436\n",
      "compute FID between two folders\n",
      "Found 20000 images in the folder D:\\1_SW2\\tmp_data\\data\\random_80\\images1\n"
     ]
    },
    {
     "name": "stderr",
     "output_type": "stream",
     "text": [
      "FID images1 : 100%|██████████| 625/625 [03:39<00:00,  2.85it/s]\n"
     ]
    },
    {
     "name": "stdout",
     "output_type": "stream",
     "text": [
      "Found 20000 images in the folder D:\\1_SW2\\tmp_data\\data\\random_80\\images4\n"
     ]
    },
    {
     "name": "stderr",
     "output_type": "stream",
     "text": [
      "FID images4 : 100%|██████████| 625/625 [03:45<00:00,  2.78it/s]\n"
     ]
    },
    {
     "name": "stdout",
     "output_type": "stream",
     "text": [
      "1 4 1.116219561491846\n",
      "compute FID between two folders\n",
      "Found 20000 images in the folder D:\\1_SW2\\tmp_data\\data\\random_80\\images1\n"
     ]
    },
    {
     "name": "stderr",
     "output_type": "stream",
     "text": [
      "FID images1 : 100%|██████████| 625/625 [03:45<00:00,  2.77it/s]\n"
     ]
    },
    {
     "name": "stdout",
     "output_type": "stream",
     "text": [
      "Found 20000 images in the folder D:\\1_SW2\\tmp_data\\data\\random_80\\images5\n"
     ]
    },
    {
     "name": "stderr",
     "output_type": "stream",
     "text": [
      "FID images5 : 100%|██████████| 625/625 [03:43<00:00,  2.80it/s]\n"
     ]
    },
    {
     "name": "stdout",
     "output_type": "stream",
     "text": [
      "1 5 1.1190012261271818\n",
      "compute FID between two folders\n",
      "Found 20000 images in the folder D:\\1_SW2\\tmp_data\\data\\random_80\\images1\n"
     ]
    },
    {
     "name": "stderr",
     "output_type": "stream",
     "text": [
      "FID images1 : 100%|██████████| 625/625 [03:44<00:00,  2.79it/s]\n"
     ]
    },
    {
     "name": "stdout",
     "output_type": "stream",
     "text": [
      "Found 20000 images in the folder D:\\1_SW2\\tmp_data\\data\\random_80\\images6\n"
     ]
    },
    {
     "name": "stderr",
     "output_type": "stream",
     "text": [
      "FID images6 : 100%|██████████| 625/625 [03:39<00:00,  2.84it/s]\n"
     ]
    },
    {
     "name": "stdout",
     "output_type": "stream",
     "text": [
      "1 6 1.121044997104832\n",
      "compute FID between two folders\n",
      "Found 20000 images in the folder D:\\1_SW2\\tmp_data\\data\\random_80\\images1\n"
     ]
    },
    {
     "name": "stderr",
     "output_type": "stream",
     "text": [
      "FID images1 : 100%|██████████| 625/625 [03:37<00:00,  2.87it/s]\n"
     ]
    },
    {
     "name": "stdout",
     "output_type": "stream",
     "text": [
      "Found 20000 images in the folder D:\\1_SW2\\tmp_data\\data\\random_80\\images7\n"
     ]
    },
    {
     "name": "stderr",
     "output_type": "stream",
     "text": [
      "FID images7 : 100%|██████████| 625/625 [03:41<00:00,  2.83it/s]\n"
     ]
    },
    {
     "name": "stdout",
     "output_type": "stream",
     "text": [
      "1 7 1.1269633413102724\n",
      "compute FID between two folders\n",
      "Found 20000 images in the folder D:\\1_SW2\\tmp_data\\data\\random_80\\images1\n"
     ]
    },
    {
     "name": "stderr",
     "output_type": "stream",
     "text": [
      "FID images1 : 100%|██████████| 625/625 [03:41<00:00,  2.82it/s]\n"
     ]
    },
    {
     "name": "stdout",
     "output_type": "stream",
     "text": [
      "Found 20000 images in the folder D:\\1_SW2\\tmp_data\\data\\random_80\\images8\n"
     ]
    },
    {
     "name": "stderr",
     "output_type": "stream",
     "text": [
      "FID images8 : 100%|██████████| 625/625 [03:42<00:00,  2.81it/s]\n"
     ]
    },
    {
     "name": "stdout",
     "output_type": "stream",
     "text": [
      "1 8 1.1156393476167636\n",
      "compute FID between two folders\n",
      "Found 20000 images in the folder D:\\1_SW2\\tmp_data\\data\\random_80\\images1\n"
     ]
    },
    {
     "name": "stderr",
     "output_type": "stream",
     "text": [
      "FID images1 : 100%|██████████| 625/625 [03:42<00:00,  2.81it/s]\n"
     ]
    },
    {
     "name": "stdout",
     "output_type": "stream",
     "text": [
      "Found 20000 images in the folder D:\\1_SW2\\tmp_data\\data\\random_80\\images9\n"
     ]
    },
    {
     "name": "stderr",
     "output_type": "stream",
     "text": [
      "FID images9 : 100%|██████████| 625/625 [03:42<00:00,  2.81it/s]\n"
     ]
    },
    {
     "name": "stdout",
     "output_type": "stream",
     "text": [
      "1 9 1.100906374625481\n",
      "compute FID between two folders\n",
      "Found 20000 images in the folder D:\\1_SW2\\tmp_data\\data\\random_80\\images2\n"
     ]
    },
    {
     "name": "stderr",
     "output_type": "stream",
     "text": [
      "FID images2 : 100%|██████████| 625/625 [03:46<00:00,  2.76it/s]\n"
     ]
    },
    {
     "name": "stdout",
     "output_type": "stream",
     "text": [
      "Found 20000 images in the folder D:\\1_SW2\\tmp_data\\data\\random_80\\images0\n"
     ]
    },
    {
     "name": "stderr",
     "output_type": "stream",
     "text": [
      "FID images0 : 100%|██████████| 625/625 [03:45<00:00,  2.78it/s]\n"
     ]
    },
    {
     "name": "stdout",
     "output_type": "stream",
     "text": [
      "2 0 1.1496039586925804\n",
      "compute FID between two folders\n",
      "Found 20000 images in the folder D:\\1_SW2\\tmp_data\\data\\random_80\\images2\n"
     ]
    },
    {
     "name": "stderr",
     "output_type": "stream",
     "text": [
      "FID images2 : 100%|██████████| 625/625 [03:41<00:00,  2.82it/s]\n"
     ]
    },
    {
     "name": "stdout",
     "output_type": "stream",
     "text": [
      "Found 20000 images in the folder D:\\1_SW2\\tmp_data\\data\\random_80\\images1\n"
     ]
    },
    {
     "name": "stderr",
     "output_type": "stream",
     "text": [
      "FID images1 : 100%|██████████| 625/625 [03:43<00:00,  2.80it/s]\n"
     ]
    },
    {
     "name": "stdout",
     "output_type": "stream",
     "text": [
      "2 1 1.1377637116511323\n",
      "compute FID between two folders\n",
      "Found 20000 images in the folder D:\\1_SW2\\tmp_data\\data\\random_80\\images2\n"
     ]
    },
    {
     "name": "stderr",
     "output_type": "stream",
     "text": [
      "FID images2 : 100%|██████████| 625/625 [03:43<00:00,  2.80it/s]\n"
     ]
    },
    {
     "name": "stdout",
     "output_type": "stream",
     "text": [
      "Found 20000 images in the folder D:\\1_SW2\\tmp_data\\data\\random_80\\images2\n"
     ]
    },
    {
     "name": "stderr",
     "output_type": "stream",
     "text": [
      "FID images2 : 100%|██████████| 625/625 [03:41<00:00,  2.83it/s]\n"
     ]
    },
    {
     "name": "stdout",
     "output_type": "stream",
     "text": [
      "2 2 2.4442670110147446e-12\n",
      "compute FID between two folders\n",
      "Found 20000 images in the folder D:\\1_SW2\\tmp_data\\data\\random_80\\images2\n"
     ]
    },
    {
     "name": "stderr",
     "output_type": "stream",
     "text": [
      "FID images2 : 100%|██████████| 625/625 [03:42<00:00,  2.81it/s]\n"
     ]
    },
    {
     "name": "stdout",
     "output_type": "stream",
     "text": [
      "Found 20000 images in the folder D:\\1_SW2\\tmp_data\\data\\random_80\\images3\n"
     ]
    },
    {
     "name": "stderr",
     "output_type": "stream",
     "text": [
      "FID images3 : 100%|██████████| 625/625 [03:39<00:00,  2.85it/s]\n"
     ]
    },
    {
     "name": "stdout",
     "output_type": "stream",
     "text": [
      "2 3 1.1330995434844908\n",
      "compute FID between two folders\n",
      "Found 20000 images in the folder D:\\1_SW2\\tmp_data\\data\\random_80\\images2\n"
     ]
    },
    {
     "name": "stderr",
     "output_type": "stream",
     "text": [
      "FID images2 : 100%|██████████| 625/625 [03:40<00:00,  2.83it/s]\n"
     ]
    },
    {
     "name": "stdout",
     "output_type": "stream",
     "text": [
      "Found 20000 images in the folder D:\\1_SW2\\tmp_data\\data\\random_80\\images4\n"
     ]
    },
    {
     "name": "stderr",
     "output_type": "stream",
     "text": [
      "FID images4 : 100%|██████████| 625/625 [03:43<00:00,  2.80it/s]\n"
     ]
    },
    {
     "name": "stdout",
     "output_type": "stream",
     "text": [
      "2 4 1.1120028935677624\n",
      "compute FID between two folders\n",
      "Found 20000 images in the folder D:\\1_SW2\\tmp_data\\data\\random_80\\images2\n"
     ]
    },
    {
     "name": "stderr",
     "output_type": "stream",
     "text": [
      "FID images2 : 100%|██████████| 625/625 [03:46<00:00,  2.76it/s]\n"
     ]
    },
    {
     "name": "stdout",
     "output_type": "stream",
     "text": [
      "Found 20000 images in the folder D:\\1_SW2\\tmp_data\\data\\random_80\\images5\n"
     ]
    },
    {
     "name": "stderr",
     "output_type": "stream",
     "text": [
      "FID images5 : 100%|██████████| 625/625 [03:40<00:00,  2.83it/s]\n"
     ]
    },
    {
     "name": "stdout",
     "output_type": "stream",
     "text": [
      "2 5 1.078774162347031\n",
      "compute FID between two folders\n",
      "Found 20000 images in the folder D:\\1_SW2\\tmp_data\\data\\random_80\\images2\n"
     ]
    },
    {
     "name": "stderr",
     "output_type": "stream",
     "text": [
      "FID images2 : 100%|██████████| 625/625 [03:30<00:00,  2.97it/s]\n"
     ]
    },
    {
     "name": "stdout",
     "output_type": "stream",
     "text": [
      "Found 20000 images in the folder D:\\1_SW2\\tmp_data\\data\\random_80\\images6\n"
     ]
    },
    {
     "name": "stderr",
     "output_type": "stream",
     "text": [
      "FID images6 : 100%|██████████| 625/625 [03:44<00:00,  2.79it/s]\n"
     ]
    },
    {
     "name": "stdout",
     "output_type": "stream",
     "text": [
      "2 6 1.1255081852558533\n",
      "compute FID between two folders\n",
      "Found 20000 images in the folder D:\\1_SW2\\tmp_data\\data\\random_80\\images2\n"
     ]
    },
    {
     "name": "stderr",
     "output_type": "stream",
     "text": [
      "FID images2 : 100%|██████████| 625/625 [03:46<00:00,  2.76it/s]\n"
     ]
    },
    {
     "name": "stdout",
     "output_type": "stream",
     "text": [
      "Found 20000 images in the folder D:\\1_SW2\\tmp_data\\data\\random_80\\images7\n"
     ]
    },
    {
     "name": "stderr",
     "output_type": "stream",
     "text": [
      "FID images7 : 100%|██████████| 625/625 [03:39<00:00,  2.84it/s]\n"
     ]
    },
    {
     "name": "stdout",
     "output_type": "stream",
     "text": [
      "2 7 1.1127892500324492\n",
      "compute FID between two folders\n",
      "Found 20000 images in the folder D:\\1_SW2\\tmp_data\\data\\random_80\\images2\n"
     ]
    },
    {
     "name": "stderr",
     "output_type": "stream",
     "text": [
      "FID images2 : 100%|██████████| 625/625 [03:40<00:00,  2.84it/s]\n"
     ]
    },
    {
     "name": "stdout",
     "output_type": "stream",
     "text": [
      "Found 20000 images in the folder D:\\1_SW2\\tmp_data\\data\\random_80\\images8\n"
     ]
    },
    {
     "name": "stderr",
     "output_type": "stream",
     "text": [
      "FID images8 : 100%|██████████| 625/625 [03:40<00:00,  2.84it/s]\n"
     ]
    },
    {
     "name": "stdout",
     "output_type": "stream",
     "text": [
      "2 8 1.1146818858532583\n",
      "compute FID between two folders\n",
      "Found 20000 images in the folder D:\\1_SW2\\tmp_data\\data\\random_80\\images2\n"
     ]
    },
    {
     "name": "stderr",
     "output_type": "stream",
     "text": [
      "FID images2 : 100%|██████████| 625/625 [03:43<00:00,  2.80it/s]\n"
     ]
    },
    {
     "name": "stdout",
     "output_type": "stream",
     "text": [
      "Found 20000 images in the folder D:\\1_SW2\\tmp_data\\data\\random_80\\images9\n"
     ]
    },
    {
     "name": "stderr",
     "output_type": "stream",
     "text": [
      "FID images9 : 100%|██████████| 625/625 [03:51<00:00,  2.70it/s]\n"
     ]
    },
    {
     "name": "stdout",
     "output_type": "stream",
     "text": [
      "2 9 1.1353051459196877\n",
      "compute FID between two folders\n",
      "Found 20000 images in the folder D:\\1_SW2\\tmp_data\\data\\random_80\\images3\n"
     ]
    },
    {
     "name": "stderr",
     "output_type": "stream",
     "text": [
      "FID images3 : 100%|██████████| 625/625 [03:33<00:00,  2.93it/s]\n"
     ]
    },
    {
     "name": "stdout",
     "output_type": "stream",
     "text": [
      "Found 20000 images in the folder D:\\1_SW2\\tmp_data\\data\\random_80\\images0\n"
     ]
    },
    {
     "name": "stderr",
     "output_type": "stream",
     "text": [
      "FID images0 : 100%|██████████| 625/625 [03:31<00:00,  2.96it/s]\n"
     ]
    },
    {
     "name": "stdout",
     "output_type": "stream",
     "text": [
      "3 0 1.0968262861254061\n",
      "compute FID between two folders\n",
      "Found 20000 images in the folder D:\\1_SW2\\tmp_data\\data\\random_80\\images3\n"
     ]
    },
    {
     "name": "stderr",
     "output_type": "stream",
     "text": [
      "FID images3 : 100%|██████████| 625/625 [03:32<00:00,  2.94it/s]\n"
     ]
    },
    {
     "name": "stdout",
     "output_type": "stream",
     "text": [
      "Found 20000 images in the folder D:\\1_SW2\\tmp_data\\data\\random_80\\images1\n"
     ]
    },
    {
     "name": "stderr",
     "output_type": "stream",
     "text": [
      "FID images1 : 100%|██████████| 625/625 [03:32<00:00,  2.94it/s]\n"
     ]
    },
    {
     "name": "stdout",
     "output_type": "stream",
     "text": [
      "3 1 1.1122138982136107\n",
      "compute FID between two folders\n",
      "Found 20000 images in the folder D:\\1_SW2\\tmp_data\\data\\random_80\\images3\n"
     ]
    },
    {
     "name": "stderr",
     "output_type": "stream",
     "text": [
      "FID images3 : 100%|██████████| 625/625 [03:36<00:00,  2.89it/s]\n"
     ]
    },
    {
     "name": "stdout",
     "output_type": "stream",
     "text": [
      "Found 20000 images in the folder D:\\1_SW2\\tmp_data\\data\\random_80\\images2\n"
     ]
    },
    {
     "name": "stderr",
     "output_type": "stream",
     "text": [
      "FID images2 : 100%|██████████| 625/625 [03:29<00:00,  2.99it/s]\n"
     ]
    },
    {
     "name": "stdout",
     "output_type": "stream",
     "text": [
      "3 2 1.133099543494268\n",
      "compute FID between two folders\n",
      "Found 20000 images in the folder D:\\1_SW2\\tmp_data\\data\\random_80\\images3\n"
     ]
    },
    {
     "name": "stderr",
     "output_type": "stream",
     "text": [
      "FID images3 : 100%|██████████| 625/625 [03:31<00:00,  2.96it/s]\n"
     ]
    },
    {
     "name": "stdout",
     "output_type": "stream",
     "text": [
      "Found 20000 images in the folder D:\\1_SW2\\tmp_data\\data\\random_80\\images3\n"
     ]
    },
    {
     "name": "stderr",
     "output_type": "stream",
     "text": [
      "FID images3 : 100%|██████████| 625/625 [03:26<00:00,  3.02it/s]\n"
     ]
    },
    {
     "name": "stdout",
     "output_type": "stream",
     "text": [
      "3 3 1.546140993013978e-11\n",
      "compute FID between two folders\n",
      "Found 20000 images in the folder D:\\1_SW2\\tmp_data\\data\\random_80\\images3\n"
     ]
    },
    {
     "name": "stderr",
     "output_type": "stream",
     "text": [
      "FID images3 : 100%|██████████| 625/625 [03:31<00:00,  2.96it/s]\n"
     ]
    },
    {
     "name": "stdout",
     "output_type": "stream",
     "text": [
      "Found 20000 images in the folder D:\\1_SW2\\tmp_data\\data\\random_80\\images4\n"
     ]
    },
    {
     "name": "stderr",
     "output_type": "stream",
     "text": [
      "FID images4 : 100%|██████████| 625/625 [03:29<00:00,  2.98it/s]\n"
     ]
    },
    {
     "name": "stdout",
     "output_type": "stream",
     "text": [
      "3 4 1.1240751144309797\n",
      "compute FID between two folders\n",
      "Found 20000 images in the folder D:\\1_SW2\\tmp_data\\data\\random_80\\images3\n"
     ]
    },
    {
     "name": "stderr",
     "output_type": "stream",
     "text": [
      "FID images3 : 100%|██████████| 625/625 [03:29<00:00,  2.99it/s]\n"
     ]
    },
    {
     "name": "stdout",
     "output_type": "stream",
     "text": [
      "Found 20000 images in the folder D:\\1_SW2\\tmp_data\\data\\random_80\\images5\n"
     ]
    },
    {
     "name": "stderr",
     "output_type": "stream",
     "text": [
      "FID images5 : 100%|██████████| 625/625 [03:31<00:00,  2.95it/s]\n"
     ]
    },
    {
     "name": "stdout",
     "output_type": "stream",
     "text": [
      "3 5 1.1183184551496197\n",
      "compute FID between two folders\n",
      "Found 20000 images in the folder D:\\1_SW2\\tmp_data\\data\\random_80\\images3\n"
     ]
    },
    {
     "name": "stderr",
     "output_type": "stream",
     "text": [
      "FID images3 : 100%|██████████| 625/625 [03:32<00:00,  2.94it/s]\n"
     ]
    },
    {
     "name": "stdout",
     "output_type": "stream",
     "text": [
      "Found 20000 images in the folder D:\\1_SW2\\tmp_data\\data\\random_80\\images6\n"
     ]
    },
    {
     "name": "stderr",
     "output_type": "stream",
     "text": [
      "FID images6 : 100%|██████████| 625/625 [03:31<00:00,  2.96it/s]\n"
     ]
    },
    {
     "name": "stdout",
     "output_type": "stream",
     "text": [
      "3 6 1.0996391518045243\n",
      "compute FID between two folders\n",
      "Found 20000 images in the folder D:\\1_SW2\\tmp_data\\data\\random_80\\images3\n"
     ]
    },
    {
     "name": "stderr",
     "output_type": "stream",
     "text": [
      "FID images3 : 100%|██████████| 625/625 [03:29<00:00,  2.98it/s]\n"
     ]
    },
    {
     "name": "stdout",
     "output_type": "stream",
     "text": [
      "Found 20000 images in the folder D:\\1_SW2\\tmp_data\\data\\random_80\\images7\n"
     ]
    },
    {
     "name": "stderr",
     "output_type": "stream",
     "text": [
      "FID images7 : 100%|██████████| 625/625 [03:31<00:00,  2.96it/s]\n"
     ]
    },
    {
     "name": "stdout",
     "output_type": "stream",
     "text": [
      "3 7 1.117028634912856\n",
      "compute FID between two folders\n",
      "Found 20000 images in the folder D:\\1_SW2\\tmp_data\\data\\random_80\\images3\n"
     ]
    },
    {
     "name": "stderr",
     "output_type": "stream",
     "text": [
      "FID images3 : 100%|██████████| 625/625 [03:29<00:00,  2.98it/s]\n"
     ]
    },
    {
     "name": "stdout",
     "output_type": "stream",
     "text": [
      "Found 20000 images in the folder D:\\1_SW2\\tmp_data\\data\\random_80\\images8\n"
     ]
    },
    {
     "name": "stderr",
     "output_type": "stream",
     "text": [
      "FID images8 : 100%|██████████| 625/625 [03:33<00:00,  2.93it/s]\n"
     ]
    },
    {
     "name": "stdout",
     "output_type": "stream",
     "text": [
      "3 8 1.1041341172631292\n",
      "compute FID between two folders\n",
      "Found 20000 images in the folder D:\\1_SW2\\tmp_data\\data\\random_80\\images3\n"
     ]
    },
    {
     "name": "stderr",
     "output_type": "stream",
     "text": [
      "FID images3 : 100%|██████████| 625/625 [03:29<00:00,  2.98it/s]\n"
     ]
    },
    {
     "name": "stdout",
     "output_type": "stream",
     "text": [
      "Found 20000 images in the folder D:\\1_SW2\\tmp_data\\data\\random_80\\images9\n"
     ]
    },
    {
     "name": "stderr",
     "output_type": "stream",
     "text": [
      "FID images9 : 100%|██████████| 625/625 [03:30<00:00,  2.97it/s]\n"
     ]
    },
    {
     "name": "stdout",
     "output_type": "stream",
     "text": [
      "3 9 1.108213520016136\n",
      "compute FID between two folders\n",
      "Found 20000 images in the folder D:\\1_SW2\\tmp_data\\data\\random_80\\images4\n"
     ]
    },
    {
     "name": "stderr",
     "output_type": "stream",
     "text": [
      "FID images4 : 100%|██████████| 625/625 [03:35<00:00,  2.91it/s]\n"
     ]
    },
    {
     "name": "stdout",
     "output_type": "stream",
     "text": [
      "Found 20000 images in the folder D:\\1_SW2\\tmp_data\\data\\random_80\\images0\n"
     ]
    },
    {
     "name": "stderr",
     "output_type": "stream",
     "text": [
      "FID images0 : 100%|██████████| 625/625 [03:29<00:00,  2.98it/s]\n"
     ]
    }
   ],
   "source": [
    "path  = 'D:\\\\1_SW2\\\\tmp_data\\\\data\\\\random_80\\\\images'\n",
    "fid_list =[[0]*10]*10\n",
    "\n",
    "for i in range(10):\n",
    "    for j in range(10):\n",
    "        fid_list[i][j] = fid.compute_fid(path+str(i), path+str(j), num_workers=0)\n",
    "        print(i, j, fid_list[i][j])"
   ]
  },
  {
   "cell_type": "code",
   "execution_count": null,
   "metadata": {},
   "outputs": [],
   "source": [
    "print(fid_list)"
   ]
  }
 ],
 "metadata": {
  "kernelspec": {
   "display_name": "Python 3.10.4 ('pytorch')",
   "language": "python",
   "name": "python3"
  },
  "language_info": {
   "codemirror_mode": {
    "name": "ipython",
    "version": 3
   },
   "file_extension": ".py",
   "mimetype": "text/x-python",
   "name": "python",
   "nbconvert_exporter": "python",
   "pygments_lexer": "ipython3",
   "version": "3.10.4"
  },
  "orig_nbformat": 4,
  "vscode": {
   "interpreter": {
    "hash": "0857cb0f6eaafc429a144dff2c8ec99ab87e307df337c6e8cac39982794126bb"
   }
  }
 },
 "nbformat": 4,
 "nbformat_minor": 2
}
