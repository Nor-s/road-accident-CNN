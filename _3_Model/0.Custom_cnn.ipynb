{
 "cells": [
  {
   "cell_type": "code",
   "execution_count": 1,
   "metadata": {},
   "outputs": [],
   "source": [
    "import tensorflow as tf\n",
    "from tensorflow.keras.layers import Flatten, Reshape, Conv2D, Conv1D\n",
    "from tensorflow.keras import models\n",
    "import matplotlib.pyplot as plt\n",
    "from tensorflow.python.client import device_lib\n",
    "device_lib.list_local_devices()\n",
    "import os\n",
    "import numpy as np\n",
    "\n",
    "os.environ[\"CUDA_VISIBLE_DEVICES\"] = \"0\""
   ]
  },
  {
   "cell_type": "code",
   "execution_count": 2,
   "metadata": {},
   "outputs": [],
   "source": [
    "image_size = 224\n",
    "batch_size = 16\n",
    "learning_rate = 0.0001\n",
    "epochs_num = 50\n",
    "decay = learning_rate / epochs_num"
   ]
  },
  {
   "cell_type": "markdown",
   "metadata": {},
   "source": [
    "## 데이터 로드"
   ]
  },
  {
   "cell_type": "code",
   "execution_count": 3,
   "metadata": {},
   "outputs": [
    {
     "data": {
      "text/plain": [
       "<matplotlib.image.AxesImage at 0x20f98131520>"
      ]
     },
     "execution_count": 3,
     "metadata": {},
     "output_type": "execute_result"
    },
    {
     "data": {
      "image/png": "[encoded data removed]",
      "text/plain": [
       "<Figure size 432x288 with 1 Axes>"
      ]
     },
     "metadata": {
      "needs_background": "light"
     },
     "output_type": "display_data"
    }
   ],
   "source": [
    "from tensorflow.keras.preprocessing.image import ImageDataGenerator\n",
    "import PIL.Image as pilimg\n",
    "import PIL\n",
    "import pathlib\n",
    "\n",
    "label_list = [ ]\n",
    "image_list = [ ]\n",
    "\n",
    "def append_image_and_label(path, label):\n",
    "    file_list = os.listdir(path)\n",
    "    import random\n",
    "    random.seed(a=1014) \n",
    "    file_list = random.sample(file_list, k=10000)\n",
    "    for filename in file_list:\n",
    "        filename = path + '\\\\' + filename\n",
    "        tfimage = tf.image.decode_png(tf.io.read_file(filename), channels=1)\n",
    "        # tfimage = tf.image.central_crop(tfimage, 0.5)\n",
    "        tfimage = tf.image.resize(tfimage, size=[image_size, image_size])\n",
    "        tfimage = tf.cast(tfimage/255., tf.float32)\n",
    "        image_list.append(tfimage)\n",
    "        label_list.append(label)\n",
    "\n",
    "append_image_and_label('D:\\\\1_SW2\\\\data\\\\foilum-image_20_18\\\\png_512', 1)\n",
    "append_image_and_label('D:\\\\1_SW2\\\\data\\\\foilum-image_2_18\\\\png_512', 0)\n",
    "plt.imshow(image_list[10])"
   ]
  },
  {
   "cell_type": "code",
   "execution_count": 4,
   "metadata": {},
   "outputs": [],
   "source": [
    "import random\n",
    "data_zip = list(zip(image_list, label_list))\n",
    "random.shuffle(data_zip)\n",
    "image_list, label_list =zip(*data_zip)\n",
    "image_list = list(image_list)\n",
    "label_list = list(label_list)\n"
   ]
  },
  {
   "cell_type": "code",
   "execution_count": 5,
   "metadata": {},
   "outputs": [],
   "source": [
    "# from tensorflow.keras.preprocessing.image import ImageDataGenerator\n",
    "# import PIL.Image as pilimg\n",
    "# import PIL\n",
    "# import pathlib\n",
    "# import pandas as pd\n",
    "# image_data_path = '../data/for_cnn/images'\n",
    "# label_data_path = '../data/for_cnn/lon_lat_list.csv'\n",
    "\n",
    "# label_csv = pd.read_csv(label_data_path, encoding='cp949', index_col=0, header=0, engine='python')\n",
    "# label_list = [ ]\n",
    "# image_list = [ ]\n",
    "# # https://seing.tistory.com/160\n",
    "# label_csv = label_csv.sample(n=20000, # or equivalently: frac=2\n",
    "#                                  replace=False, # random sampling with replacement\n",
    "#                                  random_state=1024)\n",
    "# label_max = label_csv['위험도'].max()\n",
    "# label_min = label_csv['위험도'].min()\n",
    "\n",
    "# for index, row in label_csv.iterrows():\n",
    "#     idx = int(row[\"index\"])\n",
    "#     filename = f'{image_data_path}/{idx}.png'\n",
    "#     tfimage = tf.image.decode_png(tf.io.read_file(filename), channels=1)\n",
    "#     tfimage = tf.image.central_crop(tfimage, 0.5)\n",
    "#     tfimage = tf.image.resize(tfimage, size=[image_size, image_size])\n",
    "#     tfimage = tf.cast(tfimage/255., tf.float32)\n",
    "#     #이미지 자르기 - tf.image.central_crop(image, central_fraction=0.5)\n",
    "#     image_list.append(tfimage)\n",
    "#     if row['위험도'] == 0.0:\n",
    "#         label_list.append(0)\n",
    "#     else:\n",
    "#         label_list.append(1)\n",
    "    \n",
    "# plt.imshow(image_list[4])\n",
    "# import random\n",
    "# data_zip = list(zip(image_list, label_list))\n",
    "# print(image_list[0])\n",
    "# random.shuffle(data_zip)\n",
    "# image_list, label_list = zip(*data_zip)\n",
    "# print(\"-----\")\n",
    "# print(image_list[0])"
   ]
  },
  {
   "cell_type": "code",
   "execution_count": 5,
   "metadata": {},
   "outputs": [],
   "source": [
    "num = len(image_list)\n",
    "train_image_data = image_list[:int(num*0.8)]\n",
    "train_label = label_list[:int(num*0.8)]\n",
    "val_image_data = image_list[int(num*0.8): int(num*0.9)]\n",
    "val_label = label_list[int(num*0.8): int(num*0.9)]\n",
    "test_image_data = image_list[int(num*0.9):]\n",
    "test_label = label_list[int(num*0.9):]\n",
    "\n",
    "train_ds = tf.data.Dataset.from_tensor_slices((train_image_data, train_label))\\\n",
    "                          .shuffle(1024, reshuffle_each_iteration=True)\\\n",
    "                          .batch(batch_size, drop_remainder=True)\\\n",
    "                          .repeat()\\\n",
    "                          .prefetch(buffer_size = tf.data.experimental.AUTOTUNE)\n",
    "\n",
    "val_ds = tf.data.Dataset.from_tensor_slices((val_image_data, val_label))\\\n",
    "                        .batch(batch_size)\\\n",
    "                        .repeat()\\\n",
    "                        .prefetch(buffer_size = tf.data.experimental.AUTOTUNE)\n",
    "\n",
    "test_ds = tf.data.Dataset.from_tensor_slices((test_image_data, test_label))"
   ]
  },
  {
   "cell_type": "markdown",
   "metadata": {},
   "source": [
    "## 모델 학습"
   ]
  },
  {
   "cell_type": "code",
   "execution_count": 19,
   "metadata": {},
   "outputs": [
    {
     "name": "stdout",
     "output_type": "stream",
     "text": [
      "Model: \"sequential_6\"\n",
      "_________________________________________________________________\n",
      " Layer (type)                Output Shape              Param #   \n",
      "=================================================================\n",
      " conv2d_21 (Conv2D)          (None, 64, 64, 32)        288       \n",
      "                                                                 \n",
      " batch_normalization_21 (Bat  (None, 64, 64, 32)       128       \n",
      " chNormalization)                                                \n",
      "                                                                 \n",
      " re_lu_21 (ReLU)             (None, 64, 64, 32)        0         \n",
      "                                                                 \n",
      " conv2d_22 (Conv2D)          (None, 64, 64, 64)        18432     \n",
      "                                                                 \n",
      " batch_normalization_22 (Bat  (None, 64, 64, 64)       256       \n",
      " chNormalization)                                                \n",
      "                                                                 \n",
      " re_lu_22 (ReLU)             (None, 64, 64, 64)        0         \n",
      "                                                                 \n",
      " conv2d_23 (Conv2D)          (None, 64, 64, 128)       73728     \n",
      "                                                                 \n",
      " batch_normalization_23 (Bat  (None, 64, 64, 128)      512       \n",
      " chNormalization)                                                \n",
      "                                                                 \n",
      " re_lu_23 (ReLU)             (None, 64, 64, 128)       0         \n",
      "                                                                 \n",
      " dropout_7 (Dropout)         (None, 64, 64, 128)       0         \n",
      "                                                                 \n",
      " flatten_6 (Flatten)         (None, 524288)            0         \n",
      "                                                                 \n",
      " dense_9 (Dense)             (None, 1)                 524289    \n",
      "                                                                 \n",
      "=================================================================\n",
      "Total params: 617,633\n",
      "Trainable params: 617,185\n",
      "Non-trainable params: 448\n",
      "_________________________________________________________________\n"
     ]
    }
   ],
   "source": [
    "initializer = tf.keras.initializers.HeNormal()\n",
    "\n",
    "\n",
    "filter_num = 32\n",
    "padding = 'valid'\n",
    "bias = False\n",
    "kernel_size = (3, 3)\n",
    "model2 = models.Sequential([\n",
    "  # input Nx17x4x3\n",
    "  tf.keras.layers.Input(shape=[image_size, image_size, 1]),\n",
    "\n",
    "  tf.keras.layers.Conv2D(filters = filter_num, kernel_size = kernel_size,  strides=1, padding='same', use_bias=bias,kernel_initializer=initializer),\n",
    "  tf.keras.layers.BatchNormalization(),\n",
    "  tf.keras.layers.ReLU(),\n",
    "  # tf.keras.layers.MaxPool2D(pool_size=(2, 2)),\n",
    "\n",
    "  tf.keras.layers.Conv2D(filters = filter_num*2, kernel_size = kernel_size,  strides=1, padding='same', use_bias=bias,kernel_initializer=initializer),\n",
    "  tf.keras.layers.BatchNormalization(),\n",
    "  tf.keras.layers.ReLU(),\n",
    "  # tf.keras.layers.MaxPool2D(pool_size=(2, 2)),\n",
    "\n",
    "  tf.keras.layers.Conv2D(filters = filter_num*4, kernel_size = kernel_size,  strides=1, padding='same', use_bias=bias,kernel_initializer=initializer),\n",
    "  tf.keras.layers.BatchNormalization(),\n",
    "  tf.keras.layers.ReLU(),\n",
    "  # tf.keras.layers.MaxPool2D(pool_size=(2, 2)),\n",
    "  # tf.keras.layers.Dropout(0.2),\n",
    "  # tf.keras.layers.Conv2D(filters = filter_num*8, kernel_size = kernel_size,  strides=1, padding='same', use_bias=bias,kernel_initializer=initializer),\n",
    "  # tf.keras.layers.BatchNormalization(),\n",
    "  # tf.keras.layers.ReLU(),\n",
    "\n",
    "  # tf.keras.layers.Conv2D(filters = filter_num*8, kernel_size = kernel_size,  strides=1, padding='same', use_bias=bias,kernel_initializer=initializer),\n",
    "  # tf.keras.layers.BatchNormalization(),\n",
    "  # tf.keras.layers.ReLU(),\n",
    "  \n",
    "  # tf.keras.layers.Conv2D(filters = filter_num*8, kernel_size = kernel_size,  strides=1, padding='same', use_bias=bias,kernel_initializer=initializer),\n",
    "  # tf.keras.layers.BatchNormalization(),\n",
    "  # tf.keras.layers.ReLU(),\n",
    "  # tf.keras.layers.Dropout(0.3),\n",
    "  tf.keras.layers.Flatten(),\n",
    "  # tf.keras.layers.Dense(filter_num*8, kernel_initializer=initializer, activation = 'relu'),\n",
    "  # tf.keras.layers.Dense(filter_num*4, kernel_initializer=initializer, activation = 'relu'),\n",
    "  tf.keras.layers.Dense(1,kernel_initializer=initializer, activation = 'sigmoid'),\n",
    "])\n",
    "model2.summary()\n",
    "# model2.compile(optimizer='rmsprop', loss='mse', metrics=['mae']) adadelta\n",
    "# optim =  tf.keras.optimizers.Nadam()\n",
    "model2.compile(optimizer= 'sgd', loss = 'binary_crossentropy', metrics=['accuracy'])\n",
    "\n",
    "# model2.compile(optimizer= tf.keras.optimizers.Nadam(learning_rate=learning_rate),loss='mse', metrics=['mae'])"
   ]
  },
  {
   "cell_type": "code",
   "execution_count": 10,
   "metadata": {},
   "outputs": [],
   "source": [
    "checkpoint_path = \"./training_new_mp2/cp-{epoch:04d}.ckpt\"   # 3\n",
    "checkpoint_dir = os.path.dirname(checkpoint_path)\n",
    "cp_callback = tf.keras.callbacks.ModelCheckpoint(filepath=checkpoint_path,\n",
    "                                                 save_weights_only=True,\n",
    "                                                 verbose=1,\n",
    "                                                #  period=5,\n",
    "                                                 monitor='val_accuracy',\n",
    "                                                mode='max',\n",
    "                                                 save_best_only=True)\n",
    "# reduce_lr = tf.keras.callbacks.ReduceLROnPlateau(monitor='val_loss', factor=0.8,\n",
    "#                                                 patience=5, min_lr=0.00001)"
   ]
  },
  {
   "cell_type": "code",
   "execution_count": 20,
   "metadata": {},
   "outputs": [
    {
     "name": "stdout",
     "output_type": "stream",
     "text": [
      "Epoch 1/50\n",
      "1797/1800 [============================>.] - ETA: 0s - loss: 1.1678 - accuracy: 0.6737\n",
      "Epoch 1: val_accuracy did not improve from 0.71278\n",
      "1800/1800 [==============================] - 28s 15ms/step - loss: 1.1669 - accuracy: 0.6735 - val_loss: 0.6138 - val_accuracy: 0.6803\n",
      "Epoch 2/50\n",
      "1797/1800 [============================>.] - ETA: 0s - loss: 0.5671 - accuracy: 0.7086\n",
      "Epoch 2: val_accuracy did not improve from 0.71278\n",
      "1800/1800 [==============================] - 27s 15ms/step - loss: 0.5671 - accuracy: 0.7085 - val_loss: 0.7508 - val_accuracy: 0.5597\n",
      "Epoch 3/50\n",
      "1797/1800 [============================>.] - ETA: 0s - loss: 0.5419 - accuracy: 0.7290\n",
      "Epoch 3: val_accuracy did not improve from 0.71278\n",
      "1800/1800 [==============================] - 27s 15ms/step - loss: 0.5417 - accuracy: 0.7291 - val_loss: 1.1690 - val_accuracy: 0.5067\n",
      "Epoch 4/50\n",
      "1797/1800 [============================>.] - ETA: 0s - loss: 0.5135 - accuracy: 0.7526\n",
      "Epoch 4: val_accuracy did not improve from 0.71278\n",
      "1800/1800 [==============================] - 27s 15ms/step - loss: 0.5134 - accuracy: 0.7527 - val_loss: 0.7643 - val_accuracy: 0.5842\n",
      "Epoch 5/50\n",
      "1800/1800 [==============================] - ETA: 0s - loss: 0.4767 - accuracy: 0.7790\n",
      "Epoch 5: val_accuracy did not improve from 0.71278\n",
      "1800/1800 [==============================] - 27s 15ms/step - loss: 0.4767 - accuracy: 0.7790 - val_loss: 0.6928 - val_accuracy: 0.6622\n",
      "Epoch 6/50\n",
      "1797/1800 [============================>.] - ETA: 0s - loss: 0.4318 - accuracy: 0.8062\n",
      "Epoch 6: val_accuracy did not improve from 0.71278\n",
      "1800/1800 [==============================] - 27s 15ms/step - loss: 0.4318 - accuracy: 0.8061 - val_loss: 0.6460 - val_accuracy: 0.6733\n",
      "Epoch 7/50\n",
      "1797/1800 [============================>.] - ETA: 0s - loss: 0.3819 - accuracy: 0.8354\n",
      "Epoch 7: val_accuracy did not improve from 0.71278\n",
      "1800/1800 [==============================] - 27s 15ms/step - loss: 0.3819 - accuracy: 0.8353 - val_loss: 0.7410 - val_accuracy: 0.6475\n",
      "Epoch 8/50\n",
      "1797/1800 [============================>.] - ETA: 0s - loss: 0.3337 - accuracy: 0.8578\n",
      "Epoch 8: val_accuracy did not improve from 0.71278\n",
      "1800/1800 [==============================] - 27s 15ms/step - loss: 0.3336 - accuracy: 0.8578 - val_loss: 0.7782 - val_accuracy: 0.6567\n",
      "Epoch 9/50\n",
      "1800/1800 [==============================] - ETA: 0s - loss: 0.2805 - accuracy: 0.8860\n",
      "Epoch 9: val_accuracy did not improve from 0.71278\n",
      "1800/1800 [==============================] - 27s 15ms/step - loss: 0.2805 - accuracy: 0.8860 - val_loss: 0.8335 - val_accuracy: 0.6361\n",
      "Epoch 10/50\n",
      "1797/1800 [============================>.] - ETA: 0s - loss: 0.2425 - accuracy: 0.9029\n",
      "Epoch 10: val_accuracy did not improve from 0.71278\n",
      "1800/1800 [==============================] - 27s 15ms/step - loss: 0.2425 - accuracy: 0.9029 - val_loss: 0.9362 - val_accuracy: 0.6350\n",
      "Epoch 11/50\n",
      "1797/1800 [============================>.] - ETA: 0s - loss: 0.2101 - accuracy: 0.9180\n",
      "Epoch 11: val_accuracy did not improve from 0.71278\n",
      "1800/1800 [==============================] - 27s 15ms/step - loss: 0.2102 - accuracy: 0.9179 - val_loss: 1.2559 - val_accuracy: 0.6031\n",
      "Epoch 12/50\n",
      "1797/1800 [============================>.] - ETA: 0s - loss: 0.1890 - accuracy: 0.9281\n",
      "Epoch 12: val_accuracy did not improve from 0.71278\n",
      "1800/1800 [==============================] - 27s 15ms/step - loss: 0.1889 - accuracy: 0.9281 - val_loss: 1.1851 - val_accuracy: 0.6431\n",
      "Epoch 13/50\n",
      "1798/1800 [============================>.] - ETA: 0s - loss: 0.1647 - accuracy: 0.9383\n",
      "Epoch 13: val_accuracy did not improve from 0.71278\n",
      "1800/1800 [==============================] - 28s 15ms/step - loss: 0.1647 - accuracy: 0.9383 - val_loss: 1.1524 - val_accuracy: 0.6147\n",
      "Epoch 14/50\n",
      "1797/1800 [============================>.] - ETA: 0s - loss: 0.1506 - accuracy: 0.9447\n",
      "Epoch 14: val_accuracy did not improve from 0.71278\n",
      "1800/1800 [==============================] - 28s 15ms/step - loss: 0.1506 - accuracy: 0.9447 - val_loss: 6.4701 - val_accuracy: 0.5067\n",
      "Epoch 15/50\n",
      "1797/1800 [============================>.] - ETA: 0s - loss: 0.1370 - accuracy: 0.9505\n",
      "Epoch 15: val_accuracy did not improve from 0.71278\n",
      "1800/1800 [==============================] - 28s 15ms/step - loss: 0.1371 - accuracy: 0.9505 - val_loss: 1.7141 - val_accuracy: 0.5425\n",
      "Epoch 16/50\n",
      "1797/1800 [============================>.] - ETA: 0s - loss: 0.1278 - accuracy: 0.9541\n",
      "Epoch 16: val_accuracy did not improve from 0.71278\n",
      "1800/1800 [==============================] - 27s 15ms/step - loss: 0.1276 - accuracy: 0.9541 - val_loss: 1.4690 - val_accuracy: 0.5719\n",
      "Epoch 17/50\n",
      "1800/1800 [==============================] - ETA: 0s - loss: 0.1156 - accuracy: 0.9585\n",
      "Epoch 17: val_accuracy did not improve from 0.71278\n",
      "1800/1800 [==============================] - 28s 15ms/step - loss: 0.1156 - accuracy: 0.9585 - val_loss: 1.7286 - val_accuracy: 0.5217\n",
      "Epoch 18/50\n",
      "1797/1800 [============================>.] - ETA: 0s - loss: 0.1066 - accuracy: 0.9635\n",
      "Epoch 18: val_accuracy did not improve from 0.71278\n",
      "1800/1800 [==============================] - 26s 15ms/step - loss: 0.1065 - accuracy: 0.9635 - val_loss: 1.8664 - val_accuracy: 0.5717\n",
      "Epoch 19/50\n",
      "1797/1800 [============================>.] - ETA: 0s - loss: 0.1041 - accuracy: 0.9641\n",
      "Epoch 19: val_accuracy did not improve from 0.71278\n",
      "1800/1800 [==============================] - 26s 15ms/step - loss: 0.1043 - accuracy: 0.9640 - val_loss: 2.2703 - val_accuracy: 0.6331\n",
      "Epoch 20/50\n",
      "1797/1800 [============================>.] - ETA: 0s - loss: 0.1005 - accuracy: 0.9655\n",
      "Epoch 20: val_accuracy did not improve from 0.71278\n",
      "1800/1800 [==============================] - 26s 15ms/step - loss: 0.1004 - accuracy: 0.9655 - val_loss: 1.9950 - val_accuracy: 0.6281\n",
      "Epoch 21/50\n",
      "1799/1800 [============================>.] - ETA: 0s - loss: 0.0970 - accuracy: 0.9657\n",
      "Epoch 21: val_accuracy did not improve from 0.71278\n",
      "1800/1800 [==============================] - 28s 15ms/step - loss: 0.0969 - accuracy: 0.9657 - val_loss: 1.5480 - val_accuracy: 0.6189\n",
      "Epoch 22/50\n",
      "1797/1800 [============================>.] - ETA: 0s - loss: 0.0923 - accuracy: 0.9687\n",
      "Epoch 22: val_accuracy did not improve from 0.71278\n",
      "1800/1800 [==============================] - 27s 15ms/step - loss: 0.0923 - accuracy: 0.9687 - val_loss: 1.5708 - val_accuracy: 0.6250\n",
      "Epoch 23/50\n",
      "1797/1800 [============================>.] - ETA: 0s - loss: 0.0864 - accuracy: 0.9694\n",
      "Epoch 23: val_accuracy did not improve from 0.71278\n",
      "1800/1800 [==============================] - 28s 15ms/step - loss: 0.0863 - accuracy: 0.9695 - val_loss: 1.8708 - val_accuracy: 0.6236\n",
      "Epoch 24/50\n",
      "1797/1800 [============================>.] - ETA: 0s - loss: 0.0818 - accuracy: 0.9712\n",
      "Epoch 24: val_accuracy did not improve from 0.71278\n",
      "1800/1800 [==============================] - 27s 15ms/step - loss: 0.0818 - accuracy: 0.9712 - val_loss: 1.7394 - val_accuracy: 0.6444\n",
      "Epoch 25/50\n",
      "1797/1800 [============================>.] - ETA: 0s - loss: 0.0803 - accuracy: 0.9715\n",
      "Epoch 25: val_accuracy did not improve from 0.71278\n",
      "1800/1800 [==============================] - 27s 15ms/step - loss: 0.0802 - accuracy: 0.9715 - val_loss: 1.6972 - val_accuracy: 0.6408\n",
      "Epoch 26/50\n",
      "1797/1800 [============================>.] - ETA: 0s - loss: 0.0744 - accuracy: 0.9746\n",
      "Epoch 26: val_accuracy did not improve from 0.71278\n",
      "1800/1800 [==============================] - 27s 15ms/step - loss: 0.0744 - accuracy: 0.9746 - val_loss: 1.5163 - val_accuracy: 0.6400\n",
      "Epoch 27/50\n",
      "1797/1800 [============================>.] - ETA: 0s - loss: 0.0732 - accuracy: 0.9743\n",
      "Epoch 27: val_accuracy did not improve from 0.71278\n",
      "1800/1800 [==============================] - 27s 15ms/step - loss: 0.0732 - accuracy: 0.9743 - val_loss: 2.1968 - val_accuracy: 0.5450\n",
      "Epoch 28/50\n",
      "1800/1800 [==============================] - ETA: 0s - loss: 0.0732 - accuracy: 0.9744\n",
      "Epoch 28: val_accuracy did not improve from 0.71278\n",
      "1800/1800 [==============================] - 27s 15ms/step - loss: 0.0732 - accuracy: 0.9744 - val_loss: 1.7957 - val_accuracy: 0.6278\n",
      "Epoch 29/50\n",
      "1800/1800 [==============================] - ETA: 0s - loss: 0.0755 - accuracy: 0.9739\n",
      "Epoch 29: val_accuracy did not improve from 0.71278\n",
      "1800/1800 [==============================] - 27s 15ms/step - loss: 0.0755 - accuracy: 0.9739 - val_loss: 1.7324 - val_accuracy: 0.6286\n",
      "Epoch 30/50\n",
      "1797/1800 [============================>.] - ETA: 0s - loss: 0.0704 - accuracy: 0.9752\n",
      "Epoch 30: val_accuracy did not improve from 0.71278\n",
      "1800/1800 [==============================] - 27s 15ms/step - loss: 0.0704 - accuracy: 0.9751 - val_loss: 1.8983 - val_accuracy: 0.6350\n",
      "Epoch 31/50\n",
      "1797/1800 [============================>.] - ETA: 0s - loss: 0.0636 - accuracy: 0.9776\n",
      "Epoch 31: val_accuracy did not improve from 0.71278\n",
      "1800/1800 [==============================] - 27s 15ms/step - loss: 0.0636 - accuracy: 0.9775 - val_loss: 1.7449 - val_accuracy: 0.6200\n",
      "Epoch 32/50\n",
      "1800/1800 [==============================] - ETA: 0s - loss: 0.0677 - accuracy: 0.9771\n",
      "Epoch 32: val_accuracy did not improve from 0.71278\n",
      "1800/1800 [==============================] - 27s 15ms/step - loss: 0.0677 - accuracy: 0.9771 - val_loss: 1.7364 - val_accuracy: 0.6208\n",
      "Epoch 33/50\n",
      "1797/1800 [============================>.] - ETA: 0s - loss: 0.0639 - accuracy: 0.9776\n",
      "Epoch 33: val_accuracy did not improve from 0.71278\n",
      "1800/1800 [==============================] - 27s 15ms/step - loss: 0.0639 - accuracy: 0.9776 - val_loss: 1.7240 - val_accuracy: 0.6147\n",
      "Epoch 34/50\n",
      "1798/1800 [============================>.] - ETA: 0s - loss: 0.0664 - accuracy: 0.9771\n",
      "Epoch 34: val_accuracy did not improve from 0.71278\n",
      "1800/1800 [==============================] - 27s 15ms/step - loss: 0.0664 - accuracy: 0.9770 - val_loss: 5.3578 - val_accuracy: 0.5183\n",
      "Epoch 35/50\n",
      "1799/1800 [============================>.] - ETA: 0s - loss: 0.0588 - accuracy: 0.9789\n",
      "Epoch 35: val_accuracy did not improve from 0.71278\n",
      "1800/1800 [==============================] - 27s 15ms/step - loss: 0.0589 - accuracy: 0.9789 - val_loss: 1.9899 - val_accuracy: 0.6164\n",
      "Epoch 36/50\n",
      "1798/1800 [============================>.] - ETA: 0s - loss: 0.0606 - accuracy: 0.9788\n",
      "Epoch 36: val_accuracy did not improve from 0.71278\n",
      "1800/1800 [==============================] - 28s 15ms/step - loss: 0.0605 - accuracy: 0.9788 - val_loss: 2.5870 - val_accuracy: 0.5458\n",
      "Epoch 37/50\n",
      "1800/1800 [==============================] - ETA: 0s - loss: 0.0593 - accuracy: 0.9794\n",
      "Epoch 37: val_accuracy did not improve from 0.71278\n",
      "1800/1800 [==============================] - 28s 16ms/step - loss: 0.0593 - accuracy: 0.9794 - val_loss: 1.9290 - val_accuracy: 0.6169\n",
      "Epoch 38/50\n",
      "1799/1800 [============================>.] - ETA: 0s - loss: 0.0592 - accuracy: 0.9792\n",
      "Epoch 38: val_accuracy did not improve from 0.71278\n",
      "1800/1800 [==============================] - 28s 15ms/step - loss: 0.0592 - accuracy: 0.9792 - val_loss: 1.8750 - val_accuracy: 0.6219\n",
      "Epoch 39/50\n",
      "1797/1800 [============================>.] - ETA: 0s - loss: 0.0596 - accuracy: 0.9787\n",
      "Epoch 39: val_accuracy did not improve from 0.71278\n",
      "1800/1800 [==============================] - 27s 15ms/step - loss: 0.0596 - accuracy: 0.9787 - val_loss: 1.8952 - val_accuracy: 0.6039\n",
      "Epoch 40/50\n",
      "1797/1800 [============================>.] - ETA: 0s - loss: 0.0580 - accuracy: 0.9791\n",
      "Epoch 40: val_accuracy did not improve from 0.71278\n",
      "1800/1800 [==============================] - 26s 15ms/step - loss: 0.0580 - accuracy: 0.9791 - val_loss: 2.3301 - val_accuracy: 0.6203\n",
      "Epoch 41/50\n",
      "1797/1800 [============================>.] - ETA: 0s - loss: 0.0560 - accuracy: 0.9800\n",
      "Epoch 41: val_accuracy did not improve from 0.71278\n",
      "1800/1800 [==============================] - 26s 15ms/step - loss: 0.0561 - accuracy: 0.9800 - val_loss: 2.2127 - val_accuracy: 0.5269\n",
      "Epoch 42/50\n",
      "1797/1800 [============================>.] - ETA: 0s - loss: 0.0539 - accuracy: 0.9808\n",
      "Epoch 42: val_accuracy did not improve from 0.71278\n",
      "1800/1800 [==============================] - 26s 15ms/step - loss: 0.0538 - accuracy: 0.9809 - val_loss: 2.4175 - val_accuracy: 0.6272\n",
      "Epoch 43/50\n",
      "1797/1800 [============================>.] - ETA: 0s - loss: 0.0548 - accuracy: 0.9805\n",
      "Epoch 43: val_accuracy did not improve from 0.71278\n",
      "1800/1800 [==============================] - 26s 15ms/step - loss: 0.0549 - accuracy: 0.9805 - val_loss: 2.0142 - val_accuracy: 0.6336\n",
      "Epoch 44/50\n",
      "1797/1800 [============================>.] - ETA: 0s - loss: 0.0545 - accuracy: 0.9807\n",
      "Epoch 44: val_accuracy did not improve from 0.71278\n",
      "1800/1800 [==============================] - 26s 15ms/step - loss: 0.0546 - accuracy: 0.9807 - val_loss: 2.0273 - val_accuracy: 0.6289\n",
      "Epoch 45/50\n",
      "1797/1800 [============================>.] - ETA: 0s - loss: 0.0532 - accuracy: 0.9816\n",
      "Epoch 45: val_accuracy did not improve from 0.71278\n",
      "1800/1800 [==============================] - 26s 15ms/step - loss: 0.0532 - accuracy: 0.9816 - val_loss: 2.0703 - val_accuracy: 0.6308\n",
      "Epoch 46/50\n",
      "1797/1800 [============================>.] - ETA: 0s - loss: 0.0560 - accuracy: 0.9804\n",
      "Epoch 46: val_accuracy did not improve from 0.71278\n",
      "1800/1800 [==============================] - 26s 15ms/step - loss: 0.0560 - accuracy: 0.9804 - val_loss: 2.9204 - val_accuracy: 0.5208\n",
      "Epoch 47/50\n",
      "1797/1800 [============================>.] - ETA: 0s - loss: 0.0523 - accuracy: 0.9815\n",
      "Epoch 47: val_accuracy did not improve from 0.71278\n",
      "1800/1800 [==============================] - 26s 15ms/step - loss: 0.0524 - accuracy: 0.9815 - val_loss: 2.2642 - val_accuracy: 0.6014\n",
      "Epoch 48/50\n",
      "1797/1800 [============================>.] - ETA: 0s - loss: 0.0510 - accuracy: 0.9819\n",
      "Epoch 48: val_accuracy did not improve from 0.71278\n",
      "1800/1800 [==============================] - 26s 15ms/step - loss: 0.0510 - accuracy: 0.9819 - val_loss: 2.3895 - val_accuracy: 0.6156\n",
      "Epoch 49/50\n",
      "1797/1800 [============================>.] - ETA: 0s - loss: 0.0526 - accuracy: 0.9808\n",
      "Epoch 49: val_accuracy did not improve from 0.71278\n",
      "1800/1800 [==============================] - 26s 15ms/step - loss: 0.0526 - accuracy: 0.9807 - val_loss: 2.9889 - val_accuracy: 0.6439\n",
      "Epoch 50/50\n",
      "1797/1800 [============================>.] - ETA: 0s - loss: 0.0494 - accuracy: 0.9822\n",
      "Epoch 50: val_accuracy did not improve from 0.71278\n",
      "1800/1800 [==============================] - 26s 15ms/step - loss: 0.0494 - accuracy: 0.9822 - val_loss: 2.4958 - val_accuracy: 0.5819\n"
     ]
    }
   ],
   "source": [
    "train_num = len(train_image_data)\n",
    "val_num = len(val_image_data)\n",
    "steps_per_epoch = train_num// batch_size\n",
    "val_steps = int(np.ceil(val_num/batch_size))\n",
    "\n",
    "\n",
    "history = model2.fit(train_ds,\n",
    "                     steps_per_epoch=steps_per_epoch,\n",
    "                     epochs = epochs_num,\n",
    "                     validation_data= val_ds, \n",
    "                     validation_steps=val_steps,\n",
    "                     callbacks=[cp_callback ])"
   ]
  },
  {
   "cell_type": "code",
   "execution_count": null,
   "metadata": {},
   "outputs": [
    {
     "name": "stderr",
     "output_type": "stream",
     "text": [
      "WARNING:absl:Found untraced functions such as _jit_compiled_convolution_op, _jit_compiled_convolution_op, _jit_compiled_convolution_op, _jit_compiled_convolution_op, _jit_compiled_convolution_op while saving (showing 5 of 6). These functions will not be directly callable after loading.\n"
     ]
    },
    {
     "name": "stdout",
     "output_type": "stream",
     "text": [
      "INFO:tensorflow:Assets written to: ./saved_model2/my_model2\\assets\n"
     ]
    },
    {
     "name": "stderr",
     "output_type": "stream",
     "text": [
      "INFO:tensorflow:Assets written to: ./saved_model2/my_model2\\assets\n"
     ]
    }
   ],
   "source": [
    "latest = tf.train.latest_checkpoint(checkpoint_dir)\n",
    "\n",
    "model2.save('./image_50.h5')\n",
    "model2.save('./saved_model2/my_model2_50')"
   ]
  },
  {
   "cell_type": "code",
   "execution_count": null,
   "metadata": {},
   "outputs": [
    {
     "ename": "InternalError",
     "evalue": "Failed copying input tensor from /job:localhost/replica:0/task:0/device:CPU:0 to /job:localhost/replica:0/task:0/device:GPU:0 in order to run _EagerConst: Dst tensor is not initialized.",
     "output_type": "error",
     "traceback": [
      "\u001b[1;31m---------------------------------------------------------------------------\u001b[0m",
      "\u001b[1;31mInternalError\u001b[0m                             Traceback (most recent call last)",
      "\u001b[1;32md:\\1_SW2\\model\\cnn.ipynb Cell 13\u001b[0m in \u001b[0;36m<cell line: 3>\u001b[1;34m()\u001b[0m\n\u001b[0;32m      <a href='vscode-notebook-cell:/d%3A/1_SW2/model/cnn.ipynb#X14sZmlsZQ%3D%3D?line=0'>1</a>\u001b[0m model2\u001b[39m.\u001b[39mload_weights(latest)\n\u001b[1;32m----> <a href='vscode-notebook-cell:/d%3A/1_SW2/model/cnn.ipynb#X14sZmlsZQ%3D%3D?line=2'>3</a>\u001b[0m model2\u001b[39m.\u001b[39;49mevaluate(np\u001b[39m.\u001b[39;49masarray(image_list[\u001b[39mint\u001b[39;49m(num\u001b[39m*\u001b[39;49m\u001b[39m0.8\u001b[39;49m):]), np\u001b[39m.\u001b[39;49masarray(label_list[\u001b[39mint\u001b[39;49m(num\u001b[39m*\u001b[39;49m\u001b[39m0.8\u001b[39;49m):]))\n",
      "File \u001b[1;32mc:\\Users\\No\\anaconda3\\lib\\site-packages\\keras\\utils\\traceback_utils.py:67\u001b[0m, in \u001b[0;36mfilter_traceback.<locals>.error_handler\u001b[1;34m(*args, **kwargs)\u001b[0m\n\u001b[0;32m     65\u001b[0m \u001b[39mexcept\u001b[39;00m \u001b[39mException\u001b[39;00m \u001b[39mas\u001b[39;00m e:  \u001b[39m# pylint: disable=broad-except\u001b[39;00m\n\u001b[0;32m     66\u001b[0m   filtered_tb \u001b[39m=\u001b[39m _process_traceback_frames(e\u001b[39m.\u001b[39m__traceback__)\n\u001b[1;32m---> 67\u001b[0m   \u001b[39mraise\u001b[39;00m e\u001b[39m.\u001b[39mwith_traceback(filtered_tb) \u001b[39mfrom\u001b[39;00m \u001b[39mNone\u001b[39m\n\u001b[0;32m     68\u001b[0m \u001b[39mfinally\u001b[39;00m:\n\u001b[0;32m     69\u001b[0m   \u001b[39mdel\u001b[39;00m filtered_tb\n",
      "File \u001b[1;32mc:\\Users\\No\\anaconda3\\lib\\site-packages\\tensorflow\\python\\framework\\constant_op.py:102\u001b[0m, in \u001b[0;36mconvert_to_eager_tensor\u001b[1;34m(value, ctx, dtype)\u001b[0m\n\u001b[0;32m    100\u001b[0m     dtype \u001b[39m=\u001b[39m dtypes\u001b[39m.\u001b[39mas_dtype(dtype)\u001b[39m.\u001b[39mas_datatype_enum\n\u001b[0;32m    101\u001b[0m ctx\u001b[39m.\u001b[39mensure_initialized()\n\u001b[1;32m--> 102\u001b[0m \u001b[39mreturn\u001b[39;00m ops\u001b[39m.\u001b[39;49mEagerTensor(value, ctx\u001b[39m.\u001b[39;49mdevice_name, dtype)\n",
      "\u001b[1;31mInternalError\u001b[0m: Failed copying input tensor from /job:localhost/replica:0/task:0/device:CPU:0 to /job:localhost/replica:0/task:0/device:GPU:0 in order to run _EagerConst: Dst tensor is not initialized."
     ]
    }
   ],
   "source": [
    "model2.load_weights(latest)\n",
    "\n",
    "model2.evaluate(np.asarray(image_list[int(num*0.8):]), np.asarray(label_list[int(num*0.8):]))\n"
   ]
  },
  {
   "cell_type": "code",
   "execution_count": null,
   "metadata": {},
   "outputs": [
    {
     "data": {
      "image/png": "[encoded data removed]",
      "text/plain": [
       "<Figure size 720x504 with 1 Axes>"
      ]
     },
     "metadata": {
      "needs_background": "light"
     },
     "output_type": "display_data"
    }
   ],
   "source": [
    "plt.figure(figsize=(10, 7))\n",
    "plt.plot(range(epochs_num), history.history['loss'], label='train_loss')\n",
    "plt.plot(range(epochs_num), history.history['val_loss'], label='val_loss')\n",
    "# history.history.keys()\n",
    "plt.xlabel('Epoch')\n",
    "plt.ylabel('Loss')\n",
    "plt.legend()\n",
    "plt.show()"
   ]
  }
 ],
 "metadata": {
  "kernelspec": {
   "display_name": "Python 3.8.11 ('base')",
   "language": "python",
   "name": "python3"
  },
  "language_info": {
   "codemirror_mode": {
    "name": "ipython",
    "version": 3
   },
   "file_extension": ".py",
   "mimetype": "text/x-python",
   "name": "python",
   "nbconvert_exporter": "python",
   "pygments_lexer": "ipython3",
   "version": "3.8.11"
  },
  "orig_nbformat": 4,
  "vscode": {
   "interpreter": {
    "hash": "af8e2bc38c47ad2eb2801b8a1df8ba266ffc32d6dc21ae3dca26080e3882f8b5"
   }
  }
 },
 "nbformat": 4,
 "nbformat_minor": 2
}
