{
 "cells": [
  {
   "cell_type": "markdown",
   "metadata": {},
   "source": [
    "## imagegenerator 폴더 구조\n",
    "\n",
    "- 구조\n",
    "    - train\n",
    "      - accident\n",
    "      - no accident\n",
    "    - val\n",
    "      - accident\n",
    "      - no accident\n",
    "    - test\n",
    "      - accident\n",
    "      - no accident"
   ]
  },
  {
   "cell_type": "code",
   "execution_count": 4,
   "metadata": {},
   "outputs": [],
   "source": [
    "import random\n",
    "import os\n",
    "from shutil import copyfile\n",
    "\n",
    "random.seed(a=1014) \n",
    "\n",
    "accident_folder = 'D:\\\\1_SW2\\\\data\\\\foilum-image_20_18\\\\png_512'\n",
    "no_accident_folder = 'D:\\\\1_SW2\\\\data\\\\foilum-image_2_18\\\\png_512'\n",
    "save_folder = '../data/for_generator'\n",
    "folders = [f'{save_folder}/train',f'{save_folder}/val', f'{save_folder}/test']\n",
    "\n",
    "def make_dirs(dirs):\n",
    "    if not os.path.exists(dirs):\n",
    "        os.makedirs(dirs)\n",
    "\n",
    "def get_train(data_list):\n",
    "    return data_list[:int(len(data_list)*0.8)]\n",
    "def get_val(data_list):\n",
    "    return data_list[int(len(data_list)*0.9):]\n",
    "def get_test(data_list):\n",
    "    return data_list[int(len(data_list)*0.8):int(len(data_list)*0.9)]\n",
    "\n",
    "funcdict = {\n",
    "    '0': get_train,\n",
    "    '1': get_val,\n",
    "    '2': get_test\n",
    "}"
   ]
  },
  {
   "cell_type": "code",
   "execution_count": 6,
   "metadata": {},
   "outputs": [],
   "source": [
    "def process(dir,   label):\n",
    "    file_list = os.listdir(dir)\n",
    "    file_list = random.sample(file_list, k=15000)\n",
    "    for i in range(3):\n",
    "        make_dirs(f'{folders[i]}\\\\{label}')\n",
    "        data_list = funcdict[str(i)](file_list)\n",
    "        for filename in data_list:\n",
    "            src_path = f'{dir}\\\\{filename}'\n",
    "            dst_path = f'{folders[i]}\\\\{label}\\\\{filename}'\n",
    "            copyfile(src_path, dst_path)\n",
    "            \n",
    "process(accident_folder, 'accident')\n",
    "process(no_accident_folder, 'no_accident')"
   ]
  }
 ],
 "metadata": {
  "kernelspec": {
   "display_name": "Python 3.8.11 ('base')",
   "language": "python",
   "name": "python3"
  },
  "language_info": {
   "codemirror_mode": {
    "name": "ipython",
    "version": 3
   },
   "file_extension": ".py",
   "mimetype": "text/x-python",
   "name": "python",
   "nbconvert_exporter": "python",
   "pygments_lexer": "ipython3",
   "version": "3.8.11"
  },
  "orig_nbformat": 4,
  "vscode": {
   "interpreter": {
    "hash": "af8e2bc38c47ad2eb2801b8a1df8ba266ffc32d6dc21ae3dca26080e3882f8b5"
   }
  }
 },
 "nbformat": 4,
 "nbformat_minor": 2
}
