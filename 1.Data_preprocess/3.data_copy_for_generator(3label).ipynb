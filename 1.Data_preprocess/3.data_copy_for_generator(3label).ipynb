{
 "cells": [
  {
   "cell_type": "markdown",
   "metadata": {},
   "source": [
    "## imagegenerator 폴더 구조 생성\n",
    "\n",
    "- 구조\n",
    "    - train\n",
    "      - 1\n",
    "      - 2\n",
    "      - 3\n",
    "      - 4\n",
    "    - val\n",
    "      - 1\n",
    "      - 2\n",
    "      - 3\n",
    "      - 4\n",
    "    - test\n",
    "      - 1\n",
    "      - 2\n",
    "      - 3\n",
    "      - 4"
   ]
  },
  {
   "cell_type": "code",
   "execution_count": 1,
   "metadata": {},
   "outputs": [],
   "source": [
    "import random\n",
    "import os\n",
    "from shutil import copyfile\n",
    "\n",
    "random.seed(a=1014) \n",
    "\n",
    "data_folder = '../../data/for_cnn'\n",
    "image_folder = os.path.join(data_folder, 'images')\n",
    "csv_file = f'{data_folder}/lon_lat_list_no_apply_is_raw.csv'\n",
    "save_folder = '../../data/for_generator_korean(3_label)'\n",
    "folders = [f'{save_folder}/train',f'{save_folder}/val', f'{save_folder}/test']\n",
    "\n",
    "def make_dirs(dirs):\n",
    "    if not os.path.exists(dirs):\n",
    "        os.makedirs(dirs)\n",
    "\n",
    "def get_train(data_list):\n",
    "    return data_list[:int(len(data_list)*0.8)]\n",
    "def get_val(data_list):\n",
    "    return data_list[int(len(data_list)*0.9):]\n",
    "def get_test(data_list):\n",
    "    return data_list[int(len(data_list)*0.8):int(len(data_list)*0.9)]\n",
    "\n",
    "funcdict = {\n",
    "    '0': get_train,\n",
    "    '1': get_val,\n",
    "    '2': get_test\n",
    "}\n",
    "\n"
   ]
  },
  {
   "cell_type": "code",
   "execution_count": 2,
   "metadata": {},
   "outputs": [
    {
     "name": "stdout",
     "output_type": "stream",
     "text": [
      "1.2561999999999998\n",
      "10362\n",
      "null\n",
      "1.2561999999999998\n",
      "7782\n",
      "null\n",
      "null\n",
      "null\n",
      "null\n",
      "1.2561999999999998\n",
      "2580\n",
      "null\n",
      "null\n",
      "null\n"
     ]
    }
   ],
   "source": [
    "def process_label(dir, df, label, data_num= 10000):\n",
    "    file_list = os.listdir(dir)\n",
    "    df1 = df.sample(n=min(data_num, len(df)), random_state=1004, replace=False)\n",
    "    for i in range(3):\n",
    "        make_dirs(f'{folders[i]}\\\\{label}')\n",
    "        data_list = funcdict[str(i)](df1['index'].values.tolist())\n",
    "        for idx in data_list:\n",
    "            src_path = f'{dir}/{idx}.png'\n",
    "            dst_path = f'{folders[i]}/{label}/{idx}.png'\n",
    "            try:\n",
    "               copyfile(src_path, dst_path)\n",
    "            except:\n",
    "                print(\"null\")\n",
    "                \n",
    "def split_4label_df(df, label):\n",
    "    import numpy as np\n",
    "    danger = df[df['위험도'] != 0.0]['위험도'].values.tolist()\n",
    "    q1 = np.quantile(danger, 0.333333333)\n",
    "    q3 = np.quantile(danger, 0.666666666)\n",
    "    print(q1, q3)\n",
    "    if label == 1:\n",
    "        return df[df['위험도'] == 0.0]\n",
    "    if label == 2:\n",
    "        return df[ (df['위험도']  >0.0)  &  (df['위험도'] <= q1)]\n",
    "    if label == 3:\n",
    "        return df[  (df['위험도'] > q1) &  (df['위험도'] <= q3)]\n",
    "    if label == 4:\n",
    "        return df[df['위험도'] > q3]  \n",
    "\n",
    "def split_3label_df(df, label):\n",
    "    import numpy as np\n",
    "    danger = df[df['위험도'] != 0.0]['위험도'].values.tolist()\n",
    "    q1 = np.quantile(danger, 0.75)\n",
    "    print(q1)\n",
    "    if label == 1:\n",
    "        return df[df['위험도'] == 0.0]\n",
    "    if label == 2:\n",
    "        return df[ (df['위험도'] >0.0)  &  (df['위험도'] <= q1)]\n",
    "    if label == 3:\n",
    "        return df[(df['위험도'] > q1)]\n",
    "\n",
    "    \n",
    "def process(dir, csv_path ):\n",
    "    import pandas as pd\n",
    "    df = pd.read_csv(csv_path, encoding='cp949', engine='python')\n",
    "    for label in range(1,4):\n",
    "        df2 = split_3label_df(df, label)\n",
    "        print(len(df2))\n",
    "        process_label(dir, df2, label)\n",
    "    \n",
    "            \n",
    "process(image_folder, csv_file)"
   ]
  }
 ],
 "metadata": {
  "kernelspec": {
   "display_name": "Python 3.8.11 ('base')",
   "language": "python",
   "name": "python3"
  },
  "language_info": {
   "codemirror_mode": {
    "name": "ipython",
    "version": 3
   },
   "file_extension": ".py",
   "mimetype": "text/x-python",
   "name": "python",
   "nbconvert_exporter": "python",
   "pygments_lexer": "ipython3",
   "version": "3.8.11"
  },
  "orig_nbformat": 4,
  "vscode": {
   "interpreter": {
    "hash": "af8e2bc38c47ad2eb2801b8a1df8ba266ffc32d6dc21ae3dca26080e3882f8b5"
   }
  }
 },
 "nbformat": 4,
 "nbformat_minor": 2
}
