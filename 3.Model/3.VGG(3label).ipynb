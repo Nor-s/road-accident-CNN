{
 "cells": [
  {
   "cell_type": "code",
   "execution_count": 1,
   "metadata": {},
   "outputs": [],
   "source": [
    "import tensorflow as tf\n",
    "from tensorflow.keras.layers import Flatten, Reshape, Conv2D, Conv1D\n",
    "from tensorflow.keras import models\n",
    "import matplotlib.pyplot as plt\n",
    "from tensorflow.python.client import device_lib\n",
    "device_lib.list_local_devices()\n",
    "import os\n",
    "import numpy as np\n",
    "from tensorflow.keras.preprocessing.image import ImageDataGenerator\n",
    "from tensorflow.keras.preprocessing import image\n",
    "from tensorflow.keras.models import Model\n",
    "from tensorflow.keras.layers import Input, Flatten, Dense, GlobalAveragePooling2D\n",
    "from tensorflow.keras.applications.vgg16 import VGG16, preprocess_input\n",
    "import math\n",
    "import numpy as np\n",
    " \n",
    "os.environ[\"CUDA_VISIBLE_DEVICES\"] = \"0\""
   ]
  },
  {
   "cell_type": "code",
   "execution_count": 2,
   "metadata": {},
   "outputs": [],
   "source": [
    "NAME = 'for_generator_korean(3_label)'\n",
    "TRAIN_DATA_DIR = f'../../data/{NAME}/train'\n",
    "VALIDATION_DATA_DIR = f'../../data/{NAME}/val'\n",
    "TEST_DATA_DIR = f'../../data/{NAME}/test'\n",
    " \n",
    "TRAIN_SAMPLES = 16279\n",
    "VALIDATION_SAMPLES = 2036\n",
    "NUM_CLASSES = 2\n",
    "IMG_WIDTH, IMG_HEIGHT = 224, 224\n",
    "BATCH_SIZE = 64\n",
    "EPOCH = 30"
   ]
  },
  {
   "cell_type": "code",
   "execution_count": 3,
   "metadata": {},
   "outputs": [
    {
     "name": "stdout",
     "output_type": "stream",
     "text": [
      "Found 16279 images belonging to 3 classes.\n",
      "Found 2036 images belonging to 3 classes.\n"
     ]
    }
   ],
   "source": [
    "train_datagen = ImageDataGenerator(preprocessing_function=preprocess_input,\n",
    "                                   rotation_range=20,\n",
    "                                   width_shift_range=0.2,\n",
    "                                   height_shift_range=0.2,\n",
    "                                   zoom_range=0.2)\n",
    " \n",
    "val_datagen = ImageDataGenerator(preprocessing_function=preprocess_input)\n",
    "train_generator = train_datagen.flow_from_directory(TRAIN_DATA_DIR,\n",
    "                                                    target_size=(IMG_WIDTH,\n",
    "                                                                 IMG_HEIGHT),\n",
    "                                                    batch_size=BATCH_SIZE,\n",
    "                                                    shuffle=True,\n",
    "                                                    seed=12345,\n",
    "                                                    class_mode='categorical')\n",
    " \n",
    "validation_generator = val_datagen.flow_from_directory(\n",
    "    VALIDATION_DATA_DIR,\n",
    "    target_size=(IMG_WIDTH, IMG_HEIGHT),\n",
    "    batch_size=BATCH_SIZE,\n",
    "    shuffle=False,\n",
    "    class_mode='categorical')"
   ]
  },
  {
   "cell_type": "markdown",
   "metadata": {},
   "source": [
    "학습"
   ]
  },
  {
   "cell_type": "code",
   "execution_count": 4,
   "metadata": {},
   "outputs": [
    {
     "name": "stdout",
     "output_type": "stream",
     "text": [
      "19\n",
      "freeze:  input_1 True\n",
      "freeze:  block1_conv1 True\n",
      "freeze:  block1_conv2 True\n",
      "freeze:  block1_pool True\n",
      "freeze:  block2_conv1 True\n",
      "freeze:  block2_conv2 True\n",
      "freeze:  block2_pool True\n",
      "freeze:  block3_conv1 True\n",
      "freeze:  block3_conv2 True\n",
      "freeze:  block3_conv3 True\n",
      "freeze:  block3_pool True\n",
      "freeze:  block4_conv1 True\n",
      "freeze:  block4_conv2 True\n",
      "freeze:  block4_conv3 True\n",
      "freeze:  block4_pool True\n",
      "freeze:  block5_conv1 True\n",
      "freeze:  block5_conv2 True\n",
      "freeze:  block5_conv3 True\n",
      "Model: \"model\"\n",
      "_________________________________________________________________\n",
      " Layer (type)                Output Shape              Param #   \n",
      "=================================================================\n",
      " input_2 (InputLayer)        [(None, 224, 224, 3)]     0         \n",
      "                                                                 \n",
      " vgg16 (Functional)          (None, 7, 7, 512)         14714688  \n",
      "                                                                 \n",
      " global_average_pooling2d (G  (None, 512)              0         \n",
      " lobalAveragePooling2D)                                          \n",
      "                                                                 \n",
      " dense (Dense)               (None, 32)                16416     \n",
      "                                                                 \n",
      " dense_1 (Dense)             (None, 3)                 99        \n",
      "                                                                 \n",
      "=================================================================\n",
      "Total params: 14,731,203\n",
      "Trainable params: 16,515\n",
      "Non-trainable params: 14,714,688\n",
      "_________________________________________________________________\n"
     ]
    }
   ],
   "source": [
    "from tensorflow.keras.applications.vgg16 import VGG16\n",
    "def model_maker(num_class, input_shape=(224, 224, 3)):\n",
    "    # model = VGG16(weights='imagenet', include_top=True)\n",
    "    base_model = VGG16(include_top=False, input_shape=input_shape)\n",
    "    print(len(base_model.layers))\n",
    " \n",
    "    # for layer in base_model.layers[:]:\n",
    "        # layer.trainable = False\n",
    "    for layer in base_model.layers[:-1]:\n",
    "        print('freeze: ', layer.name , str(layer.trainable))\n",
    "        layer.trainable = False # Top 층을 제외한 나머지 층에서 2개의 층을 새롭게 학습 \n",
    " \n",
    "    input = tf.keras.Input(shape=input_shape)\n",
    "    custom_model = base_model(input)\n",
    "    custom_model = tf.keras.layers.GlobalAveragePooling2D()(custom_model)\n",
    "    custom_model = tf.keras.layers.Dense(32, activation='relu')(custom_model)\n",
    "    predictions = tf.keras.layers.Dense(num_class, activation='softmax')(custom_model)\n",
    "    \n",
    "    return tf.keras.Model(inputs=input, outputs=predictions)\n",
    "\n",
    "model_final = model_maker(3, input_shape=(224, 224, 3))\n",
    "model_final.summary()\n",
    "model_final.compile(loss='categorical_crossentropy',\n",
    "              optimizer=tf.keras.optimizers.Adam(0.001),\n",
    "              metrics=['acc'])"
   ]
  },
  {
   "cell_type": "code",
   "execution_count": 5,
   "metadata": {},
   "outputs": [
    {
     "name": "stdout",
     "output_type": "stream",
     "text": [
      "Epoch 1/30\n",
      "254/254 [==============================] - ETA: 0s - loss: 1.1362 - acc: 0.4886\n",
      "Epoch 1: val_acc improved from -inf to 0.51714, saving model to ./for_generator_korean(3_label)_VGG\\cp-0030.ckpt\n",
      "254/254 [==============================] - 165s 620ms/step - loss: 1.1362 - acc: 0.4886 - val_loss: 1.0421 - val_acc: 0.5171\n",
      "Epoch 2/30\n",
      "254/254 [==============================] - ETA: 0s - loss: 1.0016 - acc: 0.5206\n",
      "Epoch 2: val_acc did not improve from 0.51714\n",
      "254/254 [==============================] - 163s 641ms/step - loss: 1.0016 - acc: 0.5206 - val_loss: 1.0015 - val_acc: 0.5156\n",
      "Epoch 3/30\n",
      "254/254 [==============================] - ETA: 0s - loss: 0.9783 - acc: 0.5362\n",
      "Epoch 3: val_acc improved from 0.51714 to 0.53579, saving model to ./for_generator_korean(3_label)_VGG\\cp-0030.ckpt\n",
      "254/254 [==============================] - 163s 639ms/step - loss: 0.9783 - acc: 0.5362 - val_loss: 0.9934 - val_acc: 0.5358\n",
      "Epoch 4/30\n",
      "254/254 [==============================] - ETA: 0s - loss: 0.9708 - acc: 0.5401\n",
      "Epoch 4: val_acc did not improve from 0.53579\n",
      "254/254 [==============================] - 163s 643ms/step - loss: 0.9708 - acc: 0.5401 - val_loss: 0.9959 - val_acc: 0.5171\n",
      "Epoch 5/30\n",
      "254/254 [==============================] - ETA: 0s - loss: 0.9657 - acc: 0.5417\n",
      "Epoch 5: val_acc improved from 0.53579 to 0.54486, saving model to ./for_generator_korean(3_label)_VGG\\cp-0030.ckpt\n",
      "254/254 [==============================] - 162s 635ms/step - loss: 0.9657 - acc: 0.5417 - val_loss: 0.9866 - val_acc: 0.5449\n",
      "Epoch 6/30\n",
      "254/254 [==============================] - ETA: 0s - loss: 0.9611 - acc: 0.5459\n",
      "Epoch 6: val_acc did not improve from 0.54486\n",
      "254/254 [==============================] - 173s 679ms/step - loss: 0.9611 - acc: 0.5459 - val_loss: 0.9768 - val_acc: 0.5388\n",
      "Epoch 7/30\n",
      "254/254 [==============================] - ETA: 0s - loss: 0.9577 - acc: 0.5508\n",
      "Epoch 7: val_acc did not improve from 0.54486\n",
      "254/254 [==============================] - 228s 896ms/step - loss: 0.9577 - acc: 0.5508 - val_loss: 0.9858 - val_acc: 0.5338\n",
      "Epoch 8/30\n",
      "254/254 [==============================] - ETA: 0s - loss: 0.9555 - acc: 0.5513\n",
      "Epoch 8: val_acc did not improve from 0.54486\n",
      "254/254 [==============================] - 200s 787ms/step - loss: 0.9555 - acc: 0.5513 - val_loss: 0.9943 - val_acc: 0.5323\n",
      "Epoch 9/30\n",
      "254/254 [==============================] - ETA: 0s - loss: 0.9553 - acc: 0.5489\n",
      "Epoch 9: val_acc did not improve from 0.54486\n",
      "254/254 [==============================] - 218s 854ms/step - loss: 0.9553 - acc: 0.5489 - val_loss: 0.9778 - val_acc: 0.5413\n",
      "Epoch 10/30\n",
      "254/254 [==============================] - ETA: 0s - loss: 0.9548 - acc: 0.5500\n",
      "Epoch 10: val_acc improved from 0.54486 to 0.54889, saving model to ./for_generator_korean(3_label)_VGG\\cp-0030.ckpt\n",
      "254/254 [==============================] - 216s 844ms/step - loss: 0.9548 - acc: 0.5500 - val_loss: 0.9752 - val_acc: 0.5489\n",
      "Epoch 11/30\n",
      "254/254 [==============================] - ETA: 0s - loss: 0.9541 - acc: 0.5502\n",
      "Epoch 11: val_acc did not improve from 0.54889\n",
      "254/254 [==============================] - 257s 1s/step - loss: 0.9541 - acc: 0.5502 - val_loss: 0.9843 - val_acc: 0.5343\n",
      "Epoch 12/30\n",
      "254/254 [==============================] - ETA: 0s - loss: 0.9508 - acc: 0.5570\n",
      "Epoch 12: val_acc did not improve from 0.54889\n",
      "254/254 [==============================] - 232s 911ms/step - loss: 0.9508 - acc: 0.5570 - val_loss: 0.9929 - val_acc: 0.5242\n",
      "Epoch 13/30\n",
      "254/254 [==============================] - ETA: 0s - loss: 0.9527 - acc: 0.5533\n",
      "Epoch 13: val_acc improved from 0.54889 to 0.55091, saving model to ./for_generator_korean(3_label)_VGG\\cp-0030.ckpt\n",
      "254/254 [==============================] - 251s 987ms/step - loss: 0.9527 - acc: 0.5533 - val_loss: 0.9754 - val_acc: 0.5509\n",
      "Epoch 14/30\n",
      "254/254 [==============================] - ETA: 0s - loss: 0.9525 - acc: 0.5489\n",
      "Epoch 14: val_acc did not improve from 0.55091\n",
      "254/254 [==============================] - 224s 882ms/step - loss: 0.9525 - acc: 0.5489 - val_loss: 0.9808 - val_acc: 0.5333\n",
      "Epoch 15/30\n",
      "254/254 [==============================] - ETA: 0s - loss: 0.9489 - acc: 0.5603\n",
      "Epoch 15: val_acc did not improve from 0.55091\n",
      "254/254 [==============================] - 175s 689ms/step - loss: 0.9489 - acc: 0.5603 - val_loss: 0.9754 - val_acc: 0.5504\n",
      "Epoch 16/30\n",
      "254/254 [==============================] - ETA: 0s - loss: 0.9492 - acc: 0.5563\n",
      "Epoch 16: val_acc did not improve from 0.55091\n",
      "254/254 [==============================] - 236s 928ms/step - loss: 0.9492 - acc: 0.5563 - val_loss: 0.9947 - val_acc: 0.5388\n",
      "Epoch 17/30\n",
      "254/254 [==============================] - ETA: 0s - loss: 0.9477 - acc: 0.5536\n",
      "Epoch 17: val_acc did not improve from 0.55091\n",
      "254/254 [==============================] - 197s 774ms/step - loss: 0.9477 - acc: 0.5536 - val_loss: 0.9974 - val_acc: 0.5358\n",
      "Epoch 18/30\n",
      "254/254 [==============================] - ETA: 0s - loss: 0.9480 - acc: 0.5565\n",
      "Epoch 18: val_acc did not improve from 0.55091\n",
      "254/254 [==============================] - 203s 796ms/step - loss: 0.9480 - acc: 0.5565 - val_loss: 0.9728 - val_acc: 0.5398\n",
      "Epoch 19/30\n",
      "254/254 [==============================] - ETA: 0s - loss: 0.9448 - acc: 0.5594\n",
      "Epoch 19: val_acc did not improve from 0.55091\n",
      "254/254 [==============================] - 209s 821ms/step - loss: 0.9448 - acc: 0.5594 - val_loss: 1.0095 - val_acc: 0.5312\n",
      "Epoch 20/30\n",
      "254/254 [==============================] - ETA: 0s - loss: 0.9447 - acc: 0.5578\n",
      "Epoch 20: val_acc did not improve from 0.55091\n",
      "254/254 [==============================] - 221s 867ms/step - loss: 0.9447 - acc: 0.5578 - val_loss: 0.9803 - val_acc: 0.5439\n",
      "Epoch 21/30\n",
      "254/254 [==============================] - ETA: 0s - loss: 0.9450 - acc: 0.5585\n",
      "Epoch 21: val_acc did not improve from 0.55091\n",
      "254/254 [==============================] - 234s 918ms/step - loss: 0.9450 - acc: 0.5585 - val_loss: 0.9726 - val_acc: 0.5459\n",
      "Epoch 22/30\n",
      "254/254 [==============================] - ETA: 0s - loss: 0.9458 - acc: 0.5581\n",
      "Epoch 22: val_acc did not improve from 0.55091\n",
      "254/254 [==============================] - 235s 922ms/step - loss: 0.9458 - acc: 0.5581 - val_loss: 0.9782 - val_acc: 0.5383\n",
      "Epoch 23/30\n",
      "254/254 [==============================] - ETA: 0s - loss: 0.9440 - acc: 0.5572\n",
      "Epoch 23: val_acc did not improve from 0.55091\n",
      "254/254 [==============================] - 229s 899ms/step - loss: 0.9440 - acc: 0.5572 - val_loss: 0.9727 - val_acc: 0.5433\n",
      "Epoch 24/30\n",
      "254/254 [==============================] - ETA: 0s - loss: 0.9467 - acc: 0.5549\n",
      "Epoch 24: val_acc did not improve from 0.55091\n",
      "254/254 [==============================] - 245s 963ms/step - loss: 0.9467 - acc: 0.5549 - val_loss: 0.9771 - val_acc: 0.5373\n",
      "Epoch 25/30\n",
      "254/254 [==============================] - ETA: 0s - loss: 0.9442 - acc: 0.5597\n",
      "Epoch 25: val_acc did not improve from 0.55091\n",
      "254/254 [==============================] - 299s 1s/step - loss: 0.9442 - acc: 0.5597 - val_loss: 0.9806 - val_acc: 0.5393\n",
      "Epoch 26/30\n",
      "254/254 [==============================] - ETA: 0s - loss: 0.9422 - acc: 0.5608\n",
      "Epoch 26: val_acc did not improve from 0.55091\n",
      "254/254 [==============================] - 252s 992ms/step - loss: 0.9422 - acc: 0.5608 - val_loss: 1.0015 - val_acc: 0.5257\n",
      "Epoch 27/30\n",
      "254/254 [==============================] - ETA: 0s - loss: 0.9425 - acc: 0.5629\n",
      "Epoch 27: val_acc did not improve from 0.55091\n",
      "254/254 [==============================] - 201s 790ms/step - loss: 0.9425 - acc: 0.5629 - val_loss: 0.9830 - val_acc: 0.5449\n",
      "Epoch 28/30\n",
      "254/254 [==============================] - ETA: 0s - loss: 0.9419 - acc: 0.5634\n",
      "Epoch 28: val_acc did not improve from 0.55091\n",
      "254/254 [==============================] - 207s 814ms/step - loss: 0.9419 - acc: 0.5634 - val_loss: 1.0042 - val_acc: 0.5267\n",
      "Epoch 29/30\n",
      "254/254 [==============================] - ETA: 0s - loss: 0.9427 - acc: 0.5576\n",
      "Epoch 29: val_acc did not improve from 0.55091\n",
      "254/254 [==============================] - 195s 768ms/step - loss: 0.9427 - acc: 0.5576 - val_loss: 0.9823 - val_acc: 0.5408\n",
      "Epoch 30/30\n",
      "254/254 [==============================] - ETA: 0s - loss: 0.9412 - acc: 0.5609\n",
      "Epoch 30: val_acc did not improve from 0.55091\n",
      "254/254 [==============================] - 209s 822ms/step - loss: 0.9412 - acc: 0.5609 - val_loss: 1.0089 - val_acc: 0.5252\n"
     ]
    }
   ],
   "source": [
    "checkpoint_path = f\"./{NAME}_VGG/cp-{EPOCH:04d}.ckpt\"   # 3\n",
    "checkpoint_dir = os.path.dirname(checkpoint_path)\n",
    "cp_callback = tf.keras.callbacks.ModelCheckpoint(filepath=checkpoint_path,\n",
    "                                                 save_weights_only=True,\n",
    "                                                 verbose=1,\n",
    "                                                #  period=5,\n",
    "                                                 monitor='val_acc',\n",
    "                                                 mode='max',\n",
    "                                                 save_best_only=True)\n",
    "\n",
    "history = model_final.fit(\n",
    "    train_generator,\n",
    "    steps_per_epoch=TRAIN_SAMPLES // BATCH_SIZE, # number of updates\n",
    "    epochs=EPOCH,\n",
    "    validation_data=validation_generator,\n",
    "    validation_steps=VALIDATION_SAMPLES // BATCH_SIZE,\n",
    "    callbacks=[cp_callback ])"
   ]
  },
  {
   "cell_type": "code",
   "execution_count": 6,
   "metadata": {},
   "outputs": [
    {
     "data": {
      "image/png": "[encoded data removed]",
      "text/plain": [
       "<Figure size 432x288 with 1 Axes>"
      ]
     },
     "metadata": {
      "needs_background": "light"
     },
     "output_type": "display_data"
    }
   ],
   "source": [
    "import matplotlib.pyplot as plt\n",
    "plt.plot(history.history['loss'])\n",
    "plt.plot(history.history['val_loss'])\n",
    "plt.xlabel('epoch')\n",
    "plt.ylabel('loss')\n",
    "plt.legend(['train','val'])\n",
    "plt.show()"
   ]
  },
  {
   "cell_type": "code",
   "execution_count": 7,
   "metadata": {},
   "outputs": [
    {
     "data": {
      "image/png": "[encoded data removed]",
      "text/plain": [
       "<Figure size 432x288 with 1 Axes>"
      ]
     },
     "metadata": {
      "needs_background": "light"
     },
     "output_type": "display_data"
    }
   ],
   "source": [
    "import matplotlib.pyplot as plt\n",
    "plt.plot(history.history['acc'])\n",
    "plt.plot(history.history['val_acc'])\n",
    "plt.xlabel('epoch')\n",
    "plt.ylabel('accuracy')\n",
    "plt.legend(['train','val'])\n",
    "plt.show()"
   ]
  },
  {
   "cell_type": "code",
   "execution_count": 8,
   "metadata": {},
   "outputs": [
    {
     "name": "stdout",
     "output_type": "stream",
     "text": [
      "Found 2035 images belonging to 3 classes.\n"
     ]
    }
   ],
   "source": [
    "test_datagen = ImageDataGenerator(preprocessing_function=preprocess_input)\n",
    " \n",
    "test_generator = val_datagen.flow_from_directory(\n",
    "    TEST_DATA_DIR,\n",
    "    target_size=(IMG_WIDTH, IMG_HEIGHT),\n",
    "    batch_size=BATCH_SIZE,\n",
    "    shuffle=False,\n",
    "    class_mode='categorical')"
   ]
  },
  {
   "cell_type": "code",
   "execution_count": 9,
   "metadata": {},
   "outputs": [
    {
     "name": "stdout",
     "output_type": "stream",
     "text": [
      "31/31 [==============================] - 36s 1s/step - loss: 0.9482 - acc: 0.5605\n"
     ]
    },
    {
     "data": {
      "text/plain": [
       "[0.948200523853302, 0.5604838728904724]"
      ]
     },
     "execution_count": 9,
     "metadata": {},
     "output_type": "execute_result"
    }
   ],
   "source": [
    "latest = tf.train.latest_checkpoint(checkpoint_dir)\n",
    "model_final.load_weights(latest)\n",
    "\n",
    "model_final.evaluate(test_generator, steps=VALIDATION_SAMPLES // BATCH_SIZE)\n"
   ]
  },
  {
   "cell_type": "code",
   "execution_count": 10,
   "metadata": {},
   "outputs": [
    {
     "name": "stderr",
     "output_type": "stream",
     "text": [
      "WARNING:absl:Found untraced functions such as _jit_compiled_convolution_op, _jit_compiled_convolution_op, _jit_compiled_convolution_op, _jit_compiled_convolution_op, _jit_compiled_convolution_op while saving (showing 5 of 13). These functions will not be directly callable after loading.\n"
     ]
    },
    {
     "name": "stdout",
     "output_type": "stream",
     "text": [
      "INFO:tensorflow:Assets written to: ./for_generator_korean(3_label)_VGG_us_accident/VGG_us_accident\\assets\n"
     ]
    },
    {
     "name": "stderr",
     "output_type": "stream",
     "text": [
      "INFO:tensorflow:Assets written to: ./for_generator_korean(3_label)_VGG_us_accident/VGG_us_accident\\assets\n"
     ]
    }
   ],
   "source": [
    "model_final.save(f'./{NAME}_VGG_us_accident.h5')\n",
    "model_final.save(f'./{NAME}_VGG_us_accident/VGG_us_accident')"
   ]
  }
 ],
 "metadata": {
  "kernelspec": {
   "display_name": "Python 3.8.11 ('base')",
   "language": "python",
   "name": "python3"
  },
  "language_info": {
   "codemirror_mode": {
    "name": "ipython",
    "version": 3
   },
   "file_extension": ".py",
   "mimetype": "text/x-python",
   "name": "python",
   "nbconvert_exporter": "python",
   "pygments_lexer": "ipython3",
   "version": "3.8.11"
  },
  "orig_nbformat": 4,
  "vscode": {
   "interpreter": {
    "hash": "af8e2bc38c47ad2eb2801b8a1df8ba266ffc32d6dc21ae3dca26080e3882f8b5"
   }
  }
 },
 "nbformat": 4,
 "nbformat_minor": 2
}
