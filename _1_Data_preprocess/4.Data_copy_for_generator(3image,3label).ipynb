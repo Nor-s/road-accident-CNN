{
 "cells": [
  {
   "cell_type": "markdown",
   "metadata": {},
   "source": [
    "## imagegenerator 폴더 구조 생성\n",
    "\n",
    "- 구조\n",
    "    - SAT\n",
    "       - train\n",
    "       - val\n",
    "       - test\n",
    "    - ROAD\n",
    "       - ...\n",
    "    - DEM\n",
    "       - ..."
   ]
  },
  {
   "cell_type": "code",
   "execution_count": 1,
   "metadata": {},
   "outputs": [],
   "source": [
    "import random\n",
    "import os\n",
    "from shutil import copyfile\n",
    "\n",
    "random.seed(a=1014) \n",
    "\n",
    "sat_data_folder = '../data/foilum-image_kr'\n",
    "sat_image_folder = os.path.join(sat_data_folder, 'png_Vworld')\n",
    "road_data_folder = '../data/for_cnn2'\n",
    "road_image_folder = '../data/for_cnn2/images/'\n",
    "dem_image_folder = '../data/alos'\n",
    "csv_file = f'{road_data_folder}/lon_lat_list_no_apply_is_raw.csv'\n",
    "\n",
    "road_save_folder = '../data/three_image(3_label)/road'\n",
    "road_save_folders = [f'{road_save_folder}/train',f'{road_save_folder}/val', f'{road_save_folder}/test']\n",
    "sat_save_folder = '../data/three_image(3_label)/sat'\n",
    "sat_save_folders = [f'{sat_save_folder}/train',f'{sat_save_folder}/val', f'{sat_save_folder}/test']\n",
    "dem_save_folder = '../data/three_image(3_label)/dem'\n",
    "dem_save_folders = [f'{dem_save_folder}/train',f'{dem_save_folder}/val', f'{dem_save_folder}/test']\n",
    "\n",
    "def make_dirs(dirs):\n",
    "    if not os.path.exists(dirs):\n",
    "        os.makedirs(dirs)\n",
    "\n",
    "def get_train(data_list):\n",
    "    return data_list[:int(len(data_list)*0.8)]\n",
    "def get_val(data_list):\n",
    "    return data_list[int(len(data_list)*0.9):]\n",
    "def get_test(data_list):\n",
    "    return data_list[int(len(data_list)*0.8):int(len(data_list)*0.9)]\n",
    "\n",
    "funcdict = {\n",
    "    '0': get_train,\n",
    "    '1': get_val,\n",
    "    '2': get_test\n",
    "}"
   ]
  },
  {
   "cell_type": "code",
   "execution_count": 2,
   "metadata": {},
   "outputs": [],
   "source": [
    "def process_label(df, label, data_num= 10000):\n",
    "    df1 = df.sample(n=min(data_num, len(df)), random_state=1004, replace=False)\n",
    "    for i in range(3):\n",
    "        make_dirs(f'{road_save_folders[i]}\\\\{label}')\n",
    "        make_dirs(f'{sat_save_folders[i]}\\\\{label}')\n",
    "        make_dirs(f'{dem_save_folders[i]}\\\\{label}')\n",
    "        df1['filename'] = df1.apply(lambda x: f'{x[\"lat\"]}_{x[\"lon\"]}', axis=1)\n",
    "        data_list = funcdict[str(i)](df1['filename'].values.tolist())\n",
    "        for idx in data_list:\n",
    "            road_src_path = f'{road_image_folder}/{idx}_net.png'\n",
    "            sat_src_path = f'{sat_image_folder}/{idx}.png'\n",
    "            dem_src_path = f'{dem_image_folder}/{idx}_dem.png'\n",
    "            road_dst_path = f'{road_save_folders[i]}/{label}/{idx}.png'\n",
    "            sat_dst_path = f'{sat_save_folders[i]}/{label}/{idx}.png'\n",
    "            dem_dst_path = f'{dem_save_folders[i]}/{label}/{idx}.png'\n",
    "            if os.path.exists(road_src_path) and os.path.exists(sat_src_path):\n",
    "                copyfile(road_src_path, road_dst_path)\n",
    "                copyfile(sat_src_path, sat_dst_path)\n",
    "                copyfile(dem_src_path, dem_dst_path)"
   ]
  },
  {
   "cell_type": "code",
   "execution_count": 3,
   "metadata": {},
   "outputs": [],
   "source": [
    "def split_3label_df(df, label):\n",
    "    import numpy as np\n",
    "    danger = df[df['위험도'] != 0.0]['위험도'].values.tolist()\n",
    "    q1 = np.quantile(danger, 0.75)\n",
    "    print(q1)\n",
    "    if label == 1:\n",
    "        return df[df['위험도'] == 0.0]\n",
    "    if label == 2:\n",
    "        return df[ (df['위험도'] >0.0)  &  (df['위험도'] <= q1)]\n",
    "    if label == 3:\n",
    "        return df[(df['위험도'] > q1)]"
   ]
  },
  {
   "cell_type": "code",
   "execution_count": 4,
   "metadata": {},
   "outputs": [
    {
     "name": "stdout",
     "output_type": "stream",
     "text": [
      "1.2561999999999998\n",
      "10362\n",
      "1.2561999999999998\n",
      "7782\n",
      "1.2561999999999998\n",
      "2580\n"
     ]
    }
   ],
   "source": [
    "def process( csv_path ):\n",
    "    import pandas as pd\n",
    "    df = pd.read_csv(csv_path, encoding='cp949', engine='python')\n",
    "    for label in range(1,4):\n",
    "        df2 = split_3label_df(df, label)\n",
    "        print(len(df2))\n",
    "        process_label( df2, label)\n",
    "    \n",
    "            \n",
    "process(csv_file)"
   ]
  }
 ],
 "metadata": {
  "kernelspec": {
   "display_name": "Python 3.8.11 ('base')",
   "language": "python",
   "name": "python3"
  },
  "language_info": {
   "codemirror_mode": {
    "name": "ipython",
    "version": 3
   },
   "file_extension": ".py",
   "mimetype": "text/x-python",
   "name": "python",
   "nbconvert_exporter": "python",
   "pygments_lexer": "ipython3",
   "version": "3.8.11"
  },
  "orig_nbformat": 4,
  "vscode": {
   "interpreter": {
    "hash": "af8e2bc38c47ad2eb2801b8a1df8ba266ffc32d6dc21ae3dca26080e3882f8b5"
   }
  }
 },
 "nbformat": 4,
 "nbformat_minor": 2
}
